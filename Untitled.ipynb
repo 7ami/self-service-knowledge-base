{
 "cells": [
  {
   "cell_type": "code",
   "execution_count": null,
   "id": "1b5241ea-5510-45e1-9ce7-e83aea0230ca",
   "metadata": {},
   "outputs": [],
   "source": []
  },
  {
   "cell_type": "code",
   "execution_count": 1,
   "id": "417c1bb9-c72c-4047-b475-42973b68e250",
   "metadata": {},
   "outputs": [
    {
     "name": "stdout",
     "output_type": "stream",
     "text": [
      "Defaulting to user installation because normal site-packages is not writeable\n",
      "Requirement already satisfied: pandas in c:\\users\\dell\\appdata\\roaming\\python\\python313\\site-packages (2.2.3)\n",
      "Requirement already satisfied: numpy in c:\\users\\dell\\appdata\\roaming\\python\\python313\\site-packages (2.2.3)\n",
      "Requirement already satisfied: nltk in c:\\users\\dell\\appdata\\roaming\\python\\python313\\site-packages (3.9.1)\n",
      "Requirement already satisfied: python-dateutil>=2.8.2 in c:\\users\\dell\\appdata\\roaming\\python\\python313\\site-packages (from pandas) (2.9.0.post0)\n",
      "Requirement already satisfied: pytz>=2020.1 in c:\\users\\dell\\appdata\\roaming\\python\\python313\\site-packages (from pandas) (2025.1)\n",
      "Requirement already satisfied: tzdata>=2022.7 in c:\\users\\dell\\appdata\\roaming\\python\\python313\\site-packages (from pandas) (2025.1)\n",
      "Requirement already satisfied: click in c:\\users\\dell\\appdata\\roaming\\python\\python313\\site-packages (from nltk) (8.1.8)\n",
      "Requirement already satisfied: joblib in c:\\users\\dell\\appdata\\roaming\\python\\python313\\site-packages (from nltk) (1.4.2)\n",
      "Requirement already satisfied: regex>=2021.8.3 in c:\\users\\dell\\appdata\\roaming\\python\\python313\\site-packages (from nltk) (2024.11.6)\n",
      "Requirement already satisfied: tqdm in c:\\users\\dell\\appdata\\roaming\\python\\python313\\site-packages (from nltk) (4.67.1)\n",
      "Requirement already satisfied: six>=1.5 in c:\\users\\dell\\appdata\\roaming\\python\\python313\\site-packages (from python-dateutil>=2.8.2->pandas) (1.17.0)\n",
      "Requirement already satisfied: colorama in c:\\users\\dell\\appdata\\roaming\\python\\python313\\site-packages (from click->nltk) (0.4.6)\n"
     ]
    }
   ],
   "source": [
    "!pip install pandas numpy nltk\n",
    "\n"
   ]
  },
  {
   "cell_type": "code",
   "execution_count": 2,
   "id": "a9d4106b-810a-4683-9d65-63e20cab9c27",
   "metadata": {},
   "outputs": [
    {
     "name": "stderr",
     "output_type": "stream",
     "text": [
      "[nltk_data] Downloading package stopwords to\n",
      "[nltk_data]     C:\\Users\\Dell\\AppData\\Roaming\\nltk_data...\n",
      "[nltk_data]   Package stopwords is already up-to-date!\n",
      "[nltk_data] Downloading package wordnet to\n",
      "[nltk_data]     C:\\Users\\Dell\\AppData\\Roaming\\nltk_data...\n",
      "[nltk_data]   Package wordnet is already up-to-date!\n"
     ]
    },
    {
     "data": {
      "text/plain": [
       "True"
      ]
     },
     "execution_count": 2,
     "metadata": {},
     "output_type": "execute_result"
    }
   ],
   "source": [
    "import pandas as pd\n",
    "import numpy as np\n",
    "import nltk\n",
    "\n",
    "# For text cleaning and NLP\n",
    "from nltk.corpus import stopwords\n",
    "from nltk.stem import WordNetLemmatizer\n",
    "\n",
    "# Download stopwords\n",
    "nltk.download('stopwords')\n",
    "nltk.download('wordnet')\n"
   ]
  },
  {
   "cell_type": "code",
   "execution_count": 3,
   "id": "4d70a3af-41a0-404d-bc56-38c628ba9389",
   "metadata": {},
   "outputs": [
    {
     "data": {
      "text/html": [
       "<div>\n",
       "<style scoped>\n",
       "    .dataframe tbody tr th:only-of-type {\n",
       "        vertical-align: middle;\n",
       "    }\n",
       "\n",
       "    .dataframe tbody tr th {\n",
       "        vertical-align: top;\n",
       "    }\n",
       "\n",
       "    .dataframe thead th {\n",
       "        text-align: right;\n",
       "    }\n",
       "</style>\n",
       "<table border=\"1\" class=\"dataframe\">\n",
       "  <thead>\n",
       "    <tr style=\"text-align: right;\">\n",
       "      <th></th>\n",
       "      <th>SEVERITY NAME</th>\n",
       "      <th>ISSUED BY</th>\n",
       "      <th>PROBLEM TYPE NAME</th>\n",
       "      <th>PROBLEM</th>\n",
       "      <th>SOLVED BY</th>\n",
       "      <th>CSR GROUP</th>\n",
       "      <th>ADDITIONAL INFO</th>\n",
       "      <th>SOLUTION</th>\n",
       "      <th>ACTUAL PROBLEM</th>\n",
       "      <th>SUPPORT TYPE</th>\n",
       "      <th>SUPPORT ZONE</th>\n",
       "      <th>ISSUED BY GROUP</th>\n",
       "      <th>SOLVED COMMENT</th>\n",
       "      <th>PLANCAT TYPE</th>\n",
       "      <th>Unnamed: 14</th>\n",
       "      <th>Unnamed: 15</th>\n",
       "      <th>Unnamed: 16</th>\n",
       "    </tr>\n",
       "  </thead>\n",
       "  <tbody>\n",
       "    <tr>\n",
       "      <th>0</th>\n",
       "      <td>Full Service Affected</td>\n",
       "      <td>aashika.shahi</td>\n",
       "      <td>Accounts Related Issue</td>\n",
       "      <td>Query about Packages..</td>\n",
       "      <td>rasmi.purja5</td>\n",
       "      <td>Account</td>\n",
       "      <td>NaN</td>\n",
       "      <td>Advance payment query</td>\n",
       "      <td>Query about Packages</td>\n",
       "      <td>Phone Support</td>\n",
       "      <td>GALKOT</td>\n",
       "      <td>Phone Support CSR</td>\n",
       "      <td>NaN</td>\n",
       "      <td>ATL</td>\n",
       "      <td>NaN</td>\n",
       "      <td>NaN</td>\n",
       "      <td>NaN</td>\n",
       "    </tr>\n",
       "    <tr>\n",
       "      <th>1</th>\n",
       "      <td>Limited Service</td>\n",
       "      <td>admin</td>\n",
       "      <td>No Internet Connection (FTTH)</td>\n",
       "      <td>ONU status offline..</td>\n",
       "      <td>rewant.lama</td>\n",
       "      <td>L2-FSCC</td>\n",
       "      <td>Offline.</td>\n",
       "      <td>Pole shifting/road expansion completed</td>\n",
       "      <td>now wire managed.</td>\n",
       "      <td>ONU status offline</td>\n",
       "      <td>Phone Support</td>\n",
       "      <td>DHUNGEDHARA</td>\n",
       "      <td>Phone Support CSR</td>\n",
       "      <td>NaN</td>\n",
       "      <td>ATL</td>\n",
       "      <td>NaN</td>\n",
       "      <td>NaN</td>\n",
       "    </tr>\n",
       "    <tr>\n",
       "      <th>2</th>\n",
       "      <td>Full Service Affected</td>\n",
       "      <td>srijana.sunar5</td>\n",
       "      <td>Accounts Related Issue</td>\n",
       "      <td>Account Status Query..</td>\n",
       "      <td>srijana.sunar5</td>\n",
       "      <td>Account</td>\n",
       "      <td>NaN</td>\n",
       "      <td>Informed user to visit branch\\t</td>\n",
       "      <td>Account Status Query</td>\n",
       "      <td>Phone Support</td>\n",
       "      <td>RASTRABANKCHOWK</td>\n",
       "      <td>Account</td>\n",
       "      <td>close</td>\n",
       "      <td>ATL</td>\n",
       "      <td>NaN</td>\n",
       "      <td>NaN</td>\n",
       "      <td>NaN</td>\n",
       "    </tr>\n",
       "    <tr>\n",
       "      <th>3</th>\n",
       "      <td>Full Service Affected</td>\n",
       "      <td>dewa.lamichhane</td>\n",
       "      <td>Accounts Related Issue</td>\n",
       "      <td>Client wants Discount...</td>\n",
       "      <td>ranjana.parajuli</td>\n",
       "      <td>Customer Care Unit</td>\n",
       "      <td>NaN</td>\n",
       "      <td>Discount not provided.</td>\n",
       "      <td>Client wants Discount.</td>\n",
       "      <td>Desk Support</td>\n",
       "      <td>PEPSICOLA</td>\n",
       "      <td>Phone Support CSR</td>\n",
       "      <td>paid</td>\n",
       "      <td>BTL</td>\n",
       "      <td>NaN</td>\n",
       "      <td>NaN</td>\n",
       "      <td>NaN</td>\n",
       "    </tr>\n",
       "    <tr>\n",
       "      <th>4</th>\n",
       "      <td>Full Service Affected</td>\n",
       "      <td>admin</td>\n",
       "      <td>Slow Internet Connection (FTTH)</td>\n",
       "      <td>Low power level recorded [&lt; -2..</td>\n",
       "      <td>sujan.maharjan</td>\n",
       "      <td>L2-FSCC</td>\n",
       "      <td>optical power level is low(-26 dbm)please do n...</td>\n",
       "      <td>Power level managed</td>\n",
       "      <td>Low power level recorded [&lt; -26 dbm]</td>\n",
       "      <td>Phone Support</td>\n",
       "      <td>BANEPA</td>\n",
       "      <td>Phone Support CSR</td>\n",
       "      <td>NaN</td>\n",
       "      <td>ATL</td>\n",
       "      <td>NaN</td>\n",
       "      <td>NaN</td>\n",
       "      <td>NaN</td>\n",
       "    </tr>\n",
       "  </tbody>\n",
       "</table>\n",
       "</div>"
      ],
      "text/plain": [
       "           SEVERITY NAME        ISSUED BY                PROBLEM TYPE NAME  \\\n",
       "0  Full Service Affected    aashika.shahi           Accounts Related Issue   \n",
       "1        Limited Service            admin    No Internet Connection (FTTH)   \n",
       "2  Full Service Affected   srijana.sunar5           Accounts Related Issue   \n",
       "3  Full Service Affected  dewa.lamichhane           Accounts Related Issue   \n",
       "4  Full Service Affected            admin  Slow Internet Connection (FTTH)   \n",
       "\n",
       "                            PROBLEM         SOLVED BY           CSR GROUP  \\\n",
       "0            Query about Packages..      rasmi.purja5             Account   \n",
       "1              ONU status offline..       rewant.lama             L2-FSCC   \n",
       "2            Account Status Query..    srijana.sunar5             Account   \n",
       "3          Client wants Discount...  ranjana.parajuli  Customer Care Unit   \n",
       "4  Low power level recorded [< -2..    sujan.maharjan             L2-FSCC   \n",
       "\n",
       "                                     ADDITIONAL INFO  \\\n",
       "0                                                NaN   \n",
       "1                                           Offline.   \n",
       "2                                                NaN   \n",
       "3                                                NaN   \n",
       "4  optical power level is low(-26 dbm)please do n...   \n",
       "\n",
       "                                  SOLUTION  \\\n",
       "0                    Advance payment query   \n",
       "1   Pole shifting/road expansion completed   \n",
       "2          Informed user to visit branch\\t   \n",
       "3                   Discount not provided.   \n",
       "4                      Power level managed   \n",
       "\n",
       "                         ACTUAL PROBLEM        SUPPORT TYPE     SUPPORT ZONE  \\\n",
       "0                  Query about Packages       Phone Support           GALKOT   \n",
       "1                     now wire managed.  ONU status offline    Phone Support   \n",
       "2                  Account Status Query       Phone Support  RASTRABANKCHOWK   \n",
       "3                Client wants Discount.        Desk Support        PEPSICOLA   \n",
       "4  Low power level recorded [< -26 dbm]       Phone Support           BANEPA   \n",
       "\n",
       "     ISSUED BY GROUP     SOLVED COMMENT PLANCAT TYPE Unnamed: 14 Unnamed: 15  \\\n",
       "0  Phone Support CSR                NaN          ATL         NaN         NaN   \n",
       "1        DHUNGEDHARA  Phone Support CSR          NaN         ATL         NaN   \n",
       "2            Account              close          ATL         NaN         NaN   \n",
       "3  Phone Support CSR               paid          BTL         NaN         NaN   \n",
       "4  Phone Support CSR                NaN          ATL         NaN         NaN   \n",
       "\n",
       "  Unnamed: 16  \n",
       "0         NaN  \n",
       "1         NaN  \n",
       "2         NaN  \n",
       "3         NaN  \n",
       "4         NaN  "
      ]
     },
     "execution_count": 3,
     "metadata": {},
     "output_type": "execute_result"
    }
   ],
   "source": [
    "# Load the CSV data into a pandas DataFrame with additional parsing settings\n",
    "file_path = 'wlink_data.csv'\n",
    "data = pd.read_csv(file_path, quotechar='\"', escapechar='\\\\')\n",
    "\n",
    "# Display the first few rows of the dataset to understand its structure\n",
    "data.head()\n"
   ]
  },
  {
   "cell_type": "code",
   "execution_count": 4,
   "id": "114d8314-b8a7-4f54-8a04-f4d826a0d145",
   "metadata": {},
   "outputs": [
    {
     "name": "stdout",
     "output_type": "stream",
     "text": [
      "Index(['SEVERITY NAME', 'ISSUED BY', 'PROBLEM TYPE NAME', 'PROBLEM',\n",
      "       'SOLVED BY', 'CSR GROUP', 'ADDITIONAL INFO', 'SOLUTION',\n",
      "       'ACTUAL PROBLEM', 'SUPPORT TYPE', 'SUPPORT ZONE', 'ISSUED BY GROUP',\n",
      "       'SOLVED COMMENT', 'PLANCAT TYPE', 'Unnamed: 14', 'Unnamed: 15',\n",
      "       'Unnamed: 16'],\n",
      "      dtype='object')\n"
     ]
    }
   ],
   "source": [
    "# Display column names\n",
    "print(data.columns)\n"
   ]
  },
  {
   "cell_type": "code",
   "execution_count": 5,
   "id": "d91303b8-dcdf-4a91-8fc4-360dcebfc6b9",
   "metadata": {},
   "outputs": [
    {
     "data": {
      "text/html": [
       "<div>\n",
       "<style scoped>\n",
       "    .dataframe tbody tr th:only-of-type {\n",
       "        vertical-align: middle;\n",
       "    }\n",
       "\n",
       "    .dataframe tbody tr th {\n",
       "        vertical-align: top;\n",
       "    }\n",
       "\n",
       "    .dataframe thead th {\n",
       "        text-align: right;\n",
       "    }\n",
       "</style>\n",
       "<table border=\"1\" class=\"dataframe\">\n",
       "  <thead>\n",
       "    <tr style=\"text-align: right;\">\n",
       "      <th></th>\n",
       "      <th>PROBLEM TYPE NAME</th>\n",
       "      <th>PROBLEM</th>\n",
       "      <th>ADDITIONAL INFO</th>\n",
       "      <th>SOLUTION</th>\n",
       "      <th>ACTUAL PROBLEM</th>\n",
       "      <th>SUPPORT TYPE</th>\n",
       "      <th>SOLVED COMMENT</th>\n",
       "    </tr>\n",
       "  </thead>\n",
       "  <tbody>\n",
       "    <tr>\n",
       "      <th>0</th>\n",
       "      <td>Accounts Related Issue</td>\n",
       "      <td>Query about Packages..</td>\n",
       "      <td>NaN</td>\n",
       "      <td>Advance payment query</td>\n",
       "      <td>Query about Packages</td>\n",
       "      <td>Phone Support</td>\n",
       "      <td>NaN</td>\n",
       "    </tr>\n",
       "    <tr>\n",
       "      <th>1</th>\n",
       "      <td>No Internet Connection (FTTH)</td>\n",
       "      <td>ONU status offline..</td>\n",
       "      <td>Offline.</td>\n",
       "      <td>Pole shifting/road expansion completed</td>\n",
       "      <td>now wire managed.</td>\n",
       "      <td>ONU status offline</td>\n",
       "      <td>Phone Support CSR</td>\n",
       "    </tr>\n",
       "    <tr>\n",
       "      <th>2</th>\n",
       "      <td>Accounts Related Issue</td>\n",
       "      <td>Account Status Query..</td>\n",
       "      <td>NaN</td>\n",
       "      <td>Informed user to visit branch\\t</td>\n",
       "      <td>Account Status Query</td>\n",
       "      <td>Phone Support</td>\n",
       "      <td>close</td>\n",
       "    </tr>\n",
       "    <tr>\n",
       "      <th>3</th>\n",
       "      <td>Accounts Related Issue</td>\n",
       "      <td>Client wants Discount...</td>\n",
       "      <td>NaN</td>\n",
       "      <td>Discount not provided.</td>\n",
       "      <td>Client wants Discount.</td>\n",
       "      <td>Desk Support</td>\n",
       "      <td>paid</td>\n",
       "    </tr>\n",
       "    <tr>\n",
       "      <th>4</th>\n",
       "      <td>Slow Internet Connection (FTTH)</td>\n",
       "      <td>Low power level recorded [&lt; -2..</td>\n",
       "      <td>optical power level is low(-26 dbm)please do n...</td>\n",
       "      <td>Power level managed</td>\n",
       "      <td>Low power level recorded [&lt; -26 dbm]</td>\n",
       "      <td>Phone Support</td>\n",
       "      <td>NaN</td>\n",
       "    </tr>\n",
       "  </tbody>\n",
       "</table>\n",
       "</div>"
      ],
      "text/plain": [
       "                 PROBLEM TYPE NAME                           PROBLEM  \\\n",
       "0           Accounts Related Issue            Query about Packages..   \n",
       "1    No Internet Connection (FTTH)              ONU status offline..   \n",
       "2           Accounts Related Issue            Account Status Query..   \n",
       "3           Accounts Related Issue          Client wants Discount...   \n",
       "4  Slow Internet Connection (FTTH)  Low power level recorded [< -2..   \n",
       "\n",
       "                                     ADDITIONAL INFO  \\\n",
       "0                                                NaN   \n",
       "1                                           Offline.   \n",
       "2                                                NaN   \n",
       "3                                                NaN   \n",
       "4  optical power level is low(-26 dbm)please do n...   \n",
       "\n",
       "                                  SOLUTION  \\\n",
       "0                    Advance payment query   \n",
       "1   Pole shifting/road expansion completed   \n",
       "2          Informed user to visit branch\\t   \n",
       "3                   Discount not provided.   \n",
       "4                      Power level managed   \n",
       "\n",
       "                         ACTUAL PROBLEM        SUPPORT TYPE     SOLVED COMMENT  \n",
       "0                  Query about Packages       Phone Support                NaN  \n",
       "1                     now wire managed.  ONU status offline  Phone Support CSR  \n",
       "2                  Account Status Query       Phone Support              close  \n",
       "3                Client wants Discount.        Desk Support               paid  \n",
       "4  Low power level recorded [< -26 dbm]       Phone Support                NaN  "
      ]
     },
     "execution_count": 5,
     "metadata": {},
     "output_type": "execute_result"
    }
   ],
   "source": [
    "\n",
    "# Drop irrelevant columns (if any). Adjust based on your data.\n",
    "columns_to_drop = ['SEVERITY NAME', 'ISSUED BY', 'SOLVED BY', 'CSR GROUP', 'SUPPORT ZONE', 'ISSUED BY GROUP', 'PLANCAT TYPE', 'Unnamed: 14', 'Unnamed: 15',\n",
    "       'Unnamed: 16']  # adjust the column names\n",
    "data = data.drop(columns=columns_to_drop, errors='ignore')\n",
    "\n",
    "\n",
    "# Check the data again\n",
    "data.head()\n"
   ]
  },
  {
   "cell_type": "code",
   "execution_count": 6,
   "id": "818db149-7d9f-492c-80c5-6f6479667072",
   "metadata": {},
   "outputs": [
    {
     "name": "stdout",
     "output_type": "stream",
     "text": [
      "                  PROBLEM TYPE NAME                           PROBLEM  \\\n",
      "0            Accounts Related Issue            Query about Packages..   \n",
      "1     No Internet Connection (FTTH)              ONU status offline..   \n",
      "2            Accounts Related Issue            Account Status Query..   \n",
      "3            Accounts Related Issue          Client wants Discount...   \n",
      "4   Slow Internet Connection (FTTH)  Low power level recorded [< -2..   \n",
      "..                              ...                               ...   \n",
      "95           Accounts Related Issue            IPTV Related Issues...   \n",
      "96              IPTV Related Issues  NetTV bonus not added after pa..   \n",
      "97                  General Inquiry                 Technical Query..   \n",
      "98                  General Inquiry                 Technical Query..   \n",
      "99                  General Inquiry                 Technical Query..   \n",
      "\n",
      "                                      ADDITIONAL INFO  \\\n",
      "0                                                 NaN   \n",
      "1                                            Offline.   \n",
      "2                                                 NaN   \n",
      "3                                                 NaN   \n",
      "4   optical power level is low(-26 dbm)please do n...   \n",
      "..                                                ...   \n",
      "95                      Auto close by sub tt:10416668   \n",
      "96                      Auto close by sub tt:10401572   \n",
      "97                      Auto close by sub tt:10363285   \n",
      "98                      Auto close by sub tt:10372371   \n",
      "99                      Auto close by sub tt:10352313   \n",
      "\n",
      "                                   SOLUTION  \\\n",
      "0                     Advance payment query   \n",
      "1    Pole shifting/road expansion completed   \n",
      "2           Informed user to visit branch\\t   \n",
      "3                    Discount not provided.   \n",
      "4                       Power level managed   \n",
      "..                                      ...   \n",
      "95                                      NaN   \n",
      "96                                      NaN   \n",
      "97                                      NaN   \n",
      "98                                      NaN   \n",
      "99                                      NaN   \n",
      "\n",
      "                          ACTUAL PROBLEM        SUPPORT TYPE  \\\n",
      "0                   Query about Packages       Phone Support   \n",
      "1                      now wire managed.  ONU status offline   \n",
      "2                   Account Status Query       Phone Support   \n",
      "3                 Client wants Discount.        Desk Support   \n",
      "4   Low power level recorded [< -26 dbm]       Phone Support   \n",
      "..                                   ...                 ...   \n",
      "95                  IPTV Related Issues.       Field Support   \n",
      "96   NetTV bonus not added after payment       Field Support   \n",
      "97                       Technical Query       Field Support   \n",
      "98                       Technical Query       Field Support   \n",
      "99                       Technical Query       Field Support   \n",
      "\n",
      "                                       SOLVED COMMENT  \n",
      "0                                                 NaN  \n",
      "1                                   Phone Support CSR  \n",
      "2                                               close  \n",
      "3                                                paid  \n",
      "4                                                 NaN  \n",
      "..                                                ...  \n",
      "95  provided req information about installation of...  \n",
      "96              package add vako raheynxa //add gareo  \n",
      "97                              verified/mac disabled  \n",
      "98                                                NaN  \n",
      "99                                                NaN  \n",
      "\n",
      "[100 rows x 7 columns]\n"
     ]
    }
   ],
   "source": [
    "\n",
    "print(data.head(100))"
   ]
  },
  {
   "cell_type": "code",
   "execution_count": 7,
   "id": "787e1542-b23a-4873-9102-ef430ea4a993",
   "metadata": {},
   "outputs": [
    {
     "name": "stdout",
     "output_type": "stream",
     "text": [
      "Missing data in each column:\n",
      "PROBLEM TYPE NAME      45\n",
      "PROBLEM                45\n",
      "ADDITIONAL INFO        94\n",
      "SOLUTION             1524\n",
      "ACTUAL PROBLEM         48\n",
      "SUPPORT TYPE           48\n",
      "SOLVED COMMENT        955\n",
      "dtype: int64\n"
     ]
    }
   ],
   "source": [
    "# Check for missing values in each column\n",
    "missing_data = data.isnull().sum()\n",
    "\n",
    "# Display the columns with the number of missing values\n",
    "print(\"Missing data in each column:\")\n",
    "print(missing_data)\n"
   ]
  },
  {
   "cell_type": "code",
   "execution_count": 8,
   "id": "9403e312-147b-424d-abf3-a0fd45a8c77e",
   "metadata": {},
   "outputs": [
    {
     "name": "stdout",
     "output_type": "stream",
     "text": [
      "                  PROBLEM TYPE NAME                           PROBLEM  \\\n",
      "0            Accounts Related Issue            Query about Packages..   \n",
      "1     No Internet Connection (FTTH)              ONU status offline..   \n",
      "2            Accounts Related Issue            Account Status Query..   \n",
      "3            Accounts Related Issue          Client wants Discount...   \n",
      "4   Slow Internet Connection (FTTH)  Low power level recorded [< -2..   \n",
      "..                              ...                               ...   \n",
      "95           Accounts Related Issue            IPTV Related Issues...   \n",
      "96              IPTV Related Issues  NetTV bonus not added after pa..   \n",
      "97                  General Inquiry                 Technical Query..   \n",
      "98                  General Inquiry                 Technical Query..   \n",
      "99                  General Inquiry                 Technical Query..   \n",
      "\n",
      "                                      ADDITIONAL INFO  \\\n",
      "0                                        Not provided   \n",
      "1                                            Offline.   \n",
      "2                                        Not provided   \n",
      "3                                        Not provided   \n",
      "4   optical power level is low(-26 dbm)please do n...   \n",
      "..                                                ...   \n",
      "95                      Auto close by sub tt:10416668   \n",
      "96                      Auto close by sub tt:10401572   \n",
      "97                      Auto close by sub tt:10363285   \n",
      "98                      Auto close by sub tt:10372371   \n",
      "99                      Auto close by sub tt:10352313   \n",
      "\n",
      "                                   SOLUTION  \\\n",
      "0                     Advance payment query   \n",
      "1    Pole shifting/road expansion completed   \n",
      "2           Informed user to visit branch\\t   \n",
      "3                    Discount not provided.   \n",
      "4                       Power level managed   \n",
      "..                                      ...   \n",
      "95                            Not available   \n",
      "96                            Not available   \n",
      "97                            Not available   \n",
      "98                            Not available   \n",
      "99                            Not available   \n",
      "\n",
      "                          ACTUAL PROBLEM        SUPPORT TYPE  \\\n",
      "0                   Query about Packages       Phone Support   \n",
      "1                      now wire managed.  ONU status offline   \n",
      "2                   Account Status Query       Phone Support   \n",
      "3                 Client wants Discount.        Desk Support   \n",
      "4   Low power level recorded [< -26 dbm]       Phone Support   \n",
      "..                                   ...                 ...   \n",
      "95                  IPTV Related Issues.       Field Support   \n",
      "96   NetTV bonus not added after payment       Field Support   \n",
      "97                       Technical Query       Field Support   \n",
      "98                       Technical Query       Field Support   \n",
      "99                       Technical Query       Field Support   \n",
      "\n",
      "                                       SOLVED COMMENT  \n",
      "0                                       Not available  \n",
      "1                                   Phone Support CSR  \n",
      "2                                               close  \n",
      "3                                                paid  \n",
      "4                                       Not available  \n",
      "..                                                ...  \n",
      "95  provided req information about installation of...  \n",
      "96              package add vako raheynxa //add gareo  \n",
      "97                              verified/mac disabled  \n",
      "98                                      Not available  \n",
      "99                                      Not available  \n",
      "\n",
      "[100 rows x 7 columns]\n"
     ]
    }
   ],
   "source": [
    "# Fill missing values in 'PROBLEM TYPE NAME' and 'PROBLEM' with 'Unknown'\n",
    "data['PROBLEM TYPE NAME'] = data['PROBLEM TYPE NAME'].fillna('Unknown')\n",
    "data['PROBLEM'] = data['PROBLEM'].fillna('Unknown')\n",
    "\n",
    "# Fill missing values in 'ADDITIONAL INFO' with 'Not provided'\n",
    "data['ADDITIONAL INFO'] = data['ADDITIONAL INFO'].fillna('Not provided')\n",
    "\n",
    "# Fill missing values in 'ACTUAL PROBLEM' and 'SUPPORT TYPE' with 'Unknown'\n",
    "data['ACTUAL PROBLEM'] = data['ACTUAL PROBLEM'].fillna('Unknown')\n",
    "data['SUPPORT TYPE'] = data['SUPPORT TYPE'].fillna('Unknown')\n",
    "\n",
    "# Fill missing values in 'SOLUTION' and 'SOLVED COMMENT' with 'Not available'\n",
    "data['SOLUTION'] = data['SOLUTION'].fillna('Not available')\n",
    "data['SOLVED COMMENT'] = data['SOLVED COMMENT'].fillna('Not available')\n",
    "\n",
    "# Display the updated data to check\n",
    "print(data.head(100))\n"
   ]
  },
  {
   "cell_type": "code",
   "execution_count": 9,
   "id": "a26ac8b3-6d46-4a0c-81b7-702ae2ffe942",
   "metadata": {},
   "outputs": [
    {
     "data": {
      "text/html": [
       "<div>\n",
       "<style scoped>\n",
       "    .dataframe tbody tr th:only-of-type {\n",
       "        vertical-align: middle;\n",
       "    }\n",
       "\n",
       "    .dataframe tbody tr th {\n",
       "        vertical-align: top;\n",
       "    }\n",
       "\n",
       "    .dataframe thead th {\n",
       "        text-align: right;\n",
       "    }\n",
       "</style>\n",
       "<table border=\"1\" class=\"dataframe\">\n",
       "  <thead>\n",
       "    <tr style=\"text-align: right;\">\n",
       "      <th></th>\n",
       "      <th>PROBLEM TYPE NAME</th>\n",
       "      <th>PROBLEM</th>\n",
       "      <th>ADDITIONAL INFO</th>\n",
       "      <th>SOLUTION</th>\n",
       "      <th>ACTUAL PROBLEM</th>\n",
       "      <th>SUPPORT TYPE</th>\n",
       "      <th>SOLVED COMMENT</th>\n",
       "    </tr>\n",
       "  </thead>\n",
       "  <tbody>\n",
       "    <tr>\n",
       "      <th>0</th>\n",
       "      <td>Accounts Related Issue</td>\n",
       "      <td>Query about Packages..</td>\n",
       "      <td>Not provided</td>\n",
       "      <td>Advance payment query</td>\n",
       "      <td>Query about Packages</td>\n",
       "      <td>Phone Support</td>\n",
       "      <td>Not available</td>\n",
       "    </tr>\n",
       "    <tr>\n",
       "      <th>1</th>\n",
       "      <td>No Internet Connection (FTTH)</td>\n",
       "      <td>ONU status offline..</td>\n",
       "      <td>Offline.</td>\n",
       "      <td>Pole shifting/road expansion completed</td>\n",
       "      <td>now wire managed.</td>\n",
       "      <td>ONU status offline</td>\n",
       "      <td>Phone Support CSR</td>\n",
       "    </tr>\n",
       "    <tr>\n",
       "      <th>2</th>\n",
       "      <td>Accounts Related Issue</td>\n",
       "      <td>Account Status Query..</td>\n",
       "      <td>Not provided</td>\n",
       "      <td>Informed user to visit branch\\t</td>\n",
       "      <td>Account Status Query</td>\n",
       "      <td>Phone Support</td>\n",
       "      <td>close</td>\n",
       "    </tr>\n",
       "    <tr>\n",
       "      <th>3</th>\n",
       "      <td>Accounts Related Issue</td>\n",
       "      <td>Client wants Discount...</td>\n",
       "      <td>Not provided</td>\n",
       "      <td>Discount not provided.</td>\n",
       "      <td>Client wants Discount.</td>\n",
       "      <td>Desk Support</td>\n",
       "      <td>paid</td>\n",
       "    </tr>\n",
       "    <tr>\n",
       "      <th>4</th>\n",
       "      <td>Slow Internet Connection (FTTH)</td>\n",
       "      <td>Low power level recorded [&lt; -2..</td>\n",
       "      <td>optical power level is low(-26 dbm)please do n...</td>\n",
       "      <td>Power level managed</td>\n",
       "      <td>Low power level recorded [&lt; -26 dbm]</td>\n",
       "      <td>Phone Support</td>\n",
       "      <td>Not available</td>\n",
       "    </tr>\n",
       "  </tbody>\n",
       "</table>\n",
       "</div>"
      ],
      "text/plain": [
       "                 PROBLEM TYPE NAME                           PROBLEM  \\\n",
       "0           Accounts Related Issue            Query about Packages..   \n",
       "1    No Internet Connection (FTTH)              ONU status offline..   \n",
       "2           Accounts Related Issue            Account Status Query..   \n",
       "3           Accounts Related Issue          Client wants Discount...   \n",
       "4  Slow Internet Connection (FTTH)  Low power level recorded [< -2..   \n",
       "\n",
       "                                     ADDITIONAL INFO  \\\n",
       "0                                       Not provided   \n",
       "1                                           Offline.   \n",
       "2                                       Not provided   \n",
       "3                                       Not provided   \n",
       "4  optical power level is low(-26 dbm)please do n...   \n",
       "\n",
       "                                  SOLUTION  \\\n",
       "0                    Advance payment query   \n",
       "1   Pole shifting/road expansion completed   \n",
       "2          Informed user to visit branch\\t   \n",
       "3                   Discount not provided.   \n",
       "4                      Power level managed   \n",
       "\n",
       "                         ACTUAL PROBLEM        SUPPORT TYPE     SOLVED COMMENT  \n",
       "0                  Query about Packages       Phone Support      Not available  \n",
       "1                     now wire managed.  ONU status offline  Phone Support CSR  \n",
       "2                  Account Status Query       Phone Support              close  \n",
       "3                Client wants Discount.        Desk Support               paid  \n",
       "4  Low power level recorded [< -26 dbm]       Phone Support      Not available  "
      ]
     },
     "execution_count": 9,
     "metadata": {},
     "output_type": "execute_result"
    }
   ],
   "source": [
    "# Check the data again\n",
    "data.head()"
   ]
  },
  {
   "cell_type": "code",
   "execution_count": 10,
   "id": "b2d37634-860e-41a3-b247-801cdefa59e8",
   "metadata": {},
   "outputs": [
    {
     "name": "stdout",
     "output_type": "stream",
     "text": [
      "Missing data in each column:\n",
      "PROBLEM TYPE NAME    0\n",
      "PROBLEM              0\n",
      "ADDITIONAL INFO      0\n",
      "SOLUTION             0\n",
      "ACTUAL PROBLEM       0\n",
      "SUPPORT TYPE         0\n",
      "SOLVED COMMENT       0\n",
      "dtype: int64\n"
     ]
    }
   ],
   "source": [
    "# Check for missing values in each column\n",
    "missing_data = data.isnull().sum()\n",
    "\n",
    "# Display the columns with the number of missing values\n",
    "print(\"Missing data in each column:\")\n",
    "print(missing_data)"
   ]
  },
  {
   "cell_type": "code",
   "execution_count": null,
   "id": "732a0548-bfd3-4301-962a-8a804f99a115",
   "metadata": {},
   "outputs": [],
   "source": []
  },
  {
   "cell_type": "code",
   "execution_count": 11,
   "id": "4cfdc6df-c9b4-4983-b5ad-f6cb052507bc",
   "metadata": {},
   "outputs": [
    {
     "name": "stderr",
     "output_type": "stream",
     "text": [
      "[nltk_data] Downloading package stopwords to\n",
      "[nltk_data]     C:\\Users\\Dell\\AppData\\Roaming\\nltk_data...\n",
      "[nltk_data]   Package stopwords is already up-to-date!\n",
      "[nltk_data] Downloading package wordnet to\n",
      "[nltk_data]     C:\\Users\\Dell\\AppData\\Roaming\\nltk_data...\n",
      "[nltk_data]   Package wordnet is already up-to-date!\n"
     ]
    }
   ],
   "source": [
    "import nltk\n",
    "from nltk.corpus import stopwords\n",
    "from nltk.stem import WordNetLemmatizer\n",
    "\n",
    "# Download the necessary resources if you haven't already\n",
    "nltk.download('stopwords')\n",
    "nltk.download('wordnet')\n",
    "\n",
    "# Initialize the lemmatizer and stop words list\n",
    "lemmatizer = WordNetLemmatizer()\n",
    "stop_words = set(stopwords.words('english'))\n",
    "\n",
    "# Define the text cleaning function\n",
    "def clean_text(text):\n",
    "    # Convert text to lowercase\n",
    "    text = text.lower()\n",
    "    \n",
    "    # Tokenize and remove stopwords, then lemmatize each word\n",
    "    text = ' '.join([lemmatizer.lemmatize(word) for word in text.split() if word not in stop_words])\n",
    "    \n",
    "    return text"
   ]
  },
  {
   "cell_type": "code",
   "execution_count": 12,
   "id": "198f6555-1ee9-42c9-9b1e-2c03c488bec4",
   "metadata": {},
   "outputs": [
    {
     "name": "stdout",
     "output_type": "stream",
     "text": [
      "Cleaned Combined Text:\n",
      "                                cleaned_combined_text\n",
      "0   account related issue query packages.. query p...\n",
      "1   internet connection (ftth) onu status offline....\n",
      "2   account related issue account status query.. a...\n",
      "3   account related issue client want discount... ...\n",
      "4   slow internet connection (ftth) low power leve...\n",
      "..                                                ...\n",
      "95  account related issue iptv related issues... i...\n",
      "96  iptv related issue nettv bonus added pa.. nett...\n",
      "97  general inquiry technical query.. technical qu...\n",
      "98  general inquiry technical query.. technical qu...\n",
      "99  general inquiry technical query.. technical qu...\n",
      "\n",
      "[100 rows x 1 columns]\n"
     ]
    }
   ],
   "source": [
    "# Combine all relevant columns into one text column for the model to use\n",
    "data['combined_text'] = (\n",
    "    data['PROBLEM TYPE NAME'] + \" \" +\n",
    "    data['PROBLEM'] + \" \" +\n",
    "    data['ACTUAL PROBLEM'] + \" \" +\n",
    "    data['SUPPORT TYPE'] + \" \" +\n",
    "    data['ADDITIONAL INFO'] + \" \" +\n",
    "    data['SOLVED COMMENT']\n",
    ")\n",
    "\n",
    "# Clean the combined text\n",
    "data['cleaned_combined_text'] = data['combined_text'].apply(clean_text)\n",
    "\n",
    "# Display the cleaned combined text to check the output\n",
    "print(\"Cleaned Combined Text:\")\n",
    "print(data[['cleaned_combined_text']].head(100))"
   ]
  },
  {
   "cell_type": "code",
   "execution_count": 13,
   "id": "310abc07-3c3a-4081-a8e0-ea1a7fffbe6b",
   "metadata": {},
   "outputs": [
    {
     "name": "stdout",
     "output_type": "stream",
     "text": [
      "Number of rows: 1588\n",
      "Number of columns: 9\n"
     ]
    }
   ],
   "source": [
    "# Check the number of rows and columns in the dataset\n",
    "print(f\"Number of rows: {data.shape[0]}\")\n",
    "print(f\"Number of columns: {data.shape[1]}\")\n"
   ]
  },
  {
   "cell_type": "code",
   "execution_count": 14,
   "id": "cb58095a-8d95-47aa-a91f-4b04cfb26c37",
   "metadata": {},
   "outputs": [
    {
     "name": "stdout",
     "output_type": "stream",
     "text": [
      "Index(['PROBLEM TYPE NAME', 'PROBLEM', 'ADDITIONAL INFO', 'SOLUTION',\n",
      "       'ACTUAL PROBLEM', 'SUPPORT TYPE', 'SOLVED COMMENT', 'combined_text',\n",
      "       'cleaned_combined_text'],\n",
      "      dtype='object')\n"
     ]
    }
   ],
   "source": [
    "# Display the column names of the dataset\n",
    "print(data.columns)\n"
   ]
  },
  {
   "cell_type": "code",
   "execution_count": 15,
   "id": "250f018b-1269-42f5-94d7-5dd74326877f",
   "metadata": {},
   "outputs": [
    {
     "name": "stdout",
     "output_type": "stream",
     "text": [
      "                  PROBLEM TYPE NAME                           PROBLEM  \\\n",
      "0            Accounts Related Issue            Query about Packages..   \n",
      "1     No Internet Connection (FTTH)              ONU status offline..   \n",
      "2            Accounts Related Issue            Account Status Query..   \n",
      "3            Accounts Related Issue          Client wants Discount...   \n",
      "4   Slow Internet Connection (FTTH)  Low power level recorded [< -2..   \n",
      "5   Slow Internet Connection (FTTH)  Low power level recorded [< -2..   \n",
      "6     No Internet Connection (FTTH)              ONU status offline..   \n",
      "7            Accounts Related Issue        Query about Compensation..   \n",
      "8            Accounts Related Issue        Query about Compensation..   \n",
      "9            Accounts Related Issue        Query about Compensation..   \n",
      "10           Accounts Related Issue        Query about Compensation..   \n",
      "11              IPTV Related Issues  Error Code 1598:No internet co..   \n",
      "12  Slow Internet Connection (FTTH)  User connected beyond at 5Ghz ..   \n",
      "13           Accounts Related Issue          Account extend request..   \n",
      "14           Accounts Related Issue          Client wants Discount...   \n",
      "15    No Internet Connection (FTTH)              ONU status offline..   \n",
      "16    No Internet Connection (FTTH)              ONU status offline..   \n",
      "17  Slow Internet Connection (FTTH)  Low power level recorded [< -2..   \n",
      "18    No Internet Connection (FTTH)              ONU status offline..   \n",
      "19    No Internet Connection (FTTH)              ONU status offline..   \n",
      "\n",
      "                                      ADDITIONAL INFO  \\\n",
      "0                                        Not provided   \n",
      "1                                            Offline.   \n",
      "2                                        Not provided   \n",
      "3                                        Not provided   \n",
      "4   optical power level is low(-26 dbm)please do n...   \n",
      "5   optical power level is low(-26 dbm)please do n...   \n",
      "6                                        Not provided   \n",
      "7                                        Not provided   \n",
      "8                                        Not provided   \n",
      "9                                        Not provided   \n",
      "10                                       Not provided   \n",
      "11                                       Not provided   \n",
      "12                                       Not provided   \n",
      "13                                       Not provided   \n",
      "14                                       Not provided   \n",
      "15                                       Not provided   \n",
      "16                                           Offline.   \n",
      "17  optical power level is low(-26 dbm)please do n...   \n",
      "18                                       Not provided   \n",
      "19                                           Offline.   \n",
      "\n",
      "                                           SOLUTION  \\\n",
      "0                             Advance payment query   \n",
      "1            Pole shifting/road expansion completed   \n",
      "2                   Informed user to visit branch\\t   \n",
      "3                            Discount not provided.   \n",
      "4                               Power level managed   \n",
      "5                               Power level managed   \n",
      "6                              Fiber Cable Changed    \n",
      "7   Issued task ticket to Retail Customer Care Unit   \n",
      "8   Issued task ticket to Retail Customer Care Unit   \n",
      "9   Issued task ticket to Retail Customer Care Unit   \n",
      "10  Issued task ticket to Retail Customer Care Unit   \n",
      "11                         STB rebooted.Now working   \n",
      "12                         Installed Beacon router.   \n",
      "13                           Complimentary Account.   \n",
      "14                               Discount Provided.   \n",
      "15                       User working automatically   \n",
      "16                       User working automatically   \n",
      "17                             Fiber cable changed    \n",
      "18    Bending loss on drop wire. Drop wire managed.   \n",
      "19    Bending loss on drop wire. Drop wire managed.   \n",
      "\n",
      "                            ACTUAL PROBLEM        SUPPORT TYPE  \\\n",
      "0                     Query about Packages       Phone Support   \n",
      "1                        now wire managed.  ONU status offline   \n",
      "2                     Account Status Query       Phone Support   \n",
      "3                   Client wants Discount.        Desk Support   \n",
      "4     Low power level recorded [< -26 dbm]       Phone Support   \n",
      "5     Low power level recorded [< -26 dbm]       Phone Support   \n",
      "6                       ONU status offline       Phone Support   \n",
      "7                 Query about Compensation       Phone Support   \n",
      "8                 Query about Compensation       Phone Support   \n",
      "9                 Query about Compensation       Phone Support   \n",
      "10                Query about Compensation       Phone Support   \n",
      "11  Error Code 1598:No internet connection       Phone Support   \n",
      "12  User connected beyond at 5Ghz coverage       Phone Support   \n",
      "13                  Account extend request        Desk Support   \n",
      "14                  Client wants Discount.        Desk Support   \n",
      "15                      ONU status offline       Phone Support   \n",
      "16                      ONU status offline       Phone Support   \n",
      "17    Low power level recorded [< -26 dbm]       Phone Support   \n",
      "18                      ONU status offline       Phone Support   \n",
      "19                      ONU status offline       Phone Support   \n",
      "\n",
      "       SOLVED COMMENT                                      combined_text  \\\n",
      "0       Not available  Accounts Related Issue Query about Packages.. ...   \n",
      "1   Phone Support CSR  No Internet Connection (FTTH) ONU status offli...   \n",
      "2               close  Accounts Related Issue Account Status Query.. ...   \n",
      "3                paid  Accounts Related Issue Client wants Discount.....   \n",
      "4       Not available  Slow Internet Connection (FTTH) Low power leve...   \n",
      "5       Not available  Slow Internet Connection (FTTH) Low power leve...   \n",
      "6       Not available  No Internet Connection (FTTH) ONU status offli...   \n",
      "7        on process    Accounts Related Issue Query about Compensatio...   \n",
      "8        on process    Accounts Related Issue Query about Compensatio...   \n",
      "9        on process    Accounts Related Issue Query about Compensatio...   \n",
      "10       on process    Accounts Related Issue Query about Compensatio...   \n",
      "11      Not available  IPTV Related Issues Error Code 1598:No interne...   \n",
      "12      Not available  Slow Internet Connection (FTTH) User connected...   \n",
      "13      Not available  Accounts Related Issue Account extend request....   \n",
      "14       already done  Accounts Related Issue Client wants Discount.....   \n",
      "15      Not available  No Internet Connection (FTTH) ONU status offli...   \n",
      "16      Not available  No Internet Connection (FTTH) ONU status offli...   \n",
      "17                  .  Slow Internet Connection (FTTH) Low power leve...   \n",
      "18      Not available  No Internet Connection (FTTH) ONU status offli...   \n",
      "19                  .  No Internet Connection (FTTH) ONU status offli...   \n",
      "\n",
      "                                cleaned_combined_text  \n",
      "0   account related issue query packages.. query p...  \n",
      "1   internet connection (ftth) onu status offline....  \n",
      "2   account related issue account status query.. a...  \n",
      "3   account related issue client want discount... ...  \n",
      "4   slow internet connection (ftth) low power leve...  \n",
      "5   slow internet connection (ftth) low power leve...  \n",
      "6   internet connection (ftth) onu status offline....  \n",
      "7   account related issue query compensation.. que...  \n",
      "8   account related issue query compensation.. que...  \n",
      "9   account related issue query compensation.. que...  \n",
      "10  account related issue query compensation.. que...  \n",
      "11  iptv related issue error code 1598:no internet...  \n",
      "12  slow internet connection (ftth) user connected...  \n",
      "13  account related issue account extend request.....  \n",
      "14  account related issue client want discount... ...  \n",
      "15  internet connection (ftth) onu status offline....  \n",
      "16  internet connection (ftth) onu status offline....  \n",
      "17  slow internet connection (ftth) low power leve...  \n",
      "18  internet connection (ftth) onu status offline....  \n",
      "19  internet connection (ftth) onu status offline....  \n"
     ]
    }
   ],
   "source": [
    "# Display the first 20 rows of the dataset after cleaning\n",
    "print(data.head(20))"
   ]
  },
  {
   "cell_type": "code",
   "execution_count": 16,
   "id": "5a9fa6df-4f29-4b9f-b17c-b227ae26c295",
   "metadata": {},
   "outputs": [
    {
     "name": "stdout",
     "output_type": "stream",
     "text": [
      "Cleaned data saved to: C:\\codes\\Wl\\cleaned_data.csv\n"
     ]
    },
    {
     "name": "stderr",
     "output_type": "stream",
     "text": [
      "<>:2: SyntaxWarning: invalid escape sequence '\\c'\n",
      "<>:2: SyntaxWarning: invalid escape sequence '\\c'\n",
      "C:\\Users\\Dell\\AppData\\Local\\Temp\\ipykernel_2900\\2257187528.py:2: SyntaxWarning: invalid escape sequence '\\c'\n",
      "  cleaned_file_path = 'C:\\codes\\Wl\\cleaned_data.csv'  # Modify the path\n"
     ]
    }
   ],
   "source": [
    "# Save the cleaned data to a local directory (adjust the path for your local system)\n",
    "cleaned_file_path = 'C:\\codes\\Wl\\cleaned_data.csv'  # Modify the path\n",
    "data.to_csv(cleaned_file_path, index=False)\n",
    "\n",
    "# Output the cleaned file path\n",
    "print(f\"Cleaned data saved to: {cleaned_file_path}\")\n"
   ]
  },
  {
   "cell_type": "code",
   "execution_count": 17,
   "id": "b1229734-9960-46bb-b3f4-f4e0790917cd",
   "metadata": {},
   "outputs": [
    {
     "name": "stdout",
     "output_type": "stream",
     "text": [
      "Defaulting to user installation because normal site-packages is not writeable\n",
      "Requirement already satisfied: transformers in c:\\users\\dell\\appdata\\roaming\\python\\python313\\site-packages (4.49.0)\n",
      "Requirement already satisfied: filelock in c:\\users\\dell\\appdata\\roaming\\python\\python313\\site-packages (from transformers) (3.17.0)\n",
      "Requirement already satisfied: huggingface-hub<1.0,>=0.26.0 in c:\\users\\dell\\appdata\\roaming\\python\\python313\\site-packages (from transformers) (0.29.2)\n",
      "Requirement already satisfied: numpy>=1.17 in c:\\users\\dell\\appdata\\roaming\\python\\python313\\site-packages (from transformers) (2.2.3)\n",
      "Requirement already satisfied: packaging>=20.0 in c:\\users\\dell\\appdata\\roaming\\python\\python313\\site-packages (from transformers) (24.2)\n",
      "Requirement already satisfied: pyyaml>=5.1 in c:\\users\\dell\\appdata\\roaming\\python\\python313\\site-packages (from transformers) (6.0.2)\n",
      "Requirement already satisfied: regex!=2019.12.17 in c:\\users\\dell\\appdata\\roaming\\python\\python313\\site-packages (from transformers) (2024.11.6)\n",
      "Requirement already satisfied: requests in c:\\users\\dell\\appdata\\roaming\\python\\python313\\site-packages (from transformers) (2.32.3)\n",
      "Requirement already satisfied: tokenizers<0.22,>=0.21 in c:\\users\\dell\\appdata\\roaming\\python\\python313\\site-packages (from transformers) (0.21.0)\n",
      "Requirement already satisfied: safetensors>=0.4.1 in c:\\users\\dell\\appdata\\roaming\\python\\python313\\site-packages (from transformers) (0.5.3)\n",
      "Requirement already satisfied: tqdm>=4.27 in c:\\users\\dell\\appdata\\roaming\\python\\python313\\site-packages (from transformers) (4.67.1)\n",
      "Requirement already satisfied: fsspec>=2023.5.0 in c:\\users\\dell\\appdata\\roaming\\python\\python313\\site-packages (from huggingface-hub<1.0,>=0.26.0->transformers) (2025.3.0)\n",
      "Requirement already satisfied: typing-extensions>=3.7.4.3 in c:\\users\\dell\\appdata\\roaming\\python\\python313\\site-packages (from huggingface-hub<1.0,>=0.26.0->transformers) (4.12.2)\n",
      "Requirement already satisfied: colorama in c:\\users\\dell\\appdata\\roaming\\python\\python313\\site-packages (from tqdm>=4.27->transformers) (0.4.6)\n",
      "Requirement already satisfied: charset-normalizer<4,>=2 in c:\\users\\dell\\appdata\\roaming\\python\\python313\\site-packages (from requests->transformers) (3.4.1)\n",
      "Requirement already satisfied: idna<4,>=2.5 in c:\\users\\dell\\appdata\\roaming\\python\\python313\\site-packages (from requests->transformers) (3.10)\n",
      "Requirement already satisfied: urllib3<3,>=1.21.1 in c:\\users\\dell\\appdata\\roaming\\python\\python313\\site-packages (from requests->transformers) (2.3.0)\n",
      "Requirement already satisfied: certifi>=2017.4.17 in c:\\users\\dell\\appdata\\roaming\\python\\python313\\site-packages (from requests->transformers) (2025.1.31)\n",
      "Defaulting to user installation because normal site-packages is not writeable\n",
      "Requirement already satisfied: faiss-cpu in c:\\users\\dell\\appdata\\roaming\\python\\python313\\site-packages (1.10.0)\n",
      "Requirement already satisfied: numpy<3.0,>=1.25.0 in c:\\users\\dell\\appdata\\roaming\\python\\python313\\site-packages (from faiss-cpu) (2.2.3)\n",
      "Requirement already satisfied: packaging in c:\\users\\dell\\appdata\\roaming\\python\\python313\\site-packages (from faiss-cpu) (24.2)\n",
      "Defaulting to user installation because normal site-packages is not writeable\n",
      "Requirement already satisfied: sentence-transformers in c:\\users\\dell\\appdata\\roaming\\python\\python313\\site-packages (3.4.1)\n",
      "Requirement already satisfied: transformers<5.0.0,>=4.41.0 in c:\\users\\dell\\appdata\\roaming\\python\\python313\\site-packages (from sentence-transformers) (4.49.0)\n",
      "Requirement already satisfied: tqdm in c:\\users\\dell\\appdata\\roaming\\python\\python313\\site-packages (from sentence-transformers) (4.67.1)\n",
      "Requirement already satisfied: torch>=1.11.0 in c:\\users\\dell\\appdata\\roaming\\python\\python313\\site-packages (from sentence-transformers) (2.6.0)\n",
      "Requirement already satisfied: scikit-learn in c:\\users\\dell\\appdata\\roaming\\python\\python313\\site-packages (from sentence-transformers) (1.6.1)\n",
      "Requirement already satisfied: scipy in c:\\users\\dell\\appdata\\roaming\\python\\python313\\site-packages (from sentence-transformers) (1.15.2)\n",
      "Requirement already satisfied: huggingface-hub>=0.20.0 in c:\\users\\dell\\appdata\\roaming\\python\\python313\\site-packages (from sentence-transformers) (0.29.2)\n",
      "Requirement already satisfied: Pillow in c:\\users\\dell\\appdata\\roaming\\python\\python313\\site-packages (from sentence-transformers) (11.1.0)\n",
      "Requirement already satisfied: filelock in c:\\users\\dell\\appdata\\roaming\\python\\python313\\site-packages (from huggingface-hub>=0.20.0->sentence-transformers) (3.17.0)\n",
      "Requirement already satisfied: fsspec>=2023.5.0 in c:\\users\\dell\\appdata\\roaming\\python\\python313\\site-packages (from huggingface-hub>=0.20.0->sentence-transformers) (2025.3.0)\n",
      "Requirement already satisfied: packaging>=20.9 in c:\\users\\dell\\appdata\\roaming\\python\\python313\\site-packages (from huggingface-hub>=0.20.0->sentence-transformers) (24.2)\n",
      "Requirement already satisfied: pyyaml>=5.1 in c:\\users\\dell\\appdata\\roaming\\python\\python313\\site-packages (from huggingface-hub>=0.20.0->sentence-transformers) (6.0.2)\n",
      "Requirement already satisfied: requests in c:\\users\\dell\\appdata\\roaming\\python\\python313\\site-packages (from huggingface-hub>=0.20.0->sentence-transformers) (2.32.3)\n",
      "Requirement already satisfied: typing-extensions>=3.7.4.3 in c:\\users\\dell\\appdata\\roaming\\python\\python313\\site-packages (from huggingface-hub>=0.20.0->sentence-transformers) (4.12.2)\n",
      "Requirement already satisfied: networkx in c:\\users\\dell\\appdata\\roaming\\python\\python313\\site-packages (from torch>=1.11.0->sentence-transformers) (3.4.2)\n",
      "Requirement already satisfied: jinja2 in c:\\users\\dell\\appdata\\roaming\\python\\python313\\site-packages (from torch>=1.11.0->sentence-transformers) (3.1.6)\n",
      "Requirement already satisfied: setuptools in c:\\users\\dell\\appdata\\roaming\\python\\python313\\site-packages (from torch>=1.11.0->sentence-transformers) (76.0.0)\n",
      "Requirement already satisfied: sympy==1.13.1 in c:\\users\\dell\\appdata\\roaming\\python\\python313\\site-packages (from torch>=1.11.0->sentence-transformers) (1.13.1)\n",
      "Requirement already satisfied: mpmath<1.4,>=1.1.0 in c:\\users\\dell\\appdata\\roaming\\python\\python313\\site-packages (from sympy==1.13.1->torch>=1.11.0->sentence-transformers) (1.3.0)\n",
      "Requirement already satisfied: colorama in c:\\users\\dell\\appdata\\roaming\\python\\python313\\site-packages (from tqdm->sentence-transformers) (0.4.6)\n",
      "Requirement already satisfied: numpy>=1.17 in c:\\users\\dell\\appdata\\roaming\\python\\python313\\site-packages (from transformers<5.0.0,>=4.41.0->sentence-transformers) (2.2.3)\n",
      "Requirement already satisfied: regex!=2019.12.17 in c:\\users\\dell\\appdata\\roaming\\python\\python313\\site-packages (from transformers<5.0.0,>=4.41.0->sentence-transformers) (2024.11.6)\n",
      "Requirement already satisfied: tokenizers<0.22,>=0.21 in c:\\users\\dell\\appdata\\roaming\\python\\python313\\site-packages (from transformers<5.0.0,>=4.41.0->sentence-transformers) (0.21.0)\n",
      "Requirement already satisfied: safetensors>=0.4.1 in c:\\users\\dell\\appdata\\roaming\\python\\python313\\site-packages (from transformers<5.0.0,>=4.41.0->sentence-transformers) (0.5.3)\n",
      "Requirement already satisfied: joblib>=1.2.0 in c:\\users\\dell\\appdata\\roaming\\python\\python313\\site-packages (from scikit-learn->sentence-transformers) (1.4.2)\n",
      "Requirement already satisfied: threadpoolctl>=3.1.0 in c:\\users\\dell\\appdata\\roaming\\python\\python313\\site-packages (from scikit-learn->sentence-transformers) (3.5.0)\n",
      "Requirement already satisfied: MarkupSafe>=2.0 in c:\\users\\dell\\appdata\\roaming\\python\\python313\\site-packages (from jinja2->torch>=1.11.0->sentence-transformers) (3.0.2)\n",
      "Requirement already satisfied: charset-normalizer<4,>=2 in c:\\users\\dell\\appdata\\roaming\\python\\python313\\site-packages (from requests->huggingface-hub>=0.20.0->sentence-transformers) (3.4.1)\n",
      "Requirement already satisfied: idna<4,>=2.5 in c:\\users\\dell\\appdata\\roaming\\python\\python313\\site-packages (from requests->huggingface-hub>=0.20.0->sentence-transformers) (3.10)\n",
      "Requirement already satisfied: urllib3<3,>=1.21.1 in c:\\users\\dell\\appdata\\roaming\\python\\python313\\site-packages (from requests->huggingface-hub>=0.20.0->sentence-transformers) (2.3.0)\n",
      "Requirement already satisfied: certifi>=2017.4.17 in c:\\users\\dell\\appdata\\roaming\\python\\python313\\site-packages (from requests->huggingface-hub>=0.20.0->sentence-transformers) (2025.1.31)\n"
     ]
    }
   ],
   "source": [
    "!pip install transformers\n",
    "!pip install faiss-cpu\n",
    "!pip install sentence-transformers\n"
   ]
  },
  {
   "cell_type": "code",
   "execution_count": 18,
   "id": "bfc9161c-4ff8-46a3-bc83-991f028292cb",
   "metadata": {},
   "outputs": [
    {
     "name": "stdout",
     "output_type": "stream",
     "text": [
      "                 PROBLEM TYPE NAME                           PROBLEM  \\\n",
      "0           Accounts Related Issue            Query about Packages..   \n",
      "1    No Internet Connection (FTTH)              ONU status offline..   \n",
      "2           Accounts Related Issue            Account Status Query..   \n",
      "3           Accounts Related Issue          Client wants Discount...   \n",
      "4  Slow Internet Connection (FTTH)  Low power level recorded [< -2..   \n",
      "\n",
      "                                     ADDITIONAL INFO  \\\n",
      "0                                       Not provided   \n",
      "1                                           Offline.   \n",
      "2                                       Not provided   \n",
      "3                                       Not provided   \n",
      "4  optical power level is low(-26 dbm)please do n...   \n",
      "\n",
      "                                  SOLUTION  \\\n",
      "0                    Advance payment query   \n",
      "1   Pole shifting/road expansion completed   \n",
      "2          Informed user to visit branch\\t   \n",
      "3                   Discount not provided.   \n",
      "4                      Power level managed   \n",
      "\n",
      "                         ACTUAL PROBLEM        SUPPORT TYPE  \\\n",
      "0                  Query about Packages       Phone Support   \n",
      "1                     now wire managed.  ONU status offline   \n",
      "2                  Account Status Query       Phone Support   \n",
      "3                Client wants Discount.        Desk Support   \n",
      "4  Low power level recorded [< -26 dbm]       Phone Support   \n",
      "\n",
      "      SOLVED COMMENT                                      combined_text  \\\n",
      "0      Not available  Accounts Related Issue Query about Packages.. ...   \n",
      "1  Phone Support CSR  No Internet Connection (FTTH) ONU status offli...   \n",
      "2              close  Accounts Related Issue Account Status Query.. ...   \n",
      "3               paid  Accounts Related Issue Client wants Discount.....   \n",
      "4      Not available  Slow Internet Connection (FTTH) Low power leve...   \n",
      "\n",
      "                               cleaned_combined_text  \n",
      "0  account related issue query packages.. query p...  \n",
      "1  internet connection (ftth) onu status offline....  \n",
      "2  account related issue account status query.. a...  \n",
      "3  account related issue client want discount... ...  \n",
      "4  slow internet connection (ftth) low power leve...  \n"
     ]
    }
   ],
   "source": [
    "import pandas as pd\n",
    "\n",
    "# Load the cleaned data CSV file into a pandas DataFrame\n",
    "file_path = 'cleaned_data.csv'  # Adjust this path if needed\n",
    "data = pd.read_csv(file_path)\n",
    "\n",
    "# Check the first few rows of the data to verify it's loaded correctly\n",
    "print(data.head())\n"
   ]
  },
  {
   "cell_type": "code",
   "execution_count": 19,
   "id": "7d53e25f-ae79-4265-a84d-f80515b7c4cd",
   "metadata": {},
   "outputs": [
    {
     "name": "stdout",
     "output_type": "stream",
     "text": [
      "Defaulting to user installation because normal site-packages is not writeable\n",
      "Requirement already satisfied: typing_extensions in c:\\users\\dell\\appdata\\roaming\\python\\python313\\site-packages (4.12.2)\n"
     ]
    }
   ],
   "source": [
    "!pip install --upgrade typing_extensions\n"
   ]
  },
  {
   "cell_type": "code",
   "execution_count": 20,
   "id": "65ad978f-0d81-4041-bb51-bb3a3a2d2e62",
   "metadata": {},
   "outputs": [
    {
     "name": "stdout",
     "output_type": "stream",
     "text": [
      "Defaulting to user installation because normal site-packages is not writeable\n",
      "Requirement already satisfied: torch in c:\\users\\dell\\appdata\\roaming\\python\\python313\\site-packages (2.6.0)\n",
      "Requirement already satisfied: filelock in c:\\users\\dell\\appdata\\roaming\\python\\python313\\site-packages (from torch) (3.17.0)\n",
      "Requirement already satisfied: typing-extensions>=4.10.0 in c:\\users\\dell\\appdata\\roaming\\python\\python313\\site-packages (from torch) (4.12.2)\n",
      "Requirement already satisfied: networkx in c:\\users\\dell\\appdata\\roaming\\python\\python313\\site-packages (from torch) (3.4.2)\n",
      "Requirement already satisfied: jinja2 in c:\\users\\dell\\appdata\\roaming\\python\\python313\\site-packages (from torch) (3.1.6)\n",
      "Requirement already satisfied: fsspec in c:\\users\\dell\\appdata\\roaming\\python\\python313\\site-packages (from torch) (2025.3.0)\n",
      "Requirement already satisfied: setuptools in c:\\users\\dell\\appdata\\roaming\\python\\python313\\site-packages (from torch) (76.0.0)\n",
      "Requirement already satisfied: sympy==1.13.1 in c:\\users\\dell\\appdata\\roaming\\python\\python313\\site-packages (from torch) (1.13.1)\n",
      "Requirement already satisfied: mpmath<1.4,>=1.1.0 in c:\\users\\dell\\appdata\\roaming\\python\\python313\\site-packages (from sympy==1.13.1->torch) (1.3.0)\n",
      "Requirement already satisfied: MarkupSafe>=2.0 in c:\\users\\dell\\appdata\\roaming\\python\\python313\\site-packages (from jinja2->torch) (3.0.2)\n"
     ]
    }
   ],
   "source": [
    "!pip install torch\n"
   ]
  },
  {
   "cell_type": "code",
   "execution_count": 21,
   "id": "04047d3f-6956-4244-a78a-e33014a5023a",
   "metadata": {},
   "outputs": [
    {
     "name": "stdout",
     "output_type": "stream",
     "text": [
      "Defaulting to user installation because normal site-packages is not writeable\n",
      "Requirement already satisfied: typing_extensions in c:\\users\\dell\\appdata\\roaming\\python\\python313\\site-packages (4.12.2)\n",
      "Defaulting to user installation because normal site-packages is not writeable\n",
      "Requirement already satisfied: torch in c:\\users\\dell\\appdata\\roaming\\python\\python313\\site-packages (2.6.0)\n",
      "Requirement already satisfied: filelock in c:\\users\\dell\\appdata\\roaming\\python\\python313\\site-packages (from torch) (3.17.0)\n",
      "Requirement already satisfied: typing-extensions>=4.10.0 in c:\\users\\dell\\appdata\\roaming\\python\\python313\\site-packages (from torch) (4.12.2)\n",
      "Requirement already satisfied: networkx in c:\\users\\dell\\appdata\\roaming\\python\\python313\\site-packages (from torch) (3.4.2)\n",
      "Requirement already satisfied: jinja2 in c:\\users\\dell\\appdata\\roaming\\python\\python313\\site-packages (from torch) (3.1.6)\n",
      "Requirement already satisfied: fsspec in c:\\users\\dell\\appdata\\roaming\\python\\python313\\site-packages (from torch) (2025.3.0)\n",
      "Requirement already satisfied: setuptools in c:\\users\\dell\\appdata\\roaming\\python\\python313\\site-packages (from torch) (76.0.0)\n",
      "Requirement already satisfied: sympy==1.13.1 in c:\\users\\dell\\appdata\\roaming\\python\\python313\\site-packages (from torch) (1.13.1)\n",
      "Requirement already satisfied: mpmath<1.4,>=1.1.0 in c:\\users\\dell\\appdata\\roaming\\python\\python313\\site-packages (from sympy==1.13.1->torch) (1.3.0)\n",
      "Requirement already satisfied: MarkupSafe>=2.0 in c:\\users\\dell\\appdata\\roaming\\python\\python313\\site-packages (from jinja2->torch) (3.0.2)\n"
     ]
    }
   ],
   "source": [
    "!pip install --upgrade typing_extensions\n",
    "!pip install --upgrade torch\n"
   ]
  },
  {
   "cell_type": "code",
   "execution_count": 22,
   "id": "d1a92e59-6768-4798-9abf-6fba06ed4285",
   "metadata": {},
   "outputs": [
    {
     "name": "stdout",
     "output_type": "stream",
     "text": [
      "Defaulting to user installation because normal site-packages is not writeable\n",
      "Requirement already satisfied: pip in c:\\users\\dell\\appdata\\roaming\\python\\python313\\site-packages (25.0.1)\n"
     ]
    }
   ],
   "source": [
    "!python -m pip install --upgrade pip\n"
   ]
  },
  {
   "cell_type": "code",
   "execution_count": 23,
   "id": "2a4f0a27-aeca-4868-a8fb-1fa955d5e8c4",
   "metadata": {},
   "outputs": [
    {
     "name": "stdout",
     "output_type": "stream",
     "text": [
      "Defaulting to user installation because normal site-packages is not writeable\n",
      "Requirement already satisfied: typing_extensions in c:\\users\\dell\\appdata\\roaming\\python\\python313\\site-packages (4.12.2)\n",
      "Defaulting to user installation because normal site-packages is not writeable\n",
      "Requirement already satisfied: torch in c:\\users\\dell\\appdata\\roaming\\python\\python313\\site-packages (2.6.0)\n",
      "Requirement already satisfied: filelock in c:\\users\\dell\\appdata\\roaming\\python\\python313\\site-packages (from torch) (3.17.0)\n",
      "Requirement already satisfied: typing-extensions>=4.10.0 in c:\\users\\dell\\appdata\\roaming\\python\\python313\\site-packages (from torch) (4.12.2)\n",
      "Requirement already satisfied: networkx in c:\\users\\dell\\appdata\\roaming\\python\\python313\\site-packages (from torch) (3.4.2)\n",
      "Requirement already satisfied: jinja2 in c:\\users\\dell\\appdata\\roaming\\python\\python313\\site-packages (from torch) (3.1.6)\n",
      "Requirement already satisfied: fsspec in c:\\users\\dell\\appdata\\roaming\\python\\python313\\site-packages (from torch) (2025.3.0)\n",
      "Requirement already satisfied: setuptools in c:\\users\\dell\\appdata\\roaming\\python\\python313\\site-packages (from torch) (76.0.0)\n",
      "Requirement already satisfied: sympy==1.13.1 in c:\\users\\dell\\appdata\\roaming\\python\\python313\\site-packages (from torch) (1.13.1)\n",
      "Requirement already satisfied: mpmath<1.4,>=1.1.0 in c:\\users\\dell\\appdata\\roaming\\python\\python313\\site-packages (from sympy==1.13.1->torch) (1.3.0)\n",
      "Requirement already satisfied: MarkupSafe>=2.0 in c:\\users\\dell\\appdata\\roaming\\python\\python313\\site-packages (from jinja2->torch) (3.0.2)\n"
     ]
    }
   ],
   "source": [
    "!pip install --upgrade typing_extensions\n",
    "!pip install --upgrade torch\n"
   ]
  },
  {
   "cell_type": "code",
   "execution_count": 24,
   "id": "c93a1f64-ae1d-4963-97a3-bf022556cfba",
   "metadata": {},
   "outputs": [
    {
     "name": "stdout",
     "output_type": "stream",
     "text": [
      "Defaulting to user installation because normal site-packages is not writeable\n",
      "Note: you may need to restart the kernel to use updated packages.\n"
     ]
    },
    {
     "name": "stderr",
     "output_type": "stream",
     "text": [
      "ERROR: Could not find a version that satisfies the requirement torch==1.8.0 (from versions: 2.6.0)\n",
      "ERROR: No matching distribution found for torch==1.8.0\n"
     ]
    }
   ],
   "source": [
    "pip install torch==1.8.0 transformers==4.5.0\n"
   ]
  },
  {
   "cell_type": "code",
   "execution_count": 42,
   "id": "562048b3-6ee6-4324-bddf-1bb33fdb3004",
   "metadata": {},
   "outputs": [
    {
     "name": "stdout",
     "output_type": "stream",
     "text": [
      "✅ Embeddings saved as 'embeddings.npy'\n"
     ]
    }
   ],
   "source": [
    "from transformers import BertTokenizer, BertModel\n",
    "import torch\n",
    "import numpy as np\n",
    "\n",
    "# Initialize BERT tokenizer and model\n",
    "tokenizer = BertTokenizer.from_pretrained('bert-base-uncased')\n",
    "model = BertModel.from_pretrained('bert-base-uncased')\n",
    "\n",
    "# Load your dataset (Ensure 'data' is loaded before running this)\n",
    "texts = data['cleaned_combined_text'].tolist()\n",
    "\n",
    "# Tokenize and encode texts\n",
    "inputs = tokenizer(texts, padding=True, truncation=True, return_tensors='pt', max_length=128)\n",
    "\n",
    "# Move to GPU if available\n",
    "if torch.cuda.is_available():\n",
    "    inputs = {key: val.to('cuda') for key, val in inputs.items()}\n",
    "    model.to('cuda')\n",
    "\n",
    "# Generate embeddings\n",
    "with torch.no_grad():\n",
    "    outputs = model(**inputs)\n",
    "\n",
    "# Extract CLS token embeddings\n",
    "embeddings = outputs.last_hidden_state[:, 0, :].detach().cpu().numpy()\n",
    "\n",
    "# Save embeddings\n",
    "np.save(\"embeddings.npy\", embeddings)\n",
    "print(\"✅ Embeddings saved as 'embeddings.npy'\")\n"
   ]
  },
  {
   "cell_type": "code",
   "execution_count": 43,
   "id": "768f6b54-43e5-4cb4-989b-e56371e7ba82",
   "metadata": {},
   "outputs": [
    {
     "name": "stdout",
     "output_type": "stream",
     "text": [
      "Successfully imported TypeIs from typing_extensions.\n",
      "Successfully imported torch.\n",
      "Successfully imported BertTokenizer and BertModel from transformers.\n"
     ]
    }
   ],
   "source": [
    "try:\n",
    "    from typing_extensions import TypeIs\n",
    "    print(\"Successfully imported TypeIs from typing_extensions.\")\n",
    "except ImportError as e:\n",
    "    print(f\"Failed to import TypeIs: {e}\")\n",
    "\n",
    "try:\n",
    "    import torch\n",
    "    print(\"Successfully imported torch.\")\n",
    "except ImportError as e:\n",
    "    print(f\"Failed to import torch: {e}\")\n",
    "\n",
    "try:\n",
    "    from transformers import BertTokenizer, BertModel\n",
    "    print(\"Successfully imported BertTokenizer and BertModel from transformers.\")\n",
    "except ImportError as e:\n",
    "    print(f\"Failed to import from transformers: {e}\")\n"
   ]
  },
  {
   "cell_type": "code",
   "execution_count": 44,
   "id": "3dac5c36-99c0-4772-a3b5-436f1d644d18",
   "metadata": {},
   "outputs": [
    {
     "name": "stdout",
     "output_type": "stream",
     "text": [
      "Defaulting to user installation because normal site-packages is not writeable\n",
      "Requirement already satisfied: jupyter in c:\\users\\dell\\appdata\\roaming\\python\\python313\\site-packages (1.1.1)\n",
      "Requirement already satisfied: ipywidgets in c:\\users\\dell\\appdata\\roaming\\python\\python313\\site-packages (8.1.5)\n",
      "Requirement already satisfied: notebook in c:\\users\\dell\\appdata\\roaming\\python\\python313\\site-packages (from jupyter) (7.3.2)\n",
      "Requirement already satisfied: jupyter-console in c:\\users\\dell\\appdata\\roaming\\python\\python313\\site-packages (from jupyter) (6.6.3)\n",
      "Requirement already satisfied: nbconvert in c:\\users\\dell\\appdata\\roaming\\python\\python313\\site-packages (from jupyter) (7.16.6)\n",
      "Requirement already satisfied: ipykernel in c:\\users\\dell\\appdata\\roaming\\python\\python313\\site-packages (from jupyter) (6.29.5)\n",
      "Requirement already satisfied: jupyterlab in c:\\users\\dell\\appdata\\roaming\\python\\python313\\site-packages (from jupyter) (4.3.5)\n",
      "Requirement already satisfied: comm>=0.1.3 in c:\\users\\dell\\appdata\\roaming\\python\\python313\\site-packages (from ipywidgets) (0.2.2)\n",
      "Requirement already satisfied: ipython>=6.1.0 in c:\\users\\dell\\appdata\\roaming\\python\\python313\\site-packages (from ipywidgets) (9.0.2)\n",
      "Requirement already satisfied: traitlets>=4.3.1 in c:\\users\\dell\\appdata\\roaming\\python\\python313\\site-packages (from ipywidgets) (5.14.3)\n",
      "Requirement already satisfied: widgetsnbextension~=4.0.12 in c:\\users\\dell\\appdata\\roaming\\python\\python313\\site-packages (from ipywidgets) (4.0.13)\n",
      "Requirement already satisfied: jupyterlab-widgets~=3.0.12 in c:\\users\\dell\\appdata\\roaming\\python\\python313\\site-packages (from ipywidgets) (3.0.13)\n",
      "Requirement already satisfied: colorama in c:\\users\\dell\\appdata\\roaming\\python\\python313\\site-packages (from ipython>=6.1.0->ipywidgets) (0.4.6)\n",
      "Requirement already satisfied: decorator in c:\\users\\dell\\appdata\\roaming\\python\\python313\\site-packages (from ipython>=6.1.0->ipywidgets) (5.2.1)\n",
      "Requirement already satisfied: ipython-pygments-lexers in c:\\users\\dell\\appdata\\roaming\\python\\python313\\site-packages (from ipython>=6.1.0->ipywidgets) (1.1.1)\n",
      "Requirement already satisfied: jedi>=0.16 in c:\\users\\dell\\appdata\\roaming\\python\\python313\\site-packages (from ipython>=6.1.0->ipywidgets) (0.19.2)\n",
      "Requirement already satisfied: matplotlib-inline in c:\\users\\dell\\appdata\\roaming\\python\\python313\\site-packages (from ipython>=6.1.0->ipywidgets) (0.1.7)\n",
      "Requirement already satisfied: prompt_toolkit<3.1.0,>=3.0.41 in c:\\users\\dell\\appdata\\roaming\\python\\python313\\site-packages (from ipython>=6.1.0->ipywidgets) (3.0.50)\n",
      "Requirement already satisfied: pygments>=2.4.0 in c:\\users\\dell\\appdata\\roaming\\python\\python313\\site-packages (from ipython>=6.1.0->ipywidgets) (2.19.1)\n",
      "Requirement already satisfied: stack_data in c:\\users\\dell\\appdata\\roaming\\python\\python313\\site-packages (from ipython>=6.1.0->ipywidgets) (0.6.3)\n",
      "Requirement already satisfied: debugpy>=1.6.5 in c:\\users\\dell\\appdata\\roaming\\python\\python313\\site-packages (from ipykernel->jupyter) (1.8.13)\n",
      "Requirement already satisfied: jupyter-client>=6.1.12 in c:\\users\\dell\\appdata\\roaming\\python\\python313\\site-packages (from ipykernel->jupyter) (8.6.3)\n",
      "Requirement already satisfied: jupyter-core!=5.0.*,>=4.12 in c:\\users\\dell\\appdata\\roaming\\python\\python313\\site-packages (from ipykernel->jupyter) (5.7.2)\n",
      "Requirement already satisfied: nest-asyncio in c:\\users\\dell\\appdata\\roaming\\python\\python313\\site-packages (from ipykernel->jupyter) (1.6.0)\n",
      "Requirement already satisfied: packaging in c:\\users\\dell\\appdata\\roaming\\python\\python313\\site-packages (from ipykernel->jupyter) (24.2)\n",
      "Requirement already satisfied: psutil in c:\\users\\dell\\appdata\\roaming\\python\\python313\\site-packages (from ipykernel->jupyter) (7.0.0)\n",
      "Requirement already satisfied: pyzmq>=24 in c:\\users\\dell\\appdata\\roaming\\python\\python313\\site-packages (from ipykernel->jupyter) (26.2.1)\n",
      "Requirement already satisfied: tornado>=6.1 in c:\\users\\dell\\appdata\\roaming\\python\\python313\\site-packages (from ipykernel->jupyter) (6.4.2)\n",
      "Requirement already satisfied: async-lru>=1.0.0 in c:\\users\\dell\\appdata\\roaming\\python\\python313\\site-packages (from jupyterlab->jupyter) (2.0.4)\n",
      "Requirement already satisfied: httpx>=0.25.0 in c:\\users\\dell\\appdata\\roaming\\python\\python313\\site-packages (from jupyterlab->jupyter) (0.28.1)\n",
      "Requirement already satisfied: jinja2>=3.0.3 in c:\\users\\dell\\appdata\\roaming\\python\\python313\\site-packages (from jupyterlab->jupyter) (3.1.6)\n",
      "Requirement already satisfied: jupyter-lsp>=2.0.0 in c:\\users\\dell\\appdata\\roaming\\python\\python313\\site-packages (from jupyterlab->jupyter) (2.2.5)\n",
      "Requirement already satisfied: jupyter-server<3,>=2.4.0 in c:\\users\\dell\\appdata\\roaming\\python\\python313\\site-packages (from jupyterlab->jupyter) (2.15.0)\n",
      "Requirement already satisfied: jupyterlab-server<3,>=2.27.1 in c:\\users\\dell\\appdata\\roaming\\python\\python313\\site-packages (from jupyterlab->jupyter) (2.27.3)\n",
      "Requirement already satisfied: notebook-shim>=0.2 in c:\\users\\dell\\appdata\\roaming\\python\\python313\\site-packages (from jupyterlab->jupyter) (0.2.4)\n",
      "Requirement already satisfied: setuptools>=40.8.0 in c:\\users\\dell\\appdata\\roaming\\python\\python313\\site-packages (from jupyterlab->jupyter) (76.0.0)\n",
      "Requirement already satisfied: beautifulsoup4 in c:\\users\\dell\\appdata\\roaming\\python\\python313\\site-packages (from nbconvert->jupyter) (4.13.3)\n",
      "Requirement already satisfied: bleach!=5.0.0 in c:\\users\\dell\\appdata\\roaming\\python\\python313\\site-packages (from bleach[css]!=5.0.0->nbconvert->jupyter) (6.2.0)\n",
      "Requirement already satisfied: defusedxml in c:\\users\\dell\\appdata\\roaming\\python\\python313\\site-packages (from nbconvert->jupyter) (0.7.1)\n",
      "Requirement already satisfied: jupyterlab-pygments in c:\\users\\dell\\appdata\\roaming\\python\\python313\\site-packages (from nbconvert->jupyter) (0.3.0)\n",
      "Requirement already satisfied: markupsafe>=2.0 in c:\\users\\dell\\appdata\\roaming\\python\\python313\\site-packages (from nbconvert->jupyter) (3.0.2)\n",
      "Requirement already satisfied: mistune<4,>=2.0.3 in c:\\users\\dell\\appdata\\roaming\\python\\python313\\site-packages (from nbconvert->jupyter) (3.1.2)\n",
      "Requirement already satisfied: nbclient>=0.5.0 in c:\\users\\dell\\appdata\\roaming\\python\\python313\\site-packages (from nbconvert->jupyter) (0.10.2)\n",
      "Requirement already satisfied: nbformat>=5.7 in c:\\users\\dell\\appdata\\roaming\\python\\python313\\site-packages (from nbconvert->jupyter) (5.10.4)\n",
      "Requirement already satisfied: pandocfilters>=1.4.1 in c:\\users\\dell\\appdata\\roaming\\python\\python313\\site-packages (from nbconvert->jupyter) (1.5.1)\n",
      "Requirement already satisfied: webencodings in c:\\users\\dell\\appdata\\roaming\\python\\python313\\site-packages (from bleach!=5.0.0->bleach[css]!=5.0.0->nbconvert->jupyter) (0.5.1)\n",
      "Requirement already satisfied: tinycss2<1.5,>=1.1.0 in c:\\users\\dell\\appdata\\roaming\\python\\python313\\site-packages (from bleach[css]!=5.0.0->nbconvert->jupyter) (1.4.0)\n",
      "Requirement already satisfied: anyio in c:\\users\\dell\\appdata\\roaming\\python\\python313\\site-packages (from httpx>=0.25.0->jupyterlab->jupyter) (4.8.0)\n",
      "Requirement already satisfied: certifi in c:\\users\\dell\\appdata\\roaming\\python\\python313\\site-packages (from httpx>=0.25.0->jupyterlab->jupyter) (2025.1.31)\n",
      "Requirement already satisfied: httpcore==1.* in c:\\users\\dell\\appdata\\roaming\\python\\python313\\site-packages (from httpx>=0.25.0->jupyterlab->jupyter) (1.0.7)\n",
      "Requirement already satisfied: idna in c:\\users\\dell\\appdata\\roaming\\python\\python313\\site-packages (from httpx>=0.25.0->jupyterlab->jupyter) (3.10)\n",
      "Requirement already satisfied: h11<0.15,>=0.13 in c:\\users\\dell\\appdata\\roaming\\python\\python313\\site-packages (from httpcore==1.*->httpx>=0.25.0->jupyterlab->jupyter) (0.14.0)\n",
      "Requirement already satisfied: parso<0.9.0,>=0.8.4 in c:\\users\\dell\\appdata\\roaming\\python\\python313\\site-packages (from jedi>=0.16->ipython>=6.1.0->ipywidgets) (0.8.4)\n",
      "Requirement already satisfied: python-dateutil>=2.8.2 in c:\\users\\dell\\appdata\\roaming\\python\\python313\\site-packages (from jupyter-client>=6.1.12->ipykernel->jupyter) (2.9.0.post0)\n",
      "Requirement already satisfied: platformdirs>=2.5 in c:\\users\\dell\\appdata\\roaming\\python\\python313\\site-packages (from jupyter-core!=5.0.*,>=4.12->ipykernel->jupyter) (4.3.6)\n",
      "Requirement already satisfied: pywin32>=300 in c:\\users\\dell\\appdata\\roaming\\python\\python313\\site-packages (from jupyter-core!=5.0.*,>=4.12->ipykernel->jupyter) (309)\n",
      "Requirement already satisfied: argon2-cffi>=21.1 in c:\\users\\dell\\appdata\\roaming\\python\\python313\\site-packages (from jupyter-server<3,>=2.4.0->jupyterlab->jupyter) (23.1.0)\n",
      "Requirement already satisfied: jupyter-events>=0.11.0 in c:\\users\\dell\\appdata\\roaming\\python\\python313\\site-packages (from jupyter-server<3,>=2.4.0->jupyterlab->jupyter) (0.12.0)\n",
      "Requirement already satisfied: jupyter-server-terminals>=0.4.4 in c:\\users\\dell\\appdata\\roaming\\python\\python313\\site-packages (from jupyter-server<3,>=2.4.0->jupyterlab->jupyter) (0.5.3)\n",
      "Requirement already satisfied: overrides>=5.0 in c:\\users\\dell\\appdata\\roaming\\python\\python313\\site-packages (from jupyter-server<3,>=2.4.0->jupyterlab->jupyter) (7.7.0)\n",
      "Requirement already satisfied: prometheus-client>=0.9 in c:\\users\\dell\\appdata\\roaming\\python\\python313\\site-packages (from jupyter-server<3,>=2.4.0->jupyterlab->jupyter) (0.21.1)\n",
      "Requirement already satisfied: pywinpty>=2.0.1 in c:\\users\\dell\\appdata\\roaming\\python\\python313\\site-packages (from jupyter-server<3,>=2.4.0->jupyterlab->jupyter) (2.0.15)\n",
      "Requirement already satisfied: send2trash>=1.8.2 in c:\\users\\dell\\appdata\\roaming\\python\\python313\\site-packages (from jupyter-server<3,>=2.4.0->jupyterlab->jupyter) (1.8.3)\n",
      "Requirement already satisfied: terminado>=0.8.3 in c:\\users\\dell\\appdata\\roaming\\python\\python313\\site-packages (from jupyter-server<3,>=2.4.0->jupyterlab->jupyter) (0.18.1)\n",
      "Requirement already satisfied: websocket-client>=1.7 in c:\\users\\dell\\appdata\\roaming\\python\\python313\\site-packages (from jupyter-server<3,>=2.4.0->jupyterlab->jupyter) (1.8.0)\n",
      "Requirement already satisfied: babel>=2.10 in c:\\users\\dell\\appdata\\roaming\\python\\python313\\site-packages (from jupyterlab-server<3,>=2.27.1->jupyterlab->jupyter) (2.17.0)\n",
      "Requirement already satisfied: json5>=0.9.0 in c:\\users\\dell\\appdata\\roaming\\python\\python313\\site-packages (from jupyterlab-server<3,>=2.27.1->jupyterlab->jupyter) (0.10.0)\n",
      "Requirement already satisfied: jsonschema>=4.18.0 in c:\\users\\dell\\appdata\\roaming\\python\\python313\\site-packages (from jupyterlab-server<3,>=2.27.1->jupyterlab->jupyter) (4.23.0)\n",
      "Requirement already satisfied: requests>=2.31 in c:\\users\\dell\\appdata\\roaming\\python\\python313\\site-packages (from jupyterlab-server<3,>=2.27.1->jupyterlab->jupyter) (2.32.3)\n",
      "Requirement already satisfied: fastjsonschema>=2.15 in c:\\users\\dell\\appdata\\roaming\\python\\python313\\site-packages (from nbformat>=5.7->nbconvert->jupyter) (2.21.1)\n",
      "Requirement already satisfied: wcwidth in c:\\users\\dell\\appdata\\roaming\\python\\python313\\site-packages (from prompt_toolkit<3.1.0,>=3.0.41->ipython>=6.1.0->ipywidgets) (0.2.13)\n",
      "Requirement already satisfied: soupsieve>1.2 in c:\\users\\dell\\appdata\\roaming\\python\\python313\\site-packages (from beautifulsoup4->nbconvert->jupyter) (2.6)\n",
      "Requirement already satisfied: typing-extensions>=4.0.0 in c:\\users\\dell\\appdata\\roaming\\python\\python313\\site-packages (from beautifulsoup4->nbconvert->jupyter) (4.12.2)\n",
      "Requirement already satisfied: executing>=1.2.0 in c:\\users\\dell\\appdata\\roaming\\python\\python313\\site-packages (from stack_data->ipython>=6.1.0->ipywidgets) (2.2.0)\n",
      "Requirement already satisfied: asttokens>=2.1.0 in c:\\users\\dell\\appdata\\roaming\\python\\python313\\site-packages (from stack_data->ipython>=6.1.0->ipywidgets) (3.0.0)\n",
      "Requirement already satisfied: pure-eval in c:\\users\\dell\\appdata\\roaming\\python\\python313\\site-packages (from stack_data->ipython>=6.1.0->ipywidgets) (0.2.3)\n",
      "Requirement already satisfied: sniffio>=1.1 in c:\\users\\dell\\appdata\\roaming\\python\\python313\\site-packages (from anyio->httpx>=0.25.0->jupyterlab->jupyter) (1.3.1)\n",
      "Requirement already satisfied: argon2-cffi-bindings in c:\\users\\dell\\appdata\\roaming\\python\\python313\\site-packages (from argon2-cffi>=21.1->jupyter-server<3,>=2.4.0->jupyterlab->jupyter) (21.2.0)\n",
      "Requirement already satisfied: attrs>=22.2.0 in c:\\users\\dell\\appdata\\roaming\\python\\python313\\site-packages (from jsonschema>=4.18.0->jupyterlab-server<3,>=2.27.1->jupyterlab->jupyter) (25.1.0)\n",
      "Requirement already satisfied: jsonschema-specifications>=2023.03.6 in c:\\users\\dell\\appdata\\roaming\\python\\python313\\site-packages (from jsonschema>=4.18.0->jupyterlab-server<3,>=2.27.1->jupyterlab->jupyter) (2024.10.1)\n",
      "Requirement already satisfied: referencing>=0.28.4 in c:\\users\\dell\\appdata\\roaming\\python\\python313\\site-packages (from jsonschema>=4.18.0->jupyterlab-server<3,>=2.27.1->jupyterlab->jupyter) (0.36.2)\n",
      "Requirement already satisfied: rpds-py>=0.7.1 in c:\\users\\dell\\appdata\\roaming\\python\\python313\\site-packages (from jsonschema>=4.18.0->jupyterlab-server<3,>=2.27.1->jupyterlab->jupyter) (0.23.1)\n",
      "Requirement already satisfied: python-json-logger>=2.0.4 in c:\\users\\dell\\appdata\\roaming\\python\\python313\\site-packages (from jupyter-events>=0.11.0->jupyter-server<3,>=2.4.0->jupyterlab->jupyter) (3.3.0)\n",
      "Requirement already satisfied: pyyaml>=5.3 in c:\\users\\dell\\appdata\\roaming\\python\\python313\\site-packages (from jupyter-events>=0.11.0->jupyter-server<3,>=2.4.0->jupyterlab->jupyter) (6.0.2)\n",
      "Requirement already satisfied: rfc3339-validator in c:\\users\\dell\\appdata\\roaming\\python\\python313\\site-packages (from jupyter-events>=0.11.0->jupyter-server<3,>=2.4.0->jupyterlab->jupyter) (0.1.4)\n",
      "Requirement already satisfied: rfc3986-validator>=0.1.1 in c:\\users\\dell\\appdata\\roaming\\python\\python313\\site-packages (from jupyter-events>=0.11.0->jupyter-server<3,>=2.4.0->jupyterlab->jupyter) (0.1.1)\n",
      "Requirement already satisfied: six>=1.5 in c:\\users\\dell\\appdata\\roaming\\python\\python313\\site-packages (from python-dateutil>=2.8.2->jupyter-client>=6.1.12->ipykernel->jupyter) (1.17.0)\n",
      "Requirement already satisfied: charset-normalizer<4,>=2 in c:\\users\\dell\\appdata\\roaming\\python\\python313\\site-packages (from requests>=2.31->jupyterlab-server<3,>=2.27.1->jupyterlab->jupyter) (3.4.1)\n",
      "Requirement already satisfied: urllib3<3,>=1.21.1 in c:\\users\\dell\\appdata\\roaming\\python\\python313\\site-packages (from requests>=2.31->jupyterlab-server<3,>=2.27.1->jupyterlab->jupyter) (2.3.0)\n",
      "Requirement already satisfied: fqdn in c:\\users\\dell\\appdata\\roaming\\python\\python313\\site-packages (from jsonschema[format-nongpl]>=4.18.0->jupyter-events>=0.11.0->jupyter-server<3,>=2.4.0->jupyterlab->jupyter) (1.5.1)\n",
      "Requirement already satisfied: isoduration in c:\\users\\dell\\appdata\\roaming\\python\\python313\\site-packages (from jsonschema[format-nongpl]>=4.18.0->jupyter-events>=0.11.0->jupyter-server<3,>=2.4.0->jupyterlab->jupyter) (20.11.0)\n",
      "Requirement already satisfied: jsonpointer>1.13 in c:\\users\\dell\\appdata\\roaming\\python\\python313\\site-packages (from jsonschema[format-nongpl]>=4.18.0->jupyter-events>=0.11.0->jupyter-server<3,>=2.4.0->jupyterlab->jupyter) (3.0.0)\n",
      "Requirement already satisfied: uri-template in c:\\users\\dell\\appdata\\roaming\\python\\python313\\site-packages (from jsonschema[format-nongpl]>=4.18.0->jupyter-events>=0.11.0->jupyter-server<3,>=2.4.0->jupyterlab->jupyter) (1.3.0)\n",
      "Requirement already satisfied: webcolors>=24.6.0 in c:\\users\\dell\\appdata\\roaming\\python\\python313\\site-packages (from jsonschema[format-nongpl]>=4.18.0->jupyter-events>=0.11.0->jupyter-server<3,>=2.4.0->jupyterlab->jupyter) (24.11.1)\n",
      "Requirement already satisfied: cffi>=1.0.1 in c:\\users\\dell\\appdata\\roaming\\python\\python313\\site-packages (from argon2-cffi-bindings->argon2-cffi>=21.1->jupyter-server<3,>=2.4.0->jupyterlab->jupyter) (1.17.1)\n",
      "Requirement already satisfied: pycparser in c:\\users\\dell\\appdata\\roaming\\python\\python313\\site-packages (from cffi>=1.0.1->argon2-cffi-bindings->argon2-cffi>=21.1->jupyter-server<3,>=2.4.0->jupyterlab->jupyter) (2.22)\n",
      "Requirement already satisfied: arrow>=0.15.0 in c:\\users\\dell\\appdata\\roaming\\python\\python313\\site-packages (from isoduration->jsonschema[format-nongpl]>=4.18.0->jupyter-events>=0.11.0->jupyter-server<3,>=2.4.0->jupyterlab->jupyter) (1.3.0)\n",
      "Requirement already satisfied: types-python-dateutil>=2.8.10 in c:\\users\\dell\\appdata\\roaming\\python\\python313\\site-packages (from arrow>=0.15.0->isoduration->jsonschema[format-nongpl]>=4.18.0->jupyter-events>=0.11.0->jupyter-server<3,>=2.4.0->jupyterlab->jupyter) (2.9.0.20241206)\n",
      "Note: you may need to restart the kernel to use updated packages.\n"
     ]
    }
   ],
   "source": [
    "pip install --upgrade jupyter ipywidgets\n"
   ]
  },
  {
   "cell_type": "code",
   "execution_count": 45,
   "id": "4604d26b-e8fb-4705-9dcd-ae4a7ee86183",
   "metadata": {},
   "outputs": [
    {
     "name": "stdout",
     "output_type": "stream",
     "text": [
      "Number of vectors indexed: 1588\n"
     ]
    }
   ],
   "source": [
    "import faiss\n",
    "\n",
    "# Convert embeddings to float32 (FAISS requires this)\n",
    "embeddings = embeddings.astype(np.float32)\n",
    "\n",
    "# Create FAISS index\n",
    "index = faiss.IndexFlatL2(embeddings.shape[1])  # L2 distance (Euclidean)\n",
    "index.add(embeddings)  # Add embeddings to FAISS\n",
    "\n",
    "print(f\"Number of vectors indexed: {index.ntotal}\")\n"
   ]
  },
  {
   "cell_type": "code",
   "execution_count": 46,
   "id": "31020e51-ee21-4f42-b154-6398b2143e4d",
   "metadata": {},
   "outputs": [
    {
     "name": "stdout",
     "output_type": "stream",
     "text": [
      "Top 5 similar documents:\n",
      "Document 887 with distance 63.37044906616211\n",
      "iptv related issue live tv stopped working... live tv stopped working. field support auto close sub tt:10260135 mistakenly open\n",
      "\n",
      "\n",
      "Document 974 with distance 64.10243225097656\n",
      "general inquiry technical query.. technical query field support auto close sub tt:10375774 client restarted router //working fine\n",
      "\n",
      "\n",
      "Document 1348 with distance 65.54790496826172\n",
      "general inquiry technical query.. technical query field support auto close sub tt:10353554 osp sent informed accordingly myworldlik connection\n",
      "\n",
      "\n",
      "Document 1529 with distance 66.20842742919922\n",
      "internet connection (ftth) olt down.. olt field support auto close sub tt:10366082 available\n",
      "\n",
      "\n",
      "Document 980 with distance 66.37945556640625\n",
      "internet connection (ftth) olt down.. olt field support auto close sub tt:10372437 available\n",
      "\n",
      "\n"
     ]
    }
   ],
   "source": [
    "# Define a search query\n",
    "query = \"How to fix slow internet connection?\"\n",
    "\n",
    "# Convert query to BERT embedding\n",
    "query_inputs = tokenizer(query, padding=True, truncation=True, return_tensors='pt', max_length=128)\n",
    "\n",
    "# Move to GPU if available\n",
    "if torch.cuda.is_available():\n",
    "    query_inputs = {key: val.to('cuda') for key, val in query_inputs.items()}\n",
    "\n",
    "# Generate query embedding\n",
    "with torch.no_grad():\n",
    "    query_outputs = model(**query_inputs)\n",
    "\n",
    "# Extract the CLS token embedding\n",
    "query_embedding = query_outputs.last_hidden_state[:, 0, :].detach().cpu().numpy().astype(np.float32)\n",
    "\n",
    "# Perform similarity search in FAISS\n",
    "D, I = index.search(query_embedding, k=5)  # Retrieve top 5 results\n",
    "\n",
    "# Print the most relevant documents\n",
    "print(\"Top 5 similar documents:\")\n",
    "for i in range(5):\n",
    "    print(f\"Document {I[0][i]} with distance {D[0][i]}\")\n",
    "    print(data['cleaned_combined_text'].iloc[I[0][i]])\n",
    "    print(\"\\n\")\n"
   ]
  },
  {
   "cell_type": "code",
   "execution_count": 47,
   "id": "d209e9fa-15bf-4b3a-8bc6-f8424018aded",
   "metadata": {},
   "outputs": [
    {
     "name": "stdout",
     "output_type": "stream",
     "text": [
      "Defaulting to user installation because normal site-packages is not writeable\n",
      "Requirement already satisfied: transformers in c:\\users\\dell\\appdata\\roaming\\python\\python313\\site-packages (4.49.0)\n",
      "Requirement already satisfied: filelock in c:\\users\\dell\\appdata\\roaming\\python\\python313\\site-packages (from transformers) (3.17.0)\n",
      "Requirement already satisfied: huggingface-hub<1.0,>=0.26.0 in c:\\users\\dell\\appdata\\roaming\\python\\python313\\site-packages (from transformers) (0.29.2)\n",
      "Requirement already satisfied: numpy>=1.17 in c:\\users\\dell\\appdata\\roaming\\python\\python313\\site-packages (from transformers) (2.2.3)\n",
      "Requirement already satisfied: packaging>=20.0 in c:\\users\\dell\\appdata\\roaming\\python\\python313\\site-packages (from transformers) (24.2)\n",
      "Requirement already satisfied: pyyaml>=5.1 in c:\\users\\dell\\appdata\\roaming\\python\\python313\\site-packages (from transformers) (6.0.2)\n",
      "Requirement already satisfied: regex!=2019.12.17 in c:\\users\\dell\\appdata\\roaming\\python\\python313\\site-packages (from transformers) (2024.11.6)\n",
      "Requirement already satisfied: requests in c:\\users\\dell\\appdata\\roaming\\python\\python313\\site-packages (from transformers) (2.32.3)\n",
      "Requirement already satisfied: tokenizers<0.22,>=0.21 in c:\\users\\dell\\appdata\\roaming\\python\\python313\\site-packages (from transformers) (0.21.0)\n",
      "Requirement already satisfied: safetensors>=0.4.1 in c:\\users\\dell\\appdata\\roaming\\python\\python313\\site-packages (from transformers) (0.5.3)\n",
      "Requirement already satisfied: tqdm>=4.27 in c:\\users\\dell\\appdata\\roaming\\python\\python313\\site-packages (from transformers) (4.67.1)\n",
      "Requirement already satisfied: fsspec>=2023.5.0 in c:\\users\\dell\\appdata\\roaming\\python\\python313\\site-packages (from huggingface-hub<1.0,>=0.26.0->transformers) (2025.3.0)\n",
      "Requirement already satisfied: typing-extensions>=3.7.4.3 in c:\\users\\dell\\appdata\\roaming\\python\\python313\\site-packages (from huggingface-hub<1.0,>=0.26.0->transformers) (4.12.2)\n",
      "Requirement already satisfied: colorama in c:\\users\\dell\\appdata\\roaming\\python\\python313\\site-packages (from tqdm>=4.27->transformers) (0.4.6)\n",
      "Requirement already satisfied: charset-normalizer<4,>=2 in c:\\users\\dell\\appdata\\roaming\\python\\python313\\site-packages (from requests->transformers) (3.4.1)\n",
      "Requirement already satisfied: idna<4,>=2.5 in c:\\users\\dell\\appdata\\roaming\\python\\python313\\site-packages (from requests->transformers) (3.10)\n",
      "Requirement already satisfied: urllib3<3,>=1.21.1 in c:\\users\\dell\\appdata\\roaming\\python\\python313\\site-packages (from requests->transformers) (2.3.0)\n",
      "Requirement already satisfied: certifi>=2017.4.17 in c:\\users\\dell\\appdata\\roaming\\python\\python313\\site-packages (from requests->transformers) (2025.1.31)\n",
      "Note: you may need to restart the kernel to use updated packages.\n"
     ]
    }
   ],
   "source": [
    "pip install transformers\n"
   ]
  },
  {
   "cell_type": "code",
   "execution_count": 48,
   "id": "74991b0d-4a5f-40b4-8c47-ebce0dc5d461",
   "metadata": {},
   "outputs": [
    {
     "name": "stdout",
     "output_type": "stream",
     "text": [
      "Defaulting to user installation because normal site-packages is not writeable\n",
      "Requirement already satisfied: pip in c:\\users\\dell\\appdata\\roaming\\python\\python313\\site-packages (25.0.1)\n",
      "Defaulting to user installation because normal site-packages is not writeable\n",
      "Requirement already satisfied: sentencepiece in c:\\users\\dell\\appdata\\roaming\\python\\python313\\site-packages (0.2.0)\n"
     ]
    }
   ],
   "source": [
    "!pip install --upgrade pip\n",
    "!pip install sentencepiece\n"
   ]
  },
  {
   "cell_type": "code",
   "execution_count": 49,
   "id": "4cc36ef6-e0b8-4ab5-84e1-44fb2ee6f365",
   "metadata": {},
   "outputs": [
    {
     "name": "stdout",
     "output_type": "stream",
     "text": [
      "Generated Answer: tt:10366082\n"
     ]
    }
   ],
   "source": [
    "from transformers import T5ForConditionalGeneration, T5Tokenizer\n",
    "\n",
    "# Initialize the T5 model and tokenizer\n",
    "t5_tokenizer = T5Tokenizer.from_pretrained('t5-base')\n",
    "t5_model = T5ForConditionalGeneration.from_pretrained('t5-base')\n",
    "\n",
    "# Combine retrieved documents into one string\n",
    "retrieved_documents = \" \".join(data['cleaned_combined_text'].iloc[I[0][:5]])\n",
    "\n",
    "# Prepare input for T5 (Question + Retrieved Context)\n",
    "input_text = f\"answer: {retrieved_documents} context: {query}\"\n",
    "\n",
    "# Tokenize input\n",
    "input_ids = t5_tokenizer.encode(input_text, return_tensors='pt')\n",
    "\n",
    "# Generate response\n",
    "with torch.no_grad():\n",
    "    generated_ids = t5_model.generate(input_ids, max_length=150, num_beams=5, early_stopping=True)\n",
    "\n",
    "# Decode response\n",
    "generated_answer = t5_tokenizer.decode(generated_ids[0], skip_special_tokens=True)\n",
    "\n",
    "print(f\"Generated Answer: {generated_answer}\")\n"
   ]
  },
  {
   "cell_type": "code",
   "execution_count": 50,
   "id": "9aee0a6b-7e1f-4f87-b7d1-34789df5203d",
   "metadata": {},
   "outputs": [
    {
     "name": "stdout",
     "output_type": "stream",
     "text": [
      "Generated Answer: network congestion\n"
     ]
    }
   ],
   "source": [
    "query = \"What is the cause of slow internet?\"\n",
    "retrieved_documents = \"Slow internet is often caused by network congestion, outdated hardware, or ISP throttling.\"\n",
    "\n",
    "# **Better formatted input for T5**\n",
    "input_text = f\"question: {query} context: {retrieved_documents} answer:\"\n",
    "\n",
    "# Tokenize input\n",
    "input_ids = t5_tokenizer.encode(input_text, return_tensors='pt')\n",
    "\n",
    "# Generate response\n",
    "with torch.no_grad():\n",
    "    generated_ids = t5_model.generate(input_ids, max_length=50, num_beams=5, early_stopping=True)\n",
    "\n",
    "# Decode response\n",
    "generated_answer = t5_tokenizer.decode(generated_ids[0], skip_special_tokens=True)\n",
    "\n",
    "print(f\"Generated Answer: {generated_answer}\")\n"
   ]
  },
  {
   "cell_type": "code",
   "execution_count": 51,
   "id": "1d763157-520c-4cd2-ba78-7068d36ce6f4",
   "metadata": {},
   "outputs": [
    {
     "name": "stdout",
     "output_type": "stream",
     "text": [
      "Models saved successfully! ✅\n"
     ]
    }
   ],
   "source": [
    "# Save BERT model\n",
    "model.save_pretrained(\"saved_models/bert\")\n",
    "tokenizer.save_pretrained(\"saved_models/bert\")\n",
    "\n",
    "# Save T5 model\n",
    "t5_model.save_pretrained(\"saved_models/t5\")\n",
    "t5_tokenizer.save_pretrained(\"saved_models/t5\")\n",
    "\n",
    "print(\"Models saved successfully! ✅\")\n"
   ]
  },
  {
   "cell_type": "code",
   "execution_count": 52,
   "id": "bf947d6c-637d-4000-bf00-b9f1921532c3",
   "metadata": {},
   "outputs": [
    {
     "name": "stdout",
     "output_type": "stream",
     "text": [
      "FAISS index saved successfully! ✅\n"
     ]
    }
   ],
   "source": [
    "faiss.write_index(index, \"saved_models/faiss_index.bin\")\n",
    "print(\"FAISS index saved successfully! ✅\")\n"
   ]
  },
  {
   "cell_type": "code",
   "execution_count": null,
   "id": "98d1a182-aee8-4b79-8082-dc8b4d04e517",
   "metadata": {},
   "outputs": [],
   "source": []
  },
  {
   "cell_type": "code",
   "execution_count": null,
   "id": "10f58804-37cf-4b26-adba-4584d1575396",
   "metadata": {},
   "outputs": [],
   "source": []
  },
  {
   "cell_type": "code",
   "execution_count": null,
   "id": "0c6dd271-db92-4b96-a36b-99f6282ee814",
   "metadata": {},
   "outputs": [],
   "source": []
  },
  {
   "cell_type": "code",
   "execution_count": null,
   "id": "524ffd0a-66a4-448f-8fc0-7af8933930a1",
   "metadata": {},
   "outputs": [],
   "source": []
  },
  {
   "cell_type": "code",
   "execution_count": null,
   "id": "7f4fb59c-e738-4928-a883-8fb86fd3ebd9",
   "metadata": {},
   "outputs": [],
   "source": []
  },
  {
   "cell_type": "code",
   "execution_count": null,
   "id": "76f651e7-155a-4b58-8e8b-eb45c7a28a13",
   "metadata": {},
   "outputs": [],
   "source": []
  },
  {
   "cell_type": "code",
   "execution_count": null,
   "id": "c99fdfb8-6aaa-4dc0-b050-359b9cbdde31",
   "metadata": {},
   "outputs": [],
   "source": []
  },
  {
   "cell_type": "code",
   "execution_count": null,
   "id": "d418c724-c89e-4be5-a5a4-23c7e1c70556",
   "metadata": {},
   "outputs": [],
   "source": []
  },
  {
   "cell_type": "code",
   "execution_count": 53,
   "id": "e105a0a5-33cc-4447-8b1a-64ad5a5f58ce",
   "metadata": {},
   "outputs": [
    {
     "name": "stdout",
     "output_type": "stream",
     "text": [
      "All models and FAISS index loaded successfully! ✅\n"
     ]
    }
   ],
   "source": [
    "from transformers import BertModel, BertTokenizer, T5ForConditionalGeneration, T5Tokenizer\n",
    "import faiss\n",
    "import numpy as np\n",
    "\n",
    "# Load saved BERT model\n",
    "tokenizer = BertTokenizer.from_pretrained(\"saved_models/bert\")\n",
    "model = BertModel.from_pretrained(\"saved_models/bert\")\n",
    "\n",
    "# Load saved T5 model\n",
    "t5_tokenizer = T5Tokenizer.from_pretrained(\"saved_models/t5\")\n",
    "t5_model = T5ForConditionalGeneration.from_pretrained(\"saved_models/t5\")\n",
    "\n",
    "# Load FAISS index\n",
    "index = faiss.read_index(\"saved_models/faiss_index.bin\")\n",
    "\n",
    "# Load embeddings\n",
    "embeddings = np.load(\"embeddings.npy\")\n",
    "\n",
    "print(\"All models and FAISS index loaded successfully! ✅\")\n"
   ]
  }
 ],
 "metadata": {
  "kernelspec": {
   "display_name": "Python 3 (ipykernel)",
   "language": "python",
   "name": "python3"
  },
  "language_info": {
   "codemirror_mode": {
    "name": "ipython",
    "version": 3
   },
   "file_extension": ".py",
   "mimetype": "text/x-python",
   "name": "python",
   "nbconvert_exporter": "python",
   "pygments_lexer": "ipython3",
   "version": "3.13.1"
  }
 },
 "nbformat": 4,
 "nbformat_minor": 5
}
