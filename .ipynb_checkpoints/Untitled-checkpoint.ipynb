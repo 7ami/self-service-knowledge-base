{
 "cells": [
  {
   "cell_type": "code",
   "execution_count": null,
   "id": "1b5241ea-5510-45e1-9ce7-e83aea0230ca",
   "metadata": {},
   "outputs": [],
   "source": []
  },
  {
   "cell_type": "code",
   "execution_count": 1,
   "id": "417c1bb9-c72c-4047-b475-42973b68e250",
   "metadata": {},
   "outputs": [
    {
     "name": "stderr",
     "output_type": "stream",
     "text": [
      "  WARNING: The script tqdm.exe is installed in 'C:\\Users\\Dell\\AppData\\Roaming\\Python\\Python311\\Scripts' which is not on PATH.\n",
      "  Consider adding this directory to PATH or, if you prefer to suppress this warning, use --no-warn-script-location.\n",
      "  WARNING: The script nltk.exe is installed in 'C:\\Users\\Dell\\AppData\\Roaming\\Python\\Python311\\Scripts' which is not on PATH.\n",
      "  Consider adding this directory to PATH or, if you prefer to suppress this warning, use --no-warn-script-location.\n",
      "\n",
      "[notice] A new release of pip is available: 23.3.2 -> 25.0.1\n",
      "[notice] To update, run: python.exe -m pip install --upgrade pip\n"
     ]
    },
    {
     "name": "stdout",
     "output_type": "stream",
     "text": [
      "Defaulting to user installation because normal site-packages is not writeable\n",
      "Requirement already satisfied: pandas in c:\\users\\dell\\appdata\\roaming\\python\\python311\\site-packages (2.1.4)\n",
      "Requirement already satisfied: numpy in c:\\users\\dell\\appdata\\roaming\\python\\python311\\site-packages (1.26.1)\n",
      "Collecting nltk\n",
      "  Downloading nltk-3.9.1-py3-none-any.whl.metadata (2.9 kB)\n",
      "Requirement already satisfied: python-dateutil>=2.8.2 in c:\\users\\dell\\appdata\\roaming\\python\\python311\\site-packages (from pandas) (2.8.2)\n",
      "Requirement already satisfied: pytz>=2020.1 in c:\\users\\dell\\appdata\\roaming\\python\\python311\\site-packages (from pandas) (2023.3.post1)\n",
      "Requirement already satisfied: tzdata>=2022.1 in c:\\users\\dell\\appdata\\roaming\\python\\python311\\site-packages (from pandas) (2023.4)\n",
      "Requirement already satisfied: click in c:\\users\\dell\\appdata\\roaming\\python\\python311\\site-packages (from nltk) (8.1.7)\n",
      "Requirement already satisfied: joblib in c:\\users\\dell\\appdata\\roaming\\python\\python311\\site-packages (from nltk) (1.3.2)\n",
      "Collecting regex>=2021.8.3 (from nltk)\n",
      "  Downloading regex-2024.11.6-cp311-cp311-win_amd64.whl.metadata (41 kB)\n",
      "     ---------------------------------------- 0.0/41.5 kB ? eta -:--:--\n",
      "     -------------------------------------- 41.5/41.5 kB 666.1 kB/s eta 0:00:00\n",
      "Collecting tqdm (from nltk)\n",
      "  Downloading tqdm-4.67.1-py3-none-any.whl.metadata (57 kB)\n",
      "     ---------------------------------------- 0.0/57.7 kB ? eta -:--:--\n",
      "     ---------------------------------------- 57.7/57.7 kB 1.5 MB/s eta 0:00:00\n",
      "Requirement already satisfied: six>=1.5 in c:\\users\\dell\\appdata\\roaming\\python\\python311\\site-packages (from python-dateutil>=2.8.2->pandas) (1.16.0)\n",
      "Requirement already satisfied: colorama in c:\\users\\dell\\appdata\\roaming\\python\\python311\\site-packages (from click->nltk) (0.4.6)\n",
      "Downloading nltk-3.9.1-py3-none-any.whl (1.5 MB)\n",
      "   ---------------------------------------- 0.0/1.5 MB ? eta -:--:--\n",
      "   -- ------------------------------------- 0.1/1.5 MB 2.6 MB/s eta 0:00:01\n",
      "   ---- ----------------------------------- 0.2/1.5 MB 1.8 MB/s eta 0:00:01\n",
      "   -------- ------------------------------- 0.3/1.5 MB 2.5 MB/s eta 0:00:01\n",
      "   ----------- ---------------------------- 0.4/1.5 MB 2.4 MB/s eta 0:00:01\n",
      "   --------------- ------------------------ 0.6/1.5 MB 2.7 MB/s eta 0:00:01\n",
      "   ------------------- -------------------- 0.7/1.5 MB 2.5 MB/s eta 0:00:01\n",
      "   ---------------------- ----------------- 0.9/1.5 MB 2.7 MB/s eta 0:00:01\n",
      "   ------------------------- -------------- 1.0/1.5 MB 2.5 MB/s eta 0:00:01\n",
      "   ----------------------------- ---------- 1.1/1.5 MB 2.7 MB/s eta 0:00:01\n",
      "   ---------------------------------- ----- 1.3/1.5 MB 2.7 MB/s eta 0:00:01\n",
      "   ---------------------------------------  1.5/1.5 MB 2.8 MB/s eta 0:00:01\n",
      "   ---------------------------------------- 1.5/1.5 MB 2.7 MB/s eta 0:00:00\n",
      "Downloading regex-2024.11.6-cp311-cp311-win_amd64.whl (274 kB)\n",
      "   ---------------------------------------- 0.0/274.1 kB ? eta -:--:--\n",
      "   ---- ----------------------------------- 30.7/274.1 kB ? eta -:--:--\n",
      "   ----------------------- ---------------- 163.8/274.1 kB 2.5 MB/s eta 0:00:01\n",
      "   ---------------------------------------- 274.1/274.1 kB 2.4 MB/s eta 0:00:00\n",
      "Downloading tqdm-4.67.1-py3-none-any.whl (78 kB)\n",
      "   ---------------------------------------- 0.0/78.5 kB ? eta -:--:--\n",
      "   ---------------------------------------- 78.5/78.5 kB 2.2 MB/s eta 0:00:00\n",
      "Installing collected packages: tqdm, regex, nltk\n",
      "Successfully installed nltk-3.9.1 regex-2024.11.6 tqdm-4.67.1\n"
     ]
    }
   ],
   "source": [
    "!pip install pandas numpy nltk\n",
    "\n"
   ]
  },
  {
   "cell_type": "code",
   "execution_count": 2,
   "id": "a9d4106b-810a-4683-9d65-63e20cab9c27",
   "metadata": {},
   "outputs": [
    {
     "name": "stderr",
     "output_type": "stream",
     "text": [
      "[nltk_data] Downloading package stopwords to\n",
      "[nltk_data]     C:\\Users\\Dell\\AppData\\Roaming\\nltk_data...\n",
      "[nltk_data]   Unzipping corpora\\stopwords.zip.\n",
      "[nltk_data] Downloading package wordnet to\n",
      "[nltk_data]     C:\\Users\\Dell\\AppData\\Roaming\\nltk_data...\n"
     ]
    },
    {
     "data": {
      "text/plain": [
       "True"
      ]
     },
     "execution_count": 2,
     "metadata": {},
     "output_type": "execute_result"
    }
   ],
   "source": [
    "import pandas as pd\n",
    "import numpy as np\n",
    "import nltk\n",
    "\n",
    "# For text cleaning and NLP\n",
    "from nltk.corpus import stopwords\n",
    "from nltk.stem import WordNetLemmatizer\n",
    "\n",
    "# Download stopwords\n",
    "nltk.download('stopwords')\n",
    "nltk.download('wordnet')\n"
   ]
  },
  {
   "cell_type": "code",
   "execution_count": 22,
   "id": "4d70a3af-41a0-404d-bc56-38c628ba9389",
   "metadata": {},
   "outputs": [
    {
     "data": {
      "text/html": [
       "<div>\n",
       "<style scoped>\n",
       "    .dataframe tbody tr th:only-of-type {\n",
       "        vertical-align: middle;\n",
       "    }\n",
       "\n",
       "    .dataframe tbody tr th {\n",
       "        vertical-align: top;\n",
       "    }\n",
       "\n",
       "    .dataframe thead th {\n",
       "        text-align: right;\n",
       "    }\n",
       "</style>\n",
       "<table border=\"1\" class=\"dataframe\">\n",
       "  <thead>\n",
       "    <tr style=\"text-align: right;\">\n",
       "      <th></th>\n",
       "      <th>SEVERITY NAME</th>\n",
       "      <th>ISSUED BY</th>\n",
       "      <th>PROBLEM TYPE NAME</th>\n",
       "      <th>PROBLEM</th>\n",
       "      <th>SOLVED BY</th>\n",
       "      <th>CSR GROUP</th>\n",
       "      <th>ADDITIONAL INFO</th>\n",
       "      <th>SOLUTION</th>\n",
       "      <th>ACTUAL PROBLEM</th>\n",
       "      <th>SUPPORT TYPE</th>\n",
       "      <th>SUPPORT ZONE</th>\n",
       "      <th>ISSUED BY GROUP</th>\n",
       "      <th>SOLVED COMMENT</th>\n",
       "      <th>PLANCAT TYPE</th>\n",
       "      <th>Unnamed: 14</th>\n",
       "      <th>Unnamed: 15</th>\n",
       "      <th>Unnamed: 16</th>\n",
       "    </tr>\n",
       "  </thead>\n",
       "  <tbody>\n",
       "    <tr>\n",
       "      <th>0</th>\n",
       "      <td>Full Service Affected</td>\n",
       "      <td>aashika.shahi</td>\n",
       "      <td>Accounts Related Issue</td>\n",
       "      <td>Query about Packages..</td>\n",
       "      <td>rasmi.purja5</td>\n",
       "      <td>Account</td>\n",
       "      <td>NaN</td>\n",
       "      <td>Advance payment query</td>\n",
       "      <td>Query about Packages</td>\n",
       "      <td>Phone Support</td>\n",
       "      <td>GALKOT</td>\n",
       "      <td>Phone Support CSR</td>\n",
       "      <td>NaN</td>\n",
       "      <td>ATL</td>\n",
       "      <td>NaN</td>\n",
       "      <td>NaN</td>\n",
       "      <td>NaN</td>\n",
       "    </tr>\n",
       "    <tr>\n",
       "      <th>1</th>\n",
       "      <td>Limited Service</td>\n",
       "      <td>admin</td>\n",
       "      <td>No Internet Connection (FTTH)</td>\n",
       "      <td>ONU status offline..</td>\n",
       "      <td>rewant.lama</td>\n",
       "      <td>L2-FSCC</td>\n",
       "      <td>Offline.</td>\n",
       "      <td>Pole shifting/road expansion completed</td>\n",
       "      <td>now wire managed.</td>\n",
       "      <td>ONU status offline</td>\n",
       "      <td>Phone Support</td>\n",
       "      <td>DHUNGEDHARA</td>\n",
       "      <td>Phone Support CSR</td>\n",
       "      <td>NaN</td>\n",
       "      <td>ATL</td>\n",
       "      <td>NaN</td>\n",
       "      <td>NaN</td>\n",
       "    </tr>\n",
       "    <tr>\n",
       "      <th>2</th>\n",
       "      <td>Full Service Affected</td>\n",
       "      <td>srijana.sunar5</td>\n",
       "      <td>Accounts Related Issue</td>\n",
       "      <td>Account Status Query..</td>\n",
       "      <td>srijana.sunar5</td>\n",
       "      <td>Account</td>\n",
       "      <td>NaN</td>\n",
       "      <td>Informed user to visit branch\\t</td>\n",
       "      <td>Account Status Query</td>\n",
       "      <td>Phone Support</td>\n",
       "      <td>RASTRABANKCHOWK</td>\n",
       "      <td>Account</td>\n",
       "      <td>close</td>\n",
       "      <td>ATL</td>\n",
       "      <td>NaN</td>\n",
       "      <td>NaN</td>\n",
       "      <td>NaN</td>\n",
       "    </tr>\n",
       "    <tr>\n",
       "      <th>3</th>\n",
       "      <td>Full Service Affected</td>\n",
       "      <td>dewa.lamichhane</td>\n",
       "      <td>Accounts Related Issue</td>\n",
       "      <td>Client wants Discount...</td>\n",
       "      <td>ranjana.parajuli</td>\n",
       "      <td>Customer Care Unit</td>\n",
       "      <td>NaN</td>\n",
       "      <td>Discount not provided.</td>\n",
       "      <td>Client wants Discount.</td>\n",
       "      <td>Desk Support</td>\n",
       "      <td>PEPSICOLA</td>\n",
       "      <td>Phone Support CSR</td>\n",
       "      <td>paid</td>\n",
       "      <td>BTL</td>\n",
       "      <td>NaN</td>\n",
       "      <td>NaN</td>\n",
       "      <td>NaN</td>\n",
       "    </tr>\n",
       "    <tr>\n",
       "      <th>4</th>\n",
       "      <td>Full Service Affected</td>\n",
       "      <td>admin</td>\n",
       "      <td>Slow Internet Connection (FTTH)</td>\n",
       "      <td>Low power level recorded [&lt; -2..</td>\n",
       "      <td>sujan.maharjan</td>\n",
       "      <td>L2-FSCC</td>\n",
       "      <td>optical power level is low(-26 dbm)please do n...</td>\n",
       "      <td>Power level managed</td>\n",
       "      <td>Low power level recorded [&lt; -26 dbm]</td>\n",
       "      <td>Phone Support</td>\n",
       "      <td>BANEPA</td>\n",
       "      <td>Phone Support CSR</td>\n",
       "      <td>NaN</td>\n",
       "      <td>ATL</td>\n",
       "      <td>NaN</td>\n",
       "      <td>NaN</td>\n",
       "      <td>NaN</td>\n",
       "    </tr>\n",
       "  </tbody>\n",
       "</table>\n",
       "</div>"
      ],
      "text/plain": [
       "           SEVERITY NAME        ISSUED BY                PROBLEM TYPE NAME  \\\n",
       "0  Full Service Affected    aashika.shahi           Accounts Related Issue   \n",
       "1        Limited Service            admin    No Internet Connection (FTTH)   \n",
       "2  Full Service Affected   srijana.sunar5           Accounts Related Issue   \n",
       "3  Full Service Affected  dewa.lamichhane           Accounts Related Issue   \n",
       "4  Full Service Affected            admin  Slow Internet Connection (FTTH)   \n",
       "\n",
       "                            PROBLEM         SOLVED BY           CSR GROUP  \\\n",
       "0            Query about Packages..      rasmi.purja5             Account   \n",
       "1              ONU status offline..       rewant.lama             L2-FSCC   \n",
       "2            Account Status Query..    srijana.sunar5             Account   \n",
       "3          Client wants Discount...  ranjana.parajuli  Customer Care Unit   \n",
       "4  Low power level recorded [< -2..    sujan.maharjan             L2-FSCC   \n",
       "\n",
       "                                     ADDITIONAL INFO  \\\n",
       "0                                                NaN   \n",
       "1                                           Offline.   \n",
       "2                                                NaN   \n",
       "3                                                NaN   \n",
       "4  optical power level is low(-26 dbm)please do n...   \n",
       "\n",
       "                                  SOLUTION  \\\n",
       "0                    Advance payment query   \n",
       "1   Pole shifting/road expansion completed   \n",
       "2          Informed user to visit branch\\t   \n",
       "3                   Discount not provided.   \n",
       "4                      Power level managed   \n",
       "\n",
       "                         ACTUAL PROBLEM        SUPPORT TYPE     SUPPORT ZONE  \\\n",
       "0                  Query about Packages       Phone Support           GALKOT   \n",
       "1                     now wire managed.  ONU status offline    Phone Support   \n",
       "2                  Account Status Query       Phone Support  RASTRABANKCHOWK   \n",
       "3                Client wants Discount.        Desk Support        PEPSICOLA   \n",
       "4  Low power level recorded [< -26 dbm]       Phone Support           BANEPA   \n",
       "\n",
       "     ISSUED BY GROUP     SOLVED COMMENT PLANCAT TYPE Unnamed: 14 Unnamed: 15  \\\n",
       "0  Phone Support CSR                NaN          ATL         NaN         NaN   \n",
       "1        DHUNGEDHARA  Phone Support CSR          NaN         ATL         NaN   \n",
       "2            Account              close          ATL         NaN         NaN   \n",
       "3  Phone Support CSR               paid          BTL         NaN         NaN   \n",
       "4  Phone Support CSR                NaN          ATL         NaN         NaN   \n",
       "\n",
       "  Unnamed: 16  \n",
       "0         NaN  \n",
       "1         NaN  \n",
       "2         NaN  \n",
       "3         NaN  \n",
       "4         NaN  "
      ]
     },
     "execution_count": 22,
     "metadata": {},
     "output_type": "execute_result"
    }
   ],
   "source": [
    "# Load the CSV data into a pandas DataFrame with additional parsing settings\n",
    "file_path = 'wlink_data.csv'\n",
    "data = pd.read_csv(file_path, quotechar='\"', escapechar='\\\\')\n",
    "\n",
    "# Display the first few rows of the dataset to understand its structure\n",
    "data.head()\n"
   ]
  },
  {
   "cell_type": "code",
   "execution_count": 23,
   "id": "114d8314-b8a7-4f54-8a04-f4d826a0d145",
   "metadata": {},
   "outputs": [
    {
     "name": "stdout",
     "output_type": "stream",
     "text": [
      "Index(['SEVERITY NAME', 'ISSUED BY', 'PROBLEM TYPE NAME', 'PROBLEM',\n",
      "       'SOLVED BY', 'CSR GROUP', 'ADDITIONAL INFO', 'SOLUTION',\n",
      "       'ACTUAL PROBLEM', 'SUPPORT TYPE', 'SUPPORT ZONE', 'ISSUED BY GROUP',\n",
      "       'SOLVED COMMENT', 'PLANCAT TYPE', 'Unnamed: 14', 'Unnamed: 15',\n",
      "       'Unnamed: 16'],\n",
      "      dtype='object')\n"
     ]
    }
   ],
   "source": [
    "# Display column names\n",
    "print(data.columns)\n"
   ]
  },
  {
   "cell_type": "code",
   "execution_count": 24,
   "id": "d91303b8-dcdf-4a91-8fc4-360dcebfc6b9",
   "metadata": {},
   "outputs": [
    {
     "data": {
      "text/html": [
       "<div>\n",
       "<style scoped>\n",
       "    .dataframe tbody tr th:only-of-type {\n",
       "        vertical-align: middle;\n",
       "    }\n",
       "\n",
       "    .dataframe tbody tr th {\n",
       "        vertical-align: top;\n",
       "    }\n",
       "\n",
       "    .dataframe thead th {\n",
       "        text-align: right;\n",
       "    }\n",
       "</style>\n",
       "<table border=\"1\" class=\"dataframe\">\n",
       "  <thead>\n",
       "    <tr style=\"text-align: right;\">\n",
       "      <th></th>\n",
       "      <th>PROBLEM TYPE NAME</th>\n",
       "      <th>PROBLEM</th>\n",
       "      <th>ADDITIONAL INFO</th>\n",
       "      <th>SOLUTION</th>\n",
       "      <th>ACTUAL PROBLEM</th>\n",
       "      <th>SUPPORT TYPE</th>\n",
       "      <th>SOLVED COMMENT</th>\n",
       "    </tr>\n",
       "  </thead>\n",
       "  <tbody>\n",
       "    <tr>\n",
       "      <th>0</th>\n",
       "      <td>Accounts Related Issue</td>\n",
       "      <td>Query about Packages..</td>\n",
       "      <td>NaN</td>\n",
       "      <td>Advance payment query</td>\n",
       "      <td>Query about Packages</td>\n",
       "      <td>Phone Support</td>\n",
       "      <td>NaN</td>\n",
       "    </tr>\n",
       "    <tr>\n",
       "      <th>1</th>\n",
       "      <td>No Internet Connection (FTTH)</td>\n",
       "      <td>ONU status offline..</td>\n",
       "      <td>Offline.</td>\n",
       "      <td>Pole shifting/road expansion completed</td>\n",
       "      <td>now wire managed.</td>\n",
       "      <td>ONU status offline</td>\n",
       "      <td>Phone Support CSR</td>\n",
       "    </tr>\n",
       "    <tr>\n",
       "      <th>2</th>\n",
       "      <td>Accounts Related Issue</td>\n",
       "      <td>Account Status Query..</td>\n",
       "      <td>NaN</td>\n",
       "      <td>Informed user to visit branch\\t</td>\n",
       "      <td>Account Status Query</td>\n",
       "      <td>Phone Support</td>\n",
       "      <td>close</td>\n",
       "    </tr>\n",
       "    <tr>\n",
       "      <th>3</th>\n",
       "      <td>Accounts Related Issue</td>\n",
       "      <td>Client wants Discount...</td>\n",
       "      <td>NaN</td>\n",
       "      <td>Discount not provided.</td>\n",
       "      <td>Client wants Discount.</td>\n",
       "      <td>Desk Support</td>\n",
       "      <td>paid</td>\n",
       "    </tr>\n",
       "    <tr>\n",
       "      <th>4</th>\n",
       "      <td>Slow Internet Connection (FTTH)</td>\n",
       "      <td>Low power level recorded [&lt; -2..</td>\n",
       "      <td>optical power level is low(-26 dbm)please do n...</td>\n",
       "      <td>Power level managed</td>\n",
       "      <td>Low power level recorded [&lt; -26 dbm]</td>\n",
       "      <td>Phone Support</td>\n",
       "      <td>NaN</td>\n",
       "    </tr>\n",
       "  </tbody>\n",
       "</table>\n",
       "</div>"
      ],
      "text/plain": [
       "                 PROBLEM TYPE NAME                           PROBLEM  \\\n",
       "0           Accounts Related Issue            Query about Packages..   \n",
       "1    No Internet Connection (FTTH)              ONU status offline..   \n",
       "2           Accounts Related Issue            Account Status Query..   \n",
       "3           Accounts Related Issue          Client wants Discount...   \n",
       "4  Slow Internet Connection (FTTH)  Low power level recorded [< -2..   \n",
       "\n",
       "                                     ADDITIONAL INFO  \\\n",
       "0                                                NaN   \n",
       "1                                           Offline.   \n",
       "2                                                NaN   \n",
       "3                                                NaN   \n",
       "4  optical power level is low(-26 dbm)please do n...   \n",
       "\n",
       "                                  SOLUTION  \\\n",
       "0                    Advance payment query   \n",
       "1   Pole shifting/road expansion completed   \n",
       "2          Informed user to visit branch\\t   \n",
       "3                   Discount not provided.   \n",
       "4                      Power level managed   \n",
       "\n",
       "                         ACTUAL PROBLEM        SUPPORT TYPE     SOLVED COMMENT  \n",
       "0                  Query about Packages       Phone Support                NaN  \n",
       "1                     now wire managed.  ONU status offline  Phone Support CSR  \n",
       "2                  Account Status Query       Phone Support              close  \n",
       "3                Client wants Discount.        Desk Support               paid  \n",
       "4  Low power level recorded [< -26 dbm]       Phone Support                NaN  "
      ]
     },
     "execution_count": 24,
     "metadata": {},
     "output_type": "execute_result"
    }
   ],
   "source": [
    "\n",
    "# Drop irrelevant columns (if any). Adjust based on your data.\n",
    "columns_to_drop = ['SEVERITY NAME', 'ISSUED BY', 'SOLVED BY', 'CSR GROUP', 'SUPPORT ZONE', 'ISSUED BY GROUP', 'PLANCAT TYPE', 'Unnamed: 14', 'Unnamed: 15',\n",
    "       'Unnamed: 16']  # adjust the column names\n",
    "data = data.drop(columns=columns_to_drop, errors='ignore')\n",
    "\n",
    "\n",
    "# Check the data again\n",
    "data.head()\n"
   ]
  },
  {
   "cell_type": "code",
   "execution_count": 25,
   "id": "818db149-7d9f-492c-80c5-6f6479667072",
   "metadata": {},
   "outputs": [
    {
     "name": "stdout",
     "output_type": "stream",
     "text": [
      "                  PROBLEM TYPE NAME                           PROBLEM  \\\n",
      "0            Accounts Related Issue            Query about Packages..   \n",
      "1     No Internet Connection (FTTH)              ONU status offline..   \n",
      "2            Accounts Related Issue            Account Status Query..   \n",
      "3            Accounts Related Issue          Client wants Discount...   \n",
      "4   Slow Internet Connection (FTTH)  Low power level recorded [< -2..   \n",
      "..                              ...                               ...   \n",
      "95           Accounts Related Issue            IPTV Related Issues...   \n",
      "96              IPTV Related Issues  NetTV bonus not added after pa..   \n",
      "97                  General Inquiry                 Technical Query..   \n",
      "98                  General Inquiry                 Technical Query..   \n",
      "99                  General Inquiry                 Technical Query..   \n",
      "\n",
      "                                      ADDITIONAL INFO  \\\n",
      "0                                                 NaN   \n",
      "1                                            Offline.   \n",
      "2                                                 NaN   \n",
      "3                                                 NaN   \n",
      "4   optical power level is low(-26 dbm)please do n...   \n",
      "..                                                ...   \n",
      "95                      Auto close by sub tt:10416668   \n",
      "96                      Auto close by sub tt:10401572   \n",
      "97                      Auto close by sub tt:10363285   \n",
      "98                      Auto close by sub tt:10372371   \n",
      "99                      Auto close by sub tt:10352313   \n",
      "\n",
      "                                   SOLUTION  \\\n",
      "0                     Advance payment query   \n",
      "1    Pole shifting/road expansion completed   \n",
      "2           Informed user to visit branch\\t   \n",
      "3                    Discount not provided.   \n",
      "4                       Power level managed   \n",
      "..                                      ...   \n",
      "95                                      NaN   \n",
      "96                                      NaN   \n",
      "97                                      NaN   \n",
      "98                                      NaN   \n",
      "99                                      NaN   \n",
      "\n",
      "                          ACTUAL PROBLEM        SUPPORT TYPE  \\\n",
      "0                   Query about Packages       Phone Support   \n",
      "1                      now wire managed.  ONU status offline   \n",
      "2                   Account Status Query       Phone Support   \n",
      "3                 Client wants Discount.        Desk Support   \n",
      "4   Low power level recorded [< -26 dbm]       Phone Support   \n",
      "..                                   ...                 ...   \n",
      "95                  IPTV Related Issues.       Field Support   \n",
      "96   NetTV bonus not added after payment       Field Support   \n",
      "97                       Technical Query       Field Support   \n",
      "98                       Technical Query       Field Support   \n",
      "99                       Technical Query       Field Support   \n",
      "\n",
      "                                       SOLVED COMMENT  \n",
      "0                                                 NaN  \n",
      "1                                   Phone Support CSR  \n",
      "2                                               close  \n",
      "3                                                paid  \n",
      "4                                                 NaN  \n",
      "..                                                ...  \n",
      "95  provided req information about installation of...  \n",
      "96              package add vako raheynxa //add gareo  \n",
      "97                              verified/mac disabled  \n",
      "98                                                NaN  \n",
      "99                                                NaN  \n",
      "\n",
      "[100 rows x 7 columns]\n"
     ]
    }
   ],
   "source": [
    "\n",
    "print(data.head(100))"
   ]
  },
  {
   "cell_type": "code",
   "execution_count": 26,
   "id": "787e1542-b23a-4873-9102-ef430ea4a993",
   "metadata": {},
   "outputs": [
    {
     "name": "stdout",
     "output_type": "stream",
     "text": [
      "Missing data in each column:\n",
      "PROBLEM TYPE NAME      45\n",
      "PROBLEM                45\n",
      "ADDITIONAL INFO        94\n",
      "SOLUTION             1524\n",
      "ACTUAL PROBLEM         48\n",
      "SUPPORT TYPE           48\n",
      "SOLVED COMMENT        955\n",
      "dtype: int64\n"
     ]
    }
   ],
   "source": [
    "# Check for missing values in each column\n",
    "missing_data = data.isnull().sum()\n",
    "\n",
    "# Display the columns with the number of missing values\n",
    "print(\"Missing data in each column:\")\n",
    "print(missing_data)\n"
   ]
  },
  {
   "cell_type": "code",
   "execution_count": 27,
   "id": "9403e312-147b-424d-abf3-a0fd45a8c77e",
   "metadata": {},
   "outputs": [
    {
     "name": "stdout",
     "output_type": "stream",
     "text": [
      "                  PROBLEM TYPE NAME                           PROBLEM  \\\n",
      "0            Accounts Related Issue            Query about Packages..   \n",
      "1     No Internet Connection (FTTH)              ONU status offline..   \n",
      "2            Accounts Related Issue            Account Status Query..   \n",
      "3            Accounts Related Issue          Client wants Discount...   \n",
      "4   Slow Internet Connection (FTTH)  Low power level recorded [< -2..   \n",
      "..                              ...                               ...   \n",
      "95           Accounts Related Issue            IPTV Related Issues...   \n",
      "96              IPTV Related Issues  NetTV bonus not added after pa..   \n",
      "97                  General Inquiry                 Technical Query..   \n",
      "98                  General Inquiry                 Technical Query..   \n",
      "99                  General Inquiry                 Technical Query..   \n",
      "\n",
      "                                      ADDITIONAL INFO  \\\n",
      "0                                        Not provided   \n",
      "1                                            Offline.   \n",
      "2                                        Not provided   \n",
      "3                                        Not provided   \n",
      "4   optical power level is low(-26 dbm)please do n...   \n",
      "..                                                ...   \n",
      "95                      Auto close by sub tt:10416668   \n",
      "96                      Auto close by sub tt:10401572   \n",
      "97                      Auto close by sub tt:10363285   \n",
      "98                      Auto close by sub tt:10372371   \n",
      "99                      Auto close by sub tt:10352313   \n",
      "\n",
      "                                   SOLUTION  \\\n",
      "0                     Advance payment query   \n",
      "1    Pole shifting/road expansion completed   \n",
      "2           Informed user to visit branch\\t   \n",
      "3                    Discount not provided.   \n",
      "4                       Power level managed   \n",
      "..                                      ...   \n",
      "95                            Not available   \n",
      "96                            Not available   \n",
      "97                            Not available   \n",
      "98                            Not available   \n",
      "99                            Not available   \n",
      "\n",
      "                          ACTUAL PROBLEM        SUPPORT TYPE  \\\n",
      "0                   Query about Packages       Phone Support   \n",
      "1                      now wire managed.  ONU status offline   \n",
      "2                   Account Status Query       Phone Support   \n",
      "3                 Client wants Discount.        Desk Support   \n",
      "4   Low power level recorded [< -26 dbm]       Phone Support   \n",
      "..                                   ...                 ...   \n",
      "95                  IPTV Related Issues.       Field Support   \n",
      "96   NetTV bonus not added after payment       Field Support   \n",
      "97                       Technical Query       Field Support   \n",
      "98                       Technical Query       Field Support   \n",
      "99                       Technical Query       Field Support   \n",
      "\n",
      "                                       SOLVED COMMENT  \n",
      "0                                       Not available  \n",
      "1                                   Phone Support CSR  \n",
      "2                                               close  \n",
      "3                                                paid  \n",
      "4                                       Not available  \n",
      "..                                                ...  \n",
      "95  provided req information about installation of...  \n",
      "96              package add vako raheynxa //add gareo  \n",
      "97                              verified/mac disabled  \n",
      "98                                      Not available  \n",
      "99                                      Not available  \n",
      "\n",
      "[100 rows x 7 columns]\n"
     ]
    }
   ],
   "source": [
    "# Fill missing values in 'PROBLEM TYPE NAME' and 'PROBLEM' with 'Unknown'\n",
    "data['PROBLEM TYPE NAME'] = data['PROBLEM TYPE NAME'].fillna('Unknown')\n",
    "data['PROBLEM'] = data['PROBLEM'].fillna('Unknown')\n",
    "\n",
    "# Fill missing values in 'ADDITIONAL INFO' with 'Not provided'\n",
    "data['ADDITIONAL INFO'] = data['ADDITIONAL INFO'].fillna('Not provided')\n",
    "\n",
    "# Fill missing values in 'ACTUAL PROBLEM' and 'SUPPORT TYPE' with 'Unknown'\n",
    "data['ACTUAL PROBLEM'] = data['ACTUAL PROBLEM'].fillna('Unknown')\n",
    "data['SUPPORT TYPE'] = data['SUPPORT TYPE'].fillna('Unknown')\n",
    "\n",
    "# Fill missing values in 'SOLUTION' and 'SOLVED COMMENT' with 'Not available'\n",
    "data['SOLUTION'] = data['SOLUTION'].fillna('Not available')\n",
    "data['SOLVED COMMENT'] = data['SOLVED COMMENT'].fillna('Not available')\n",
    "\n",
    "# Display the updated data to check\n",
    "print(data.head(100))\n"
   ]
  },
  {
   "cell_type": "code",
   "execution_count": 28,
   "id": "a26ac8b3-6d46-4a0c-81b7-702ae2ffe942",
   "metadata": {},
   "outputs": [
    {
     "data": {
      "text/html": [
       "<div>\n",
       "<style scoped>\n",
       "    .dataframe tbody tr th:only-of-type {\n",
       "        vertical-align: middle;\n",
       "    }\n",
       "\n",
       "    .dataframe tbody tr th {\n",
       "        vertical-align: top;\n",
       "    }\n",
       "\n",
       "    .dataframe thead th {\n",
       "        text-align: right;\n",
       "    }\n",
       "</style>\n",
       "<table border=\"1\" class=\"dataframe\">\n",
       "  <thead>\n",
       "    <tr style=\"text-align: right;\">\n",
       "      <th></th>\n",
       "      <th>PROBLEM TYPE NAME</th>\n",
       "      <th>PROBLEM</th>\n",
       "      <th>ADDITIONAL INFO</th>\n",
       "      <th>SOLUTION</th>\n",
       "      <th>ACTUAL PROBLEM</th>\n",
       "      <th>SUPPORT TYPE</th>\n",
       "      <th>SOLVED COMMENT</th>\n",
       "    </tr>\n",
       "  </thead>\n",
       "  <tbody>\n",
       "    <tr>\n",
       "      <th>0</th>\n",
       "      <td>Accounts Related Issue</td>\n",
       "      <td>Query about Packages..</td>\n",
       "      <td>Not provided</td>\n",
       "      <td>Advance payment query</td>\n",
       "      <td>Query about Packages</td>\n",
       "      <td>Phone Support</td>\n",
       "      <td>Not available</td>\n",
       "    </tr>\n",
       "    <tr>\n",
       "      <th>1</th>\n",
       "      <td>No Internet Connection (FTTH)</td>\n",
       "      <td>ONU status offline..</td>\n",
       "      <td>Offline.</td>\n",
       "      <td>Pole shifting/road expansion completed</td>\n",
       "      <td>now wire managed.</td>\n",
       "      <td>ONU status offline</td>\n",
       "      <td>Phone Support CSR</td>\n",
       "    </tr>\n",
       "    <tr>\n",
       "      <th>2</th>\n",
       "      <td>Accounts Related Issue</td>\n",
       "      <td>Account Status Query..</td>\n",
       "      <td>Not provided</td>\n",
       "      <td>Informed user to visit branch\\t</td>\n",
       "      <td>Account Status Query</td>\n",
       "      <td>Phone Support</td>\n",
       "      <td>close</td>\n",
       "    </tr>\n",
       "    <tr>\n",
       "      <th>3</th>\n",
       "      <td>Accounts Related Issue</td>\n",
       "      <td>Client wants Discount...</td>\n",
       "      <td>Not provided</td>\n",
       "      <td>Discount not provided.</td>\n",
       "      <td>Client wants Discount.</td>\n",
       "      <td>Desk Support</td>\n",
       "      <td>paid</td>\n",
       "    </tr>\n",
       "    <tr>\n",
       "      <th>4</th>\n",
       "      <td>Slow Internet Connection (FTTH)</td>\n",
       "      <td>Low power level recorded [&lt; -2..</td>\n",
       "      <td>optical power level is low(-26 dbm)please do n...</td>\n",
       "      <td>Power level managed</td>\n",
       "      <td>Low power level recorded [&lt; -26 dbm]</td>\n",
       "      <td>Phone Support</td>\n",
       "      <td>Not available</td>\n",
       "    </tr>\n",
       "  </tbody>\n",
       "</table>\n",
       "</div>"
      ],
      "text/plain": [
       "                 PROBLEM TYPE NAME                           PROBLEM  \\\n",
       "0           Accounts Related Issue            Query about Packages..   \n",
       "1    No Internet Connection (FTTH)              ONU status offline..   \n",
       "2           Accounts Related Issue            Account Status Query..   \n",
       "3           Accounts Related Issue          Client wants Discount...   \n",
       "4  Slow Internet Connection (FTTH)  Low power level recorded [< -2..   \n",
       "\n",
       "                                     ADDITIONAL INFO  \\\n",
       "0                                       Not provided   \n",
       "1                                           Offline.   \n",
       "2                                       Not provided   \n",
       "3                                       Not provided   \n",
       "4  optical power level is low(-26 dbm)please do n...   \n",
       "\n",
       "                                  SOLUTION  \\\n",
       "0                    Advance payment query   \n",
       "1   Pole shifting/road expansion completed   \n",
       "2          Informed user to visit branch\\t   \n",
       "3                   Discount not provided.   \n",
       "4                      Power level managed   \n",
       "\n",
       "                         ACTUAL PROBLEM        SUPPORT TYPE     SOLVED COMMENT  \n",
       "0                  Query about Packages       Phone Support      Not available  \n",
       "1                     now wire managed.  ONU status offline  Phone Support CSR  \n",
       "2                  Account Status Query       Phone Support              close  \n",
       "3                Client wants Discount.        Desk Support               paid  \n",
       "4  Low power level recorded [< -26 dbm]       Phone Support      Not available  "
      ]
     },
     "execution_count": 28,
     "metadata": {},
     "output_type": "execute_result"
    }
   ],
   "source": [
    "# Check the data again\n",
    "data.head()"
   ]
  },
  {
   "cell_type": "code",
   "execution_count": 32,
   "id": "b2d37634-860e-41a3-b247-801cdefa59e8",
   "metadata": {},
   "outputs": [
    {
     "name": "stdout",
     "output_type": "stream",
     "text": [
      "Missing data in each column:\n",
      "PROBLEM TYPE NAME    0\n",
      "PROBLEM              0\n",
      "ADDITIONAL INFO      0\n",
      "SOLUTION             0\n",
      "ACTUAL PROBLEM       0\n",
      "SUPPORT TYPE         0\n",
      "SOLVED COMMENT       0\n",
      "dtype: int64\n"
     ]
    }
   ],
   "source": [
    "# Check for missing values in each column\n",
    "missing_data = data.isnull().sum()\n",
    "\n",
    "# Display the columns with the number of missing values\n",
    "print(\"Missing data in each column:\")\n",
    "print(missing_data)"
   ]
  },
  {
   "cell_type": "code",
   "execution_count": null,
   "id": "732a0548-bfd3-4301-962a-8a804f99a115",
   "metadata": {},
   "outputs": [],
   "source": []
  },
  {
   "cell_type": "code",
   "execution_count": 33,
   "id": "4cfdc6df-c9b4-4983-b5ad-f6cb052507bc",
   "metadata": {},
   "outputs": [
    {
     "name": "stderr",
     "output_type": "stream",
     "text": [
      "[nltk_data] Downloading package stopwords to\n",
      "[nltk_data]     C:\\Users\\Dell\\AppData\\Roaming\\nltk_data...\n",
      "[nltk_data]   Package stopwords is already up-to-date!\n",
      "[nltk_data] Downloading package wordnet to\n",
      "[nltk_data]     C:\\Users\\Dell\\AppData\\Roaming\\nltk_data...\n",
      "[nltk_data]   Package wordnet is already up-to-date!\n"
     ]
    }
   ],
   "source": [
    "import nltk\n",
    "from nltk.corpus import stopwords\n",
    "from nltk.stem import WordNetLemmatizer\n",
    "\n",
    "# Download the necessary resources if you haven't already\n",
    "nltk.download('stopwords')\n",
    "nltk.download('wordnet')\n",
    "\n",
    "# Initialize the lemmatizer and stop words list\n",
    "lemmatizer = WordNetLemmatizer()\n",
    "stop_words = set(stopwords.words('english'))\n",
    "\n",
    "# Define the text cleaning function\n",
    "def clean_text(text):\n",
    "    # Convert text to lowercase\n",
    "    text = text.lower()\n",
    "    \n",
    "    # Tokenize and remove stopwords, then lemmatize each word\n",
    "    text = ' '.join([lemmatizer.lemmatize(word) for word in text.split() if word not in stop_words])\n",
    "    \n",
    "    return text"
   ]
  },
  {
   "cell_type": "code",
   "execution_count": 36,
   "id": "198f6555-1ee9-42c9-9b1e-2c03c488bec4",
   "metadata": {},
   "outputs": [
    {
     "name": "stdout",
     "output_type": "stream",
     "text": [
      "Cleaned Combined Text:\n",
      "                                cleaned_combined_text\n",
      "0   account related issue query packages.. query p...\n",
      "1   internet connection (ftth) onu status offline....\n",
      "2   account related issue account status query.. a...\n",
      "3   account related issue client want discount... ...\n",
      "4   slow internet connection (ftth) low power leve...\n",
      "..                                                ...\n",
      "95  account related issue iptv related issues... i...\n",
      "96  iptv related issue nettv bonus added pa.. nett...\n",
      "97  general inquiry technical query.. technical qu...\n",
      "98  general inquiry technical query.. technical qu...\n",
      "99  general inquiry technical query.. technical qu...\n",
      "\n",
      "[100 rows x 1 columns]\n"
     ]
    }
   ],
   "source": [
    "# Combine all relevant columns into one text column for the model to use\n",
    "data['combined_text'] = (\n",
    "    data['PROBLEM TYPE NAME'] + \" \" +\n",
    "    data['PROBLEM'] + \" \" +\n",
    "    data['ACTUAL PROBLEM'] + \" \" +\n",
    "    data['SUPPORT TYPE'] + \" \" +\n",
    "    data['ADDITIONAL INFO'] + \" \" +\n",
    "    data['SOLVED COMMENT']\n",
    ")\n",
    "\n",
    "# Clean the combined text\n",
    "data['cleaned_combined_text'] = data['combined_text'].apply(clean_text)\n",
    "\n",
    "# Display the cleaned combined text to check the output\n",
    "print(\"Cleaned Combined Text:\")\n",
    "print(data[['cleaned_combined_text']].head(100))"
   ]
  },
  {
   "cell_type": "code",
   "execution_count": 37,
   "id": "310abc07-3c3a-4081-a8e0-ea1a7fffbe6b",
   "metadata": {},
   "outputs": [
    {
     "name": "stdout",
     "output_type": "stream",
     "text": [
      "Number of rows: 1588\n",
      "Number of columns: 9\n"
     ]
    }
   ],
   "source": [
    "# Check the number of rows and columns in the dataset\n",
    "print(f\"Number of rows: {data.shape[0]}\")\n",
    "print(f\"Number of columns: {data.shape[1]}\")\n"
   ]
  },
  {
   "cell_type": "code",
   "execution_count": 38,
   "id": "cb58095a-8d95-47aa-a91f-4b04cfb26c37",
   "metadata": {},
   "outputs": [
    {
     "name": "stdout",
     "output_type": "stream",
     "text": [
      "Index(['PROBLEM TYPE NAME', 'PROBLEM', 'ADDITIONAL INFO', 'SOLUTION',\n",
      "       'ACTUAL PROBLEM', 'SUPPORT TYPE', 'SOLVED COMMENT', 'combined_text',\n",
      "       'cleaned_combined_text'],\n",
      "      dtype='object')\n"
     ]
    }
   ],
   "source": [
    "# Display the column names of the dataset\n",
    "print(data.columns)\n"
   ]
  },
  {
   "cell_type": "code",
   "execution_count": 40,
   "id": "250f018b-1269-42f5-94d7-5dd74326877f",
   "metadata": {},
   "outputs": [
    {
     "name": "stdout",
     "output_type": "stream",
     "text": [
      "                  PROBLEM TYPE NAME                           PROBLEM  \\\n",
      "0            Accounts Related Issue            Query about Packages..   \n",
      "1     No Internet Connection (FTTH)              ONU status offline..   \n",
      "2            Accounts Related Issue            Account Status Query..   \n",
      "3            Accounts Related Issue          Client wants Discount...   \n",
      "4   Slow Internet Connection (FTTH)  Low power level recorded [< -2..   \n",
      "5   Slow Internet Connection (FTTH)  Low power level recorded [< -2..   \n",
      "6     No Internet Connection (FTTH)              ONU status offline..   \n",
      "7            Accounts Related Issue        Query about Compensation..   \n",
      "8            Accounts Related Issue        Query about Compensation..   \n",
      "9            Accounts Related Issue        Query about Compensation..   \n",
      "10           Accounts Related Issue        Query about Compensation..   \n",
      "11              IPTV Related Issues  Error Code 1598:No internet co..   \n",
      "12  Slow Internet Connection (FTTH)  User connected beyond at 5Ghz ..   \n",
      "13           Accounts Related Issue          Account extend request..   \n",
      "14           Accounts Related Issue          Client wants Discount...   \n",
      "15    No Internet Connection (FTTH)              ONU status offline..   \n",
      "16    No Internet Connection (FTTH)              ONU status offline..   \n",
      "17  Slow Internet Connection (FTTH)  Low power level recorded [< -2..   \n",
      "18    No Internet Connection (FTTH)              ONU status offline..   \n",
      "19    No Internet Connection (FTTH)              ONU status offline..   \n",
      "\n",
      "                                      ADDITIONAL INFO  \\\n",
      "0                                        Not provided   \n",
      "1                                            Offline.   \n",
      "2                                        Not provided   \n",
      "3                                        Not provided   \n",
      "4   optical power level is low(-26 dbm)please do n...   \n",
      "5   optical power level is low(-26 dbm)please do n...   \n",
      "6                                        Not provided   \n",
      "7                                        Not provided   \n",
      "8                                        Not provided   \n",
      "9                                        Not provided   \n",
      "10                                       Not provided   \n",
      "11                                       Not provided   \n",
      "12                                       Not provided   \n",
      "13                                       Not provided   \n",
      "14                                       Not provided   \n",
      "15                                       Not provided   \n",
      "16                                           Offline.   \n",
      "17  optical power level is low(-26 dbm)please do n...   \n",
      "18                                       Not provided   \n",
      "19                                           Offline.   \n",
      "\n",
      "                                           SOLUTION  \\\n",
      "0                             Advance payment query   \n",
      "1            Pole shifting/road expansion completed   \n",
      "2                   Informed user to visit branch\\t   \n",
      "3                            Discount not provided.   \n",
      "4                               Power level managed   \n",
      "5                               Power level managed   \n",
      "6                              Fiber Cable Changed    \n",
      "7   Issued task ticket to Retail Customer Care Unit   \n",
      "8   Issued task ticket to Retail Customer Care Unit   \n",
      "9   Issued task ticket to Retail Customer Care Unit   \n",
      "10  Issued task ticket to Retail Customer Care Unit   \n",
      "11                         STB rebooted.Now working   \n",
      "12                         Installed Beacon router.   \n",
      "13                           Complimentary Account.   \n",
      "14                               Discount Provided.   \n",
      "15                       User working automatically   \n",
      "16                       User working automatically   \n",
      "17                             Fiber cable changed    \n",
      "18    Bending loss on drop wire. Drop wire managed.   \n",
      "19    Bending loss on drop wire. Drop wire managed.   \n",
      "\n",
      "                            ACTUAL PROBLEM        SUPPORT TYPE  \\\n",
      "0                     Query about Packages       Phone Support   \n",
      "1                        now wire managed.  ONU status offline   \n",
      "2                     Account Status Query       Phone Support   \n",
      "3                   Client wants Discount.        Desk Support   \n",
      "4     Low power level recorded [< -26 dbm]       Phone Support   \n",
      "5     Low power level recorded [< -26 dbm]       Phone Support   \n",
      "6                       ONU status offline       Phone Support   \n",
      "7                 Query about Compensation       Phone Support   \n",
      "8                 Query about Compensation       Phone Support   \n",
      "9                 Query about Compensation       Phone Support   \n",
      "10                Query about Compensation       Phone Support   \n",
      "11  Error Code 1598:No internet connection       Phone Support   \n",
      "12  User connected beyond at 5Ghz coverage       Phone Support   \n",
      "13                  Account extend request        Desk Support   \n",
      "14                  Client wants Discount.        Desk Support   \n",
      "15                      ONU status offline       Phone Support   \n",
      "16                      ONU status offline       Phone Support   \n",
      "17    Low power level recorded [< -26 dbm]       Phone Support   \n",
      "18                      ONU status offline       Phone Support   \n",
      "19                      ONU status offline       Phone Support   \n",
      "\n",
      "       SOLVED COMMENT                                      combined_text  \\\n",
      "0       Not available  Accounts Related Issue Query about Packages.. ...   \n",
      "1   Phone Support CSR  No Internet Connection (FTTH) ONU status offli...   \n",
      "2               close  Accounts Related Issue Account Status Query.. ...   \n",
      "3                paid  Accounts Related Issue Client wants Discount.....   \n",
      "4       Not available  Slow Internet Connection (FTTH) Low power leve...   \n",
      "5       Not available  Slow Internet Connection (FTTH) Low power leve...   \n",
      "6       Not available  No Internet Connection (FTTH) ONU status offli...   \n",
      "7        on process    Accounts Related Issue Query about Compensatio...   \n",
      "8        on process    Accounts Related Issue Query about Compensatio...   \n",
      "9        on process    Accounts Related Issue Query about Compensatio...   \n",
      "10       on process    Accounts Related Issue Query about Compensatio...   \n",
      "11      Not available  IPTV Related Issues Error Code 1598:No interne...   \n",
      "12      Not available  Slow Internet Connection (FTTH) User connected...   \n",
      "13      Not available  Accounts Related Issue Account extend request....   \n",
      "14       already done  Accounts Related Issue Client wants Discount.....   \n",
      "15      Not available  No Internet Connection (FTTH) ONU status offli...   \n",
      "16      Not available  No Internet Connection (FTTH) ONU status offli...   \n",
      "17                  .  Slow Internet Connection (FTTH) Low power leve...   \n",
      "18      Not available  No Internet Connection (FTTH) ONU status offli...   \n",
      "19                  .  No Internet Connection (FTTH) ONU status offli...   \n",
      "\n",
      "                                cleaned_combined_text  \n",
      "0   account related issue query packages.. query p...  \n",
      "1   internet connection (ftth) onu status offline....  \n",
      "2   account related issue account status query.. a...  \n",
      "3   account related issue client want discount... ...  \n",
      "4   slow internet connection (ftth) low power leve...  \n",
      "5   slow internet connection (ftth) low power leve...  \n",
      "6   internet connection (ftth) onu status offline....  \n",
      "7   account related issue query compensation.. que...  \n",
      "8   account related issue query compensation.. que...  \n",
      "9   account related issue query compensation.. que...  \n",
      "10  account related issue query compensation.. que...  \n",
      "11  iptv related issue error code 1598:no internet...  \n",
      "12  slow internet connection (ftth) user connected...  \n",
      "13  account related issue account extend request.....  \n",
      "14  account related issue client want discount... ...  \n",
      "15  internet connection (ftth) onu status offline....  \n",
      "16  internet connection (ftth) onu status offline....  \n",
      "17  slow internet connection (ftth) low power leve...  \n",
      "18  internet connection (ftth) onu status offline....  \n",
      "19  internet connection (ftth) onu status offline....  \n"
     ]
    }
   ],
   "source": [
    "# Display the first 20 rows of the dataset after cleaning\n",
    "print(data.head(20))"
   ]
  },
  {
   "cell_type": "code",
   "execution_count": 44,
   "id": "5a9fa6df-4f29-4b9f-b17c-b227ae26c295",
   "metadata": {},
   "outputs": [
    {
     "name": "stdout",
     "output_type": "stream",
     "text": [
      "Cleaned data saved to: C:\\codes\\Wl\\cleaned_data.csv\n"
     ]
    }
   ],
   "source": [
    "# Save the cleaned data to a local directory (adjust the path for your local system)\n",
    "cleaned_file_path = 'C:\\codes\\Wl\\cleaned_data.csv'  # Modify the path\n",
    "data.to_csv(cleaned_file_path, index=False)\n",
    "\n",
    "# Output the cleaned file path\n",
    "print(f\"Cleaned data saved to: {cleaned_file_path}\")\n"
   ]
  },
  {
   "cell_type": "code",
   "execution_count": 48,
   "id": "b1229734-9960-46bb-b3f4-f4e0790917cd",
   "metadata": {},
   "outputs": [
    {
     "name": "stdout",
     "output_type": "stream",
     "text": [
      "Defaulting to user installation because normal site-packages is not writeable\n",
      "Requirement already satisfied: transformers in c:\\users\\dell\\appdata\\roaming\\python\\python311\\site-packages (4.49.0)\n",
      "Requirement already satisfied: filelock in c:\\users\\dell\\appdata\\roaming\\python\\python311\\site-packages (from transformers) (3.17.0)\n",
      "Requirement already satisfied: huggingface-hub<1.0,>=0.26.0 in c:\\users\\dell\\appdata\\roaming\\python\\python311\\site-packages (from transformers) (0.29.2)\n",
      "Requirement already satisfied: numpy>=1.17 in c:\\users\\dell\\appdata\\roaming\\python\\python311\\site-packages (from transformers) (1.26.1)\n",
      "Requirement already satisfied: packaging>=20.0 in c:\\users\\dell\\appdata\\roaming\\python\\python311\\site-packages (from transformers) (23.1)\n",
      "Requirement already satisfied: pyyaml>=5.1 in c:\\users\\dell\\appdata\\roaming\\python\\python311\\site-packages (from transformers) (6.0.1)\n",
      "Requirement already satisfied: regex!=2019.12.17 in c:\\users\\dell\\appdata\\roaming\\python\\python311\\site-packages (from transformers) (2024.11.6)\n",
      "Requirement already satisfied: requests in c:\\users\\dell\\appdata\\roaming\\python\\python311\\site-packages (from transformers) (2.31.0)\n",
      "Requirement already satisfied: tokenizers<0.22,>=0.21 in c:\\users\\dell\\appdata\\roaming\\python\\python311\\site-packages (from transformers) (0.21.0)\n",
      "Requirement already satisfied: safetensors>=0.4.1 in c:\\users\\dell\\appdata\\roaming\\python\\python311\\site-packages (from transformers) (0.5.3)\n",
      "Requirement already satisfied: tqdm>=4.27 in c:\\users\\dell\\appdata\\roaming\\python\\python311\\site-packages (from transformers) (4.67.1)\n",
      "Requirement already satisfied: fsspec>=2023.5.0 in c:\\users\\dell\\appdata\\roaming\\python\\python311\\site-packages (from huggingface-hub<1.0,>=0.26.0->transformers) (2025.3.0)\n",
      "Requirement already satisfied: typing-extensions>=3.7.4.3 in c:\\users\\dell\\appdata\\roaming\\python\\python311\\site-packages (from huggingface-hub<1.0,>=0.26.0->transformers) (4.12.2)\n",
      "Requirement already satisfied: colorama in c:\\users\\dell\\appdata\\roaming\\python\\python311\\site-packages (from tqdm>=4.27->transformers) (0.4.6)\n",
      "Requirement already satisfied: charset-normalizer<4,>=2 in c:\\users\\dell\\appdata\\roaming\\python\\python311\\site-packages (from requests->transformers) (3.2.0)\n",
      "Requirement already satisfied: idna<4,>=2.5 in c:\\users\\dell\\appdata\\roaming\\python\\python311\\site-packages (from requests->transformers) (3.4)\n",
      "Requirement already satisfied: urllib3<3,>=1.21.1 in c:\\users\\dell\\appdata\\roaming\\python\\python311\\site-packages (from requests->transformers) (1.26.16)\n",
      "Requirement already satisfied: certifi>=2017.4.17 in c:\\users\\dell\\appdata\\roaming\\python\\python311\\site-packages (from requests->transformers) (2023.7.22)\n"
     ]
    },
    {
     "name": "stderr",
     "output_type": "stream",
     "text": [
      "\n",
      "[notice] A new release of pip is available: 23.3.2 -> 25.0.1\n",
      "[notice] To update, run: python.exe -m pip install --upgrade pip\n"
     ]
    },
    {
     "name": "stdout",
     "output_type": "stream",
     "text": [
      "Defaulting to user installation because normal site-packages is not writeable\n",
      "Requirement already satisfied: faiss-cpu in c:\\users\\dell\\appdata\\roaming\\python\\python311\\site-packages (1.10.0)\n",
      "Requirement already satisfied: numpy<3.0,>=1.25.0 in c:\\users\\dell\\appdata\\roaming\\python\\python311\\site-packages (from faiss-cpu) (1.26.1)\n",
      "Requirement already satisfied: packaging in c:\\users\\dell\\appdata\\roaming\\python\\python311\\site-packages (from faiss-cpu) (23.1)\n"
     ]
    },
    {
     "name": "stderr",
     "output_type": "stream",
     "text": [
      "\n",
      "[notice] A new release of pip is available: 23.3.2 -> 25.0.1\n",
      "[notice] To update, run: python.exe -m pip install --upgrade pip\n"
     ]
    },
    {
     "name": "stdout",
     "output_type": "stream",
     "text": [
      "Defaulting to user installation because normal site-packages is not writeable\n",
      "Requirement already satisfied: sentence-transformers in c:\\users\\dell\\appdata\\roaming\\python\\python311\\site-packages (3.4.1)\n",
      "Requirement already satisfied: transformers<5.0.0,>=4.41.0 in c:\\users\\dell\\appdata\\roaming\\python\\python311\\site-packages (from sentence-transformers) (4.49.0)\n",
      "Requirement already satisfied: tqdm in c:\\users\\dell\\appdata\\roaming\\python\\python311\\site-packages (from sentence-transformers) (4.67.1)\n",
      "Requirement already satisfied: torch>=1.11.0 in c:\\users\\dell\\appdata\\roaming\\python\\python311\\site-packages (from sentence-transformers) (2.6.0)\n",
      "Requirement already satisfied: scikit-learn in c:\\users\\dell\\appdata\\roaming\\python\\python311\\site-packages (from sentence-transformers) (1.3.2)\n",
      "Requirement already satisfied: scipy in c:\\users\\dell\\appdata\\roaming\\python\\python311\\site-packages (from sentence-transformers) (1.11.3)\n",
      "Requirement already satisfied: huggingface-hub>=0.20.0 in c:\\users\\dell\\appdata\\roaming\\python\\python311\\site-packages (from sentence-transformers) (0.29.2)\n",
      "Requirement already satisfied: Pillow in c:\\users\\dell\\appdata\\roaming\\python\\python311\\site-packages (from sentence-transformers) (10.0.0)\n",
      "Requirement already satisfied: filelock in c:\\users\\dell\\appdata\\roaming\\python\\python311\\site-packages (from huggingface-hub>=0.20.0->sentence-transformers) (3.17.0)\n",
      "Requirement already satisfied: fsspec>=2023.5.0 in c:\\users\\dell\\appdata\\roaming\\python\\python311\\site-packages (from huggingface-hub>=0.20.0->sentence-transformers) (2025.3.0)\n",
      "Requirement already satisfied: packaging>=20.9 in c:\\users\\dell\\appdata\\roaming\\python\\python311\\site-packages (from huggingface-hub>=0.20.0->sentence-transformers) (23.1)\n",
      "Requirement already satisfied: pyyaml>=5.1 in c:\\users\\dell\\appdata\\roaming\\python\\python311\\site-packages (from huggingface-hub>=0.20.0->sentence-transformers) (6.0.1)\n",
      "Requirement already satisfied: requests in c:\\users\\dell\\appdata\\roaming\\python\\python311\\site-packages (from huggingface-hub>=0.20.0->sentence-transformers) (2.31.0)\n",
      "Requirement already satisfied: typing-extensions>=3.7.4.3 in c:\\users\\dell\\appdata\\roaming\\python\\python311\\site-packages (from huggingface-hub>=0.20.0->sentence-transformers) (4.12.2)\n",
      "Requirement already satisfied: networkx in c:\\users\\dell\\appdata\\roaming\\python\\python311\\site-packages (from torch>=1.11.0->sentence-transformers) (3.4.2)\n",
      "Requirement already satisfied: jinja2 in c:\\users\\dell\\appdata\\roaming\\python\\python311\\site-packages (from torch>=1.11.0->sentence-transformers) (3.1.2)\n",
      "Requirement already satisfied: sympy==1.13.1 in c:\\users\\dell\\appdata\\roaming\\python\\python311\\site-packages (from torch>=1.11.0->sentence-transformers) (1.13.1)\n",
      "Requirement already satisfied: mpmath<1.4,>=1.1.0 in c:\\users\\dell\\appdata\\roaming\\python\\python311\\site-packages (from sympy==1.13.1->torch>=1.11.0->sentence-transformers) (1.3.0)\n",
      "Requirement already satisfied: colorama in c:\\users\\dell\\appdata\\roaming\\python\\python311\\site-packages (from tqdm->sentence-transformers) (0.4.6)\n",
      "Requirement already satisfied: numpy>=1.17 in c:\\users\\dell\\appdata\\roaming\\python\\python311\\site-packages (from transformers<5.0.0,>=4.41.0->sentence-transformers) (1.26.1)\n",
      "Requirement already satisfied: regex!=2019.12.17 in c:\\users\\dell\\appdata\\roaming\\python\\python311\\site-packages (from transformers<5.0.0,>=4.41.0->sentence-transformers) (2024.11.6)\n",
      "Requirement already satisfied: tokenizers<0.22,>=0.21 in c:\\users\\dell\\appdata\\roaming\\python\\python311\\site-packages (from transformers<5.0.0,>=4.41.0->sentence-transformers) (0.21.0)\n",
      "Requirement already satisfied: safetensors>=0.4.1 in c:\\users\\dell\\appdata\\roaming\\python\\python311\\site-packages (from transformers<5.0.0,>=4.41.0->sentence-transformers) (0.5.3)\n",
      "Requirement already satisfied: joblib>=1.1.1 in c:\\users\\dell\\appdata\\roaming\\python\\python311\\site-packages (from scikit-learn->sentence-transformers) (1.3.2)\n",
      "Requirement already satisfied: threadpoolctl>=2.0.0 in c:\\users\\dell\\appdata\\roaming\\python\\python311\\site-packages (from scikit-learn->sentence-transformers) (3.2.0)\n",
      "Requirement already satisfied: MarkupSafe>=2.0 in c:\\users\\dell\\appdata\\roaming\\python\\python311\\site-packages (from jinja2->torch>=1.11.0->sentence-transformers) (2.1.3)\n",
      "Requirement already satisfied: charset-normalizer<4,>=2 in c:\\users\\dell\\appdata\\roaming\\python\\python311\\site-packages (from requests->huggingface-hub>=0.20.0->sentence-transformers) (3.2.0)\n",
      "Requirement already satisfied: idna<4,>=2.5 in c:\\users\\dell\\appdata\\roaming\\python\\python311\\site-packages (from requests->huggingface-hub>=0.20.0->sentence-transformers) (3.4)\n",
      "Requirement already satisfied: urllib3<3,>=1.21.1 in c:\\users\\dell\\appdata\\roaming\\python\\python311\\site-packages (from requests->huggingface-hub>=0.20.0->sentence-transformers) (1.26.16)\n",
      "Requirement already satisfied: certifi>=2017.4.17 in c:\\users\\dell\\appdata\\roaming\\python\\python311\\site-packages (from requests->huggingface-hub>=0.20.0->sentence-transformers) (2023.7.22)\n"
     ]
    },
    {
     "name": "stderr",
     "output_type": "stream",
     "text": [
      "\n",
      "[notice] A new release of pip is available: 23.3.2 -> 25.0.1\n",
      "[notice] To update, run: python.exe -m pip install --upgrade pip\n"
     ]
    }
   ],
   "source": [
    "!pip install transformers\n",
    "!pip install faiss-cpu\n",
    "!pip install sentence-transformers\n"
   ]
  },
  {
   "cell_type": "code",
   "execution_count": 50,
   "id": "bfc9161c-4ff8-46a3-bc83-991f028292cb",
   "metadata": {},
   "outputs": [
    {
     "name": "stdout",
     "output_type": "stream",
     "text": [
      "                 PROBLEM TYPE NAME                           PROBLEM  \\\n",
      "0           Accounts Related Issue            Query about Packages..   \n",
      "1    No Internet Connection (FTTH)              ONU status offline..   \n",
      "2           Accounts Related Issue            Account Status Query..   \n",
      "3           Accounts Related Issue          Client wants Discount...   \n",
      "4  Slow Internet Connection (FTTH)  Low power level recorded [< -2..   \n",
      "\n",
      "                                     ADDITIONAL INFO  \\\n",
      "0                                       Not provided   \n",
      "1                                           Offline.   \n",
      "2                                       Not provided   \n",
      "3                                       Not provided   \n",
      "4  optical power level is low(-26 dbm)please do n...   \n",
      "\n",
      "                                  SOLUTION  \\\n",
      "0                    Advance payment query   \n",
      "1   Pole shifting/road expansion completed   \n",
      "2          Informed user to visit branch\\t   \n",
      "3                   Discount not provided.   \n",
      "4                      Power level managed   \n",
      "\n",
      "                         ACTUAL PROBLEM        SUPPORT TYPE  \\\n",
      "0                  Query about Packages       Phone Support   \n",
      "1                     now wire managed.  ONU status offline   \n",
      "2                  Account Status Query       Phone Support   \n",
      "3                Client wants Discount.        Desk Support   \n",
      "4  Low power level recorded [< -26 dbm]       Phone Support   \n",
      "\n",
      "      SOLVED COMMENT                                      combined_text  \\\n",
      "0      Not available  Accounts Related Issue Query about Packages.. ...   \n",
      "1  Phone Support CSR  No Internet Connection (FTTH) ONU status offli...   \n",
      "2              close  Accounts Related Issue Account Status Query.. ...   \n",
      "3               paid  Accounts Related Issue Client wants Discount.....   \n",
      "4      Not available  Slow Internet Connection (FTTH) Low power leve...   \n",
      "\n",
      "                               cleaned_combined_text  \n",
      "0  account related issue query packages.. query p...  \n",
      "1  internet connection (ftth) onu status offline....  \n",
      "2  account related issue account status query.. a...  \n",
      "3  account related issue client want discount... ...  \n",
      "4  slow internet connection (ftth) low power leve...  \n"
     ]
    }
   ],
   "source": [
    "import pandas as pd\n",
    "\n",
    "# Load the cleaned data CSV file into a pandas DataFrame\n",
    "file_path = 'cleaned_data.csv'  # Adjust this path if needed\n",
    "data = pd.read_csv(file_path)\n",
    "\n",
    "# Check the first few rows of the data to verify it's loaded correctly\n",
    "print(data.head())\n"
   ]
  },
  {
   "cell_type": "code",
   "execution_count": 52,
   "id": "7d53e25f-ae79-4265-a84d-f80515b7c4cd",
   "metadata": {},
   "outputs": [
    {
     "name": "stdout",
     "output_type": "stream",
     "text": [
      "Defaulting to user installation because normal site-packages is not writeable\n",
      "Requirement already satisfied: typing_extensions in c:\\users\\dell\\appdata\\roaming\\python\\python311\\site-packages (4.12.2)\n"
     ]
    },
    {
     "name": "stderr",
     "output_type": "stream",
     "text": [
      "\n",
      "[notice] A new release of pip is available: 23.3.2 -> 25.0.1\n",
      "[notice] To update, run: python.exe -m pip install --upgrade pip\n"
     ]
    }
   ],
   "source": [
    "!pip install --upgrade typing_extensions\n"
   ]
  },
  {
   "cell_type": "code",
   "execution_count": 53,
   "id": "65ad978f-0d81-4041-bb51-bb3a3a2d2e62",
   "metadata": {},
   "outputs": [
    {
     "name": "stdout",
     "output_type": "stream",
     "text": [
      "Defaulting to user installation because normal site-packages is not writeable\n",
      "Requirement already satisfied: torch in c:\\users\\dell\\appdata\\roaming\\python\\python311\\site-packages (2.6.0)\n",
      "Requirement already satisfied: filelock in c:\\users\\dell\\appdata\\roaming\\python\\python311\\site-packages (from torch) (3.17.0)\n",
      "Requirement already satisfied: typing-extensions>=4.10.0 in c:\\users\\dell\\appdata\\roaming\\python\\python311\\site-packages (from torch) (4.12.2)\n",
      "Requirement already satisfied: networkx in c:\\users\\dell\\appdata\\roaming\\python\\python311\\site-packages (from torch) (3.4.2)\n",
      "Requirement already satisfied: jinja2 in c:\\users\\dell\\appdata\\roaming\\python\\python311\\site-packages (from torch) (3.1.2)\n",
      "Requirement already satisfied: fsspec in c:\\users\\dell\\appdata\\roaming\\python\\python311\\site-packages (from torch) (2025.3.0)\n",
      "Requirement already satisfied: sympy==1.13.1 in c:\\users\\dell\\appdata\\roaming\\python\\python311\\site-packages (from torch) (1.13.1)\n",
      "Requirement already satisfied: mpmath<1.4,>=1.1.0 in c:\\users\\dell\\appdata\\roaming\\python\\python311\\site-packages (from sympy==1.13.1->torch) (1.3.0)\n",
      "Requirement already satisfied: MarkupSafe>=2.0 in c:\\users\\dell\\appdata\\roaming\\python\\python311\\site-packages (from jinja2->torch) (2.1.3)\n"
     ]
    },
    {
     "name": "stderr",
     "output_type": "stream",
     "text": [
      "\n",
      "[notice] A new release of pip is available: 23.3.2 -> 25.0.1\n",
      "[notice] To update, run: python.exe -m pip install --upgrade pip\n"
     ]
    }
   ],
   "source": [
    "!pip install torch\n"
   ]
  },
  {
   "cell_type": "code",
   "execution_count": 59,
   "id": "04047d3f-6956-4244-a78a-e33014a5023a",
   "metadata": {},
   "outputs": [
    {
     "name": "stdout",
     "output_type": "stream",
     "text": [
      "Defaulting to user installation because normal site-packages is not writeable\n",
      "Requirement already satisfied: typing_extensions in c:\\users\\dell\\appdata\\roaming\\python\\python311\\site-packages (4.12.2)\n"
     ]
    },
    {
     "name": "stderr",
     "output_type": "stream",
     "text": [
      "\n",
      "[notice] A new release of pip is available: 23.3.2 -> 25.0.1\n",
      "[notice] To update, run: python.exe -m pip install --upgrade pip\n"
     ]
    },
    {
     "name": "stdout",
     "output_type": "stream",
     "text": [
      "Defaulting to user installation because normal site-packages is not writeable\n",
      "Requirement already satisfied: torch in c:\\users\\dell\\appdata\\roaming\\python\\python311\\site-packages (2.6.0)\n",
      "Requirement already satisfied: filelock in c:\\users\\dell\\appdata\\roaming\\python\\python311\\site-packages (from torch) (3.17.0)\n",
      "Requirement already satisfied: typing-extensions>=4.10.0 in c:\\users\\dell\\appdata\\roaming\\python\\python311\\site-packages (from torch) (4.12.2)\n",
      "Requirement already satisfied: networkx in c:\\users\\dell\\appdata\\roaming\\python\\python311\\site-packages (from torch) (3.4.2)\n",
      "Requirement already satisfied: jinja2 in c:\\users\\dell\\appdata\\roaming\\python\\python311\\site-packages (from torch) (3.1.2)\n",
      "Requirement already satisfied: fsspec in c:\\users\\dell\\appdata\\roaming\\python\\python311\\site-packages (from torch) (2025.3.0)\n",
      "Requirement already satisfied: sympy==1.13.1 in c:\\users\\dell\\appdata\\roaming\\python\\python311\\site-packages (from torch) (1.13.1)\n",
      "Requirement already satisfied: mpmath<1.4,>=1.1.0 in c:\\users\\dell\\appdata\\roaming\\python\\python311\\site-packages (from sympy==1.13.1->torch) (1.3.0)\n",
      "Requirement already satisfied: MarkupSafe>=2.0 in c:\\users\\dell\\appdata\\roaming\\python\\python311\\site-packages (from jinja2->torch) (2.1.3)\n"
     ]
    },
    {
     "name": "stderr",
     "output_type": "stream",
     "text": [
      "\n",
      "[notice] A new release of pip is available: 23.3.2 -> 25.0.1\n",
      "[notice] To update, run: python.exe -m pip install --upgrade pip\n"
     ]
    }
   ],
   "source": [
    "!pip install --upgrade typing_extensions\n",
    "!pip install --upgrade torch\n"
   ]
  },
  {
   "cell_type": "code",
   "execution_count": 60,
   "id": "d1a92e59-6768-4798-9abf-6fba06ed4285",
   "metadata": {},
   "outputs": [
    {
     "name": "stdout",
     "output_type": "stream",
     "text": [
      "Defaulting to user installation because normal site-packages is not writeable\n",
      "Requirement already satisfied: pip in c:\\users\\dell\\appdata\\roaming\\python\\python311\\site-packages (23.3.2)\n",
      "Collecting pip\n",
      "  Downloading pip-25.0.1-py3-none-any.whl.metadata (3.7 kB)\n",
      "Downloading pip-25.0.1-py3-none-any.whl (1.8 MB)\n",
      "   ---------------------------------------- 0.0/1.8 MB ? eta -:--:--\n",
      "    --------------------------------------- 0.0/1.8 MB ? eta -:--:--\n",
      "   -- ------------------------------------- 0.1/1.8 MB 1.2 MB/s eta 0:00:02\n",
      "   ---- ----------------------------------- 0.2/1.8 MB 1.4 MB/s eta 0:00:02\n",
      "   ------ --------------------------------- 0.3/1.8 MB 1.7 MB/s eta 0:00:01\n",
      "   --------- ------------------------------ 0.4/1.8 MB 1.9 MB/s eta 0:00:01\n",
      "   ----------- ---------------------------- 0.5/1.8 MB 2.0 MB/s eta 0:00:01\n",
      "   ------------ --------------------------- 0.6/1.8 MB 1.9 MB/s eta 0:00:01\n",
      "   ------------------- -------------------- 0.9/1.8 MB 2.5 MB/s eta 0:00:01\n",
      "   ----------------------- ---------------- 1.1/1.8 MB 2.6 MB/s eta 0:00:01\n",
      "   ----------------------------- ---------- 1.4/1.8 MB 3.0 MB/s eta 0:00:01\n",
      "   -------------------------------- ------- 1.5/1.8 MB 3.1 MB/s eta 0:00:01\n",
      "   -------------------------------------- - 1.8/1.8 MB 3.2 MB/s eta 0:00:01\n",
      "   ---------------------------------------- 1.8/1.8 MB 3.2 MB/s eta 0:00:00\n",
      "Installing collected packages: pip\n",
      "  Attempting uninstall: pip\n",
      "    Found existing installation: pip 23.3.2\n",
      "    Uninstalling pip-23.3.2:\n",
      "      Successfully uninstalled pip-23.3.2\n",
      "Successfully installed pip-25.0.1\n"
     ]
    },
    {
     "name": "stderr",
     "output_type": "stream",
     "text": [
      "  WARNING: The scripts pip.exe, pip3.11.exe and pip3.exe are installed in 'C:\\Users\\Dell\\AppData\\Roaming\\Python\\Python311\\Scripts' which is not on PATH.\n",
      "  Consider adding this directory to PATH or, if you prefer to suppress this warning, use --no-warn-script-location.\n"
     ]
    }
   ],
   "source": [
    "!python -m pip install --upgrade pip\n"
   ]
  },
  {
   "cell_type": "code",
   "execution_count": 61,
   "id": "2a4f0a27-aeca-4868-a8fb-1fa955d5e8c4",
   "metadata": {},
   "outputs": [
    {
     "name": "stdout",
     "output_type": "stream",
     "text": [
      "Defaulting to user installation because normal site-packages is not writeable\n",
      "Requirement already satisfied: typing_extensions in c:\\users\\dell\\appdata\\roaming\\python\\python311\\site-packages (4.12.2)\n",
      "Defaulting to user installation because normal site-packages is not writeable\n",
      "Requirement already satisfied: torch in c:\\users\\dell\\appdata\\roaming\\python\\python311\\site-packages (2.6.0)\n",
      "Requirement already satisfied: filelock in c:\\users\\dell\\appdata\\roaming\\python\\python311\\site-packages (from torch) (3.17.0)\n",
      "Requirement already satisfied: typing-extensions>=4.10.0 in c:\\users\\dell\\appdata\\roaming\\python\\python311\\site-packages (from torch) (4.12.2)\n",
      "Requirement already satisfied: networkx in c:\\users\\dell\\appdata\\roaming\\python\\python311\\site-packages (from torch) (3.4.2)\n",
      "Requirement already satisfied: jinja2 in c:\\users\\dell\\appdata\\roaming\\python\\python311\\site-packages (from torch) (3.1.2)\n",
      "Requirement already satisfied: fsspec in c:\\users\\dell\\appdata\\roaming\\python\\python311\\site-packages (from torch) (2025.3.0)\n",
      "Requirement already satisfied: sympy==1.13.1 in c:\\users\\dell\\appdata\\roaming\\python\\python311\\site-packages (from torch) (1.13.1)\n",
      "Requirement already satisfied: mpmath<1.4,>=1.1.0 in c:\\users\\dell\\appdata\\roaming\\python\\python311\\site-packages (from sympy==1.13.1->torch) (1.3.0)\n",
      "Requirement already satisfied: MarkupSafe>=2.0 in c:\\users\\dell\\appdata\\roaming\\python\\python311\\site-packages (from jinja2->torch) (2.1.3)\n"
     ]
    }
   ],
   "source": [
    "!pip install --upgrade typing_extensions\n",
    "!pip install --upgrade torch\n"
   ]
  },
  {
   "cell_type": "code",
   "execution_count": 64,
   "id": "c93a1f64-ae1d-4963-97a3-bf022556cfba",
   "metadata": {},
   "outputs": [
    {
     "name": "stdout",
     "output_type": "stream",
     "text": [
      "Defaulting to user installation because normal site-packages is not writeable\n",
      "Note: you may need to restart the kernel to use updated packages.\n"
     ]
    },
    {
     "name": "stderr",
     "output_type": "stream",
     "text": [
      "ERROR: Could not find a version that satisfies the requirement torch==1.8.0 (from versions: 2.0.0, 2.0.1, 2.1.0, 2.1.1, 2.1.2, 2.2.0, 2.2.1, 2.2.2, 2.3.0, 2.3.1, 2.4.0, 2.4.1, 2.5.0, 2.5.1, 2.6.0)\n",
      "ERROR: No matching distribution found for torch==1.8.0\n"
     ]
    }
   ],
   "source": [
    "pip install torch==1.8.0 transformers==4.5.0\n"
   ]
  },
  {
   "cell_type": "code",
   "execution_count": 63,
   "id": "562048b3-6ee6-4324-bddf-1bb33fdb3004",
   "metadata": {},
   "outputs": [
    {
     "name": "stderr",
     "output_type": "stream",
     "text": [
      "C:\\Users\\Dell\\AppData\\Roaming\\Python\\Python311\\site-packages\\tqdm\\auto.py:21: TqdmWarning: IProgress not found. Please update jupyter and ipywidgets. See https://ipywidgets.readthedocs.io/en/stable/user_install.html\n",
      "  from .autonotebook import tqdm as notebook_tqdm\n"
     ]
    },
    {
     "ename": "ImportError",
     "evalue": "cannot import name 'TypeIs' from 'typing_extensions' (C:\\Users\\Dell\\AppData\\Roaming\\Python\\Python311\\site-packages\\typing_extensions.py)",
     "output_type": "error",
     "traceback": [
      "\u001b[1;31m---------------------------------------------------------------------------\u001b[0m",
      "\u001b[1;31mImportError\u001b[0m                               Traceback (most recent call last)",
      "Cell \u001b[1;32mIn[63], line 1\u001b[0m\n\u001b[1;32m----> 1\u001b[0m \u001b[38;5;28;01mfrom\u001b[39;00m \u001b[38;5;21;01mtransformers\u001b[39;00m \u001b[38;5;28;01mimport\u001b[39;00m BertTokenizer, BertModel\n\u001b[0;32m      2\u001b[0m \u001b[38;5;28;01mimport\u001b[39;00m \u001b[38;5;21;01mtorch\u001b[39;00m\n\u001b[0;32m      4\u001b[0m tokenizer \u001b[38;5;241m=\u001b[39m BertTokenizer\u001b[38;5;241m.\u001b[39mfrom_pretrained(\u001b[38;5;124m'\u001b[39m\u001b[38;5;124mbert-base-uncased\u001b[39m\u001b[38;5;124m'\u001b[39m)\n",
      "File \u001b[1;32m~\\AppData\\Roaming\\Python\\Python311\\site-packages\\transformers\\__init__.py:26\u001b[0m\n\u001b[0;32m     23\u001b[0m \u001b[38;5;28;01mfrom\u001b[39;00m \u001b[38;5;21;01mtyping\u001b[39;00m \u001b[38;5;28;01mimport\u001b[39;00m TYPE_CHECKING\n\u001b[0;32m     25\u001b[0m \u001b[38;5;66;03m# Check the dependencies satisfy the minimal versions required.\u001b[39;00m\n\u001b[1;32m---> 26\u001b[0m \u001b[38;5;28;01mfrom\u001b[39;00m \u001b[38;5;21;01m.\u001b[39;00m \u001b[38;5;28;01mimport\u001b[39;00m dependency_versions_check\n\u001b[0;32m     27\u001b[0m \u001b[38;5;28;01mfrom\u001b[39;00m \u001b[38;5;21;01m.\u001b[39;00m\u001b[38;5;21;01mutils\u001b[39;00m \u001b[38;5;28;01mimport\u001b[39;00m (\n\u001b[0;32m     28\u001b[0m     OptionalDependencyNotAvailable,\n\u001b[0;32m     29\u001b[0m     _LazyModule,\n\u001b[1;32m   (...)\u001b[0m\n\u001b[0;32m     48\u001b[0m     logging,\n\u001b[0;32m     49\u001b[0m )\n\u001b[0;32m     52\u001b[0m logger \u001b[38;5;241m=\u001b[39m logging\u001b[38;5;241m.\u001b[39mget_logger(\u001b[38;5;18m__name__\u001b[39m)  \u001b[38;5;66;03m# pylint: disable=invalid-name\u001b[39;00m\n",
      "File \u001b[1;32m~\\AppData\\Roaming\\Python\\Python311\\site-packages\\transformers\\dependency_versions_check.py:16\u001b[0m\n\u001b[0;32m      1\u001b[0m \u001b[38;5;66;03m# Copyright 2020 The HuggingFace Team. All rights reserved.\u001b[39;00m\n\u001b[0;32m      2\u001b[0m \u001b[38;5;66;03m#\u001b[39;00m\n\u001b[0;32m      3\u001b[0m \u001b[38;5;66;03m# Licensed under the Apache License, Version 2.0 (the \"License\");\u001b[39;00m\n\u001b[1;32m   (...)\u001b[0m\n\u001b[0;32m     12\u001b[0m \u001b[38;5;66;03m# See the License for the specific language governing permissions and\u001b[39;00m\n\u001b[0;32m     13\u001b[0m \u001b[38;5;66;03m# limitations under the License.\u001b[39;00m\n\u001b[0;32m     15\u001b[0m \u001b[38;5;28;01mfrom\u001b[39;00m \u001b[38;5;21;01m.\u001b[39;00m\u001b[38;5;21;01mdependency_versions_table\u001b[39;00m \u001b[38;5;28;01mimport\u001b[39;00m deps\n\u001b[1;32m---> 16\u001b[0m \u001b[38;5;28;01mfrom\u001b[39;00m \u001b[38;5;21;01m.\u001b[39;00m\u001b[38;5;21;01mutils\u001b[39;00m\u001b[38;5;21;01m.\u001b[39;00m\u001b[38;5;21;01mversions\u001b[39;00m \u001b[38;5;28;01mimport\u001b[39;00m require_version, require_version_core\n\u001b[0;32m     19\u001b[0m \u001b[38;5;66;03m# define which module versions we always want to check at run time\u001b[39;00m\n\u001b[0;32m     20\u001b[0m \u001b[38;5;66;03m# (usually the ones defined in `install_requires` in setup.py)\u001b[39;00m\n\u001b[0;32m     21\u001b[0m \u001b[38;5;66;03m#\u001b[39;00m\n\u001b[0;32m     22\u001b[0m \u001b[38;5;66;03m# order specific notes:\u001b[39;00m\n\u001b[0;32m     23\u001b[0m \u001b[38;5;66;03m# - tqdm must be checked before tokenizers\u001b[39;00m\n\u001b[0;32m     25\u001b[0m pkgs_to_check_at_runtime \u001b[38;5;241m=\u001b[39m [\n\u001b[0;32m     26\u001b[0m     \u001b[38;5;124m\"\u001b[39m\u001b[38;5;124mpython\u001b[39m\u001b[38;5;124m\"\u001b[39m,\n\u001b[0;32m     27\u001b[0m     \u001b[38;5;124m\"\u001b[39m\u001b[38;5;124mtqdm\u001b[39m\u001b[38;5;124m\"\u001b[39m,\n\u001b[1;32m   (...)\u001b[0m\n\u001b[0;32m     37\u001b[0m     \u001b[38;5;124m\"\u001b[39m\u001b[38;5;124mpyyaml\u001b[39m\u001b[38;5;124m\"\u001b[39m,\n\u001b[0;32m     38\u001b[0m ]\n",
      "File \u001b[1;32m~\\AppData\\Roaming\\Python\\Python311\\site-packages\\transformers\\utils\\__init__.py:27\u001b[0m\n\u001b[0;32m     25\u001b[0m \u001b[38;5;28;01mfrom\u001b[39;00m \u001b[38;5;21;01m.\u001b[39;00m\u001b[38;5;21;01m.\u001b[39;00m \u001b[38;5;28;01mimport\u001b[39;00m __version__\n\u001b[0;32m     26\u001b[0m \u001b[38;5;28;01mfrom\u001b[39;00m \u001b[38;5;21;01m.\u001b[39;00m\u001b[38;5;21;01mbackbone_utils\u001b[39;00m \u001b[38;5;28;01mimport\u001b[39;00m BackboneConfigMixin, BackboneMixin\n\u001b[1;32m---> 27\u001b[0m \u001b[38;5;28;01mfrom\u001b[39;00m \u001b[38;5;21;01m.\u001b[39;00m\u001b[38;5;21;01mchat_template_utils\u001b[39;00m \u001b[38;5;28;01mimport\u001b[39;00m DocstringParsingException, TypeHintParsingException, get_json_schema\n\u001b[0;32m     28\u001b[0m \u001b[38;5;28;01mfrom\u001b[39;00m \u001b[38;5;21;01m.\u001b[39;00m\u001b[38;5;21;01mconstants\u001b[39;00m \u001b[38;5;28;01mimport\u001b[39;00m IMAGENET_DEFAULT_MEAN, IMAGENET_DEFAULT_STD, IMAGENET_STANDARD_MEAN, IMAGENET_STANDARD_STD\n\u001b[0;32m     29\u001b[0m \u001b[38;5;28;01mfrom\u001b[39;00m \u001b[38;5;21;01m.\u001b[39;00m\u001b[38;5;21;01mdoc\u001b[39;00m \u001b[38;5;28;01mimport\u001b[39;00m (\n\u001b[0;32m     30\u001b[0m     add_code_sample_docstrings,\n\u001b[0;32m     31\u001b[0m     add_end_docstrings,\n\u001b[1;32m   (...)\u001b[0m\n\u001b[0;32m     35\u001b[0m     replace_return_docstrings,\n\u001b[0;32m     36\u001b[0m )\n",
      "File \u001b[1;32m~\\AppData\\Roaming\\Python\\Python311\\site-packages\\transformers\\utils\\chat_template_utils.py:40\u001b[0m\n\u001b[0;32m     37\u001b[0m     \u001b[38;5;28;01mfrom\u001b[39;00m \u001b[38;5;21;01mPIL\u001b[39;00m\u001b[38;5;21;01m.\u001b[39;00m\u001b[38;5;21;01mImage\u001b[39;00m \u001b[38;5;28;01mimport\u001b[39;00m Image\n\u001b[0;32m     39\u001b[0m \u001b[38;5;28;01mif\u001b[39;00m is_torch_available():\n\u001b[1;32m---> 40\u001b[0m     \u001b[38;5;28;01mfrom\u001b[39;00m \u001b[38;5;21;01mtorch\u001b[39;00m \u001b[38;5;28;01mimport\u001b[39;00m Tensor\n\u001b[0;32m     43\u001b[0m BASIC_TYPES \u001b[38;5;241m=\u001b[39m (\u001b[38;5;28mint\u001b[39m, \u001b[38;5;28mfloat\u001b[39m, \u001b[38;5;28mstr\u001b[39m, \u001b[38;5;28mbool\u001b[39m, Any, \u001b[38;5;28mtype\u001b[39m(\u001b[38;5;28;01mNone\u001b[39;00m), \u001b[38;5;241m.\u001b[39m\u001b[38;5;241m.\u001b[39m\u001b[38;5;241m.\u001b[39m)\n\u001b[0;32m     44\u001b[0m \u001b[38;5;66;03m# Extracts the initial segment of the docstring, containing the function description\u001b[39;00m\n",
      "File \u001b[1;32m~\\AppData\\Roaming\\Python\\Python311\\site-packages\\torch\\__init__.py:75\u001b[0m\n\u001b[0;32m     73\u001b[0m         typing_extensions\u001b[38;5;241m.\u001b[39mTypeIs \u001b[38;5;241m=\u001b[39m _TypeIs\n\u001b[0;32m     74\u001b[0m \u001b[38;5;28;01melse\u001b[39;00m:\n\u001b[1;32m---> 75\u001b[0m     \u001b[38;5;28;01mfrom\u001b[39;00m \u001b[38;5;21;01mtyping_extensions\u001b[39;00m \u001b[38;5;28;01mimport\u001b[39;00m TypeIs \u001b[38;5;28;01mas\u001b[39;00m _TypeIs\n\u001b[0;32m     77\u001b[0m     \u001b[38;5;28;01mfrom\u001b[39;00m \u001b[38;5;21;01mtorch\u001b[39;00m\u001b[38;5;21;01m.\u001b[39;00m\u001b[38;5;21;01mtorch_version\u001b[39;00m \u001b[38;5;28;01mimport\u001b[39;00m __version__ \u001b[38;5;28;01mas\u001b[39;00m __version__\n\u001b[0;32m     79\u001b[0m __all__ \u001b[38;5;241m=\u001b[39m [\n\u001b[0;32m     80\u001b[0m     \u001b[38;5;124m\"\u001b[39m\u001b[38;5;124mBoolStorage\u001b[39m\u001b[38;5;124m\"\u001b[39m,\n\u001b[0;32m     81\u001b[0m     \u001b[38;5;124m\"\u001b[39m\u001b[38;5;124mBoolTensor\u001b[39m\u001b[38;5;124m\"\u001b[39m,\n\u001b[1;32m   (...)\u001b[0m\n\u001b[0;32m    150\u001b[0m     \u001b[38;5;124m\"\u001b[39m\u001b[38;5;124mvmap\u001b[39m\u001b[38;5;124m\"\u001b[39m,\n\u001b[0;32m    151\u001b[0m ]\n",
      "\u001b[1;31mImportError\u001b[0m: cannot import name 'TypeIs' from 'typing_extensions' (C:\\Users\\Dell\\AppData\\Roaming\\Python\\Python311\\site-packages\\typing_extensions.py)"
     ]
    }
   ],
   "source": [
    "\n",
    "from transformers import BertTokenizer, BertModel\n",
    "import torch\n",
    "\n",
    "tokenizer = BertTokenizer.from_pretrained('bert-base-uncased')\n",
    "model = BertModel.from_pretrained('bert-base-uncased')\n",
    "\n",
    "# Prepare the text data from the cleaned_combined_text column\n",
    "texts = data['cleaned_combined_text'].tolist()\n",
    "\n",
    "# Tokenize and encode the texts for BERT\n",
    "inputs = tokenizer(texts, padding=True, truncation=True, return_tensors='pt', max_length=512)\n",
    "\n",
    "# Generate embeddings\n",
    "with torch.no_grad():\n",
    "    outputs = model(**inputs)\n",
    "embeddings = outputs.last_hidden_state[:, 0, :].detach().numpy()\n",
    "\n",
    "# Print out the shape of the embeddings to confirm they were created correctly\n",
    "print(f\"Shape of embeddings: {embeddings.shape}\")\n"
   ]
  },
  {
   "cell_type": "code",
   "execution_count": 65,
   "id": "768f6b54-43e5-4cb4-989b-e56371e7ba82",
   "metadata": {},
   "outputs": [
    {
     "name": "stdout",
     "output_type": "stream",
     "text": [
      "Failed to import TypeIs: cannot import name 'TypeIs' from 'typing_extensions' (C:\\Users\\Dell\\AppData\\Roaming\\Python\\Python311\\site-packages\\typing_extensions.py)\n",
      "Failed to import torch: cannot import name 'TypeIs' from 'typing_extensions' (C:\\Users\\Dell\\AppData\\Roaming\\Python\\Python311\\site-packages\\typing_extensions.py)\n",
      "Failed to import from transformers: cannot import name 'TypeIs' from 'typing_extensions' (C:\\Users\\Dell\\AppData\\Roaming\\Python\\Python311\\site-packages\\typing_extensions.py)\n"
     ]
    }
   ],
   "source": [
    "try:\n",
    "    from typing_extensions import TypeIs\n",
    "    print(\"Successfully imported TypeIs from typing_extensions.\")\n",
    "except ImportError as e:\n",
    "    print(f\"Failed to import TypeIs: {e}\")\n",
    "\n",
    "try:\n",
    "    import torch\n",
    "    print(\"Successfully imported torch.\")\n",
    "except ImportError as e:\n",
    "    print(f\"Failed to import torch: {e}\")\n",
    "\n",
    "try:\n",
    "    from transformers import BertTokenizer, BertModel\n",
    "    print(\"Successfully imported BertTokenizer and BertModel from transformers.\")\n",
    "except ImportError as e:\n",
    "    print(f\"Failed to import from transformers: {e}\")\n"
   ]
  }
 ],
 "metadata": {
  "kernelspec": {
   "display_name": "Python 3 (ipykernel)",
   "language": "python",
   "name": "python3"
  },
  "language_info": {
   "codemirror_mode": {
    "name": "ipython",
    "version": 3
   },
   "file_extension": ".py",
   "mimetype": "text/x-python",
   "name": "python",
   "nbconvert_exporter": "python",
   "pygments_lexer": "ipython3",
   "version": "3.11.4"
  }
 },
 "nbformat": 4,
 "nbformat_minor": 5
}
